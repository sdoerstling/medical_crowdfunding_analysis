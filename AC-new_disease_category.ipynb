{
 "cells": [
  {
   "cell_type": "markdown",
   "metadata": {},
   "source": [
    "# Import tools and data"
   ]
  },
  {
   "cell_type": "markdown",
   "metadata": {},
   "source": [
    "### Import packages"
   ]
  },
  {
   "cell_type": "code",
   "execution_count": 1,
   "metadata": {},
   "outputs": [],
   "source": [
    "import pandas as pd\n",
    "import glob\n",
    "import numpy as np\n",
    "import json\n",
    "import sqlite3\n",
    "import re\n",
    "from sklearn.metrics import recall_score, precision_score, f1_score, accuracy_score"
   ]
  },
  {
   "cell_type": "markdown",
   "metadata": {},
   "source": [
    "### Import utilities"
   ]
  },
  {
   "cell_type": "code",
   "execution_count": 2,
   "metadata": {},
   "outputs": [],
   "source": [
    "import sys\n",
    "sys.path.append('../src/')\n",
    "import utils\n",
    "\n",
    "z_recode_stems = utils.z_recode_stems\n",
    "Recode_z = utils.Recode_z\n",
    "most_common = utils.most_common"
   ]
  },
  {
   "cell_type": "markdown",
   "metadata": {},
   "source": [
    "### Import data"
   ]
  },
  {
   "cell_type": "code",
   "execution_count": 3,
   "metadata": {},
   "outputs": [],
   "source": [
    "#master data for reference\n",
    "conn = sqlite3.connect(\"../data/db/gfm.db\")\n",
    "master = pd.read_sql_query(\"SELECT url,fund_description FROM master\", conn)"
   ]
  },
  {
   "cell_type": "code",
   "execution_count": 4,
   "metadata": {},
   "outputs": [],
   "source": [
    "#disease hierarchy\n",
    "ccsr = pd.read_csv('../data/ccsr/disease_hierarchy.csv')"
   ]
  },
  {
   "cell_type": "code",
   "execution_count": 5,
   "metadata": {},
   "outputs": [],
   "source": [
    "#categorization outout\n",
    "path = '../data/disease_categorization/output_new' \n",
    "all_files = glob.glob(path + \"/*.csv\")\n",
    "\n",
    "li = []\n",
    "\n",
    "for filename in all_files:\n",
    "    df = pd.read_csv(filename)\n",
    "    li.append(df)\n",
    "\n",
    "er = pd.concat(li, axis=0, ignore_index=True)"
   ]
  },
  {
   "cell_type": "code",
   "execution_count": 6,
   "metadata": {},
   "outputs": [],
   "source": [
    "#categorization output deidentification map\n",
    "deid = pd.read_csv('../data/disease_categorization/url_deid_map.csv')"
   ]
  },
  {
   "cell_type": "code",
   "execution_count": 7,
   "metadata": {},
   "outputs": [],
   "source": [
    "#categorization output, additional campaigns\n",
    "more = pd.read_csv('../data/disease_categorization/more_for_spark_output.csv')"
   ]
  },
  {
   "cell_type": "code",
   "execution_count": 8,
   "metadata": {},
   "outputs": [],
   "source": [
    "#manually labeled reference\n",
    "#ref = pd.read_csv('../data/disease_categorization/evaluation/reference_set_any_pivot.csv')\n",
    "ref = pd.read_csv('../data/disease_categorization/evaluation/final_reference.csv')"
   ]
  },
  {
   "cell_type": "markdown",
   "metadata": {},
   "source": [
    "# Clean data"
   ]
  },
  {
   "cell_type": "markdown",
   "metadata": {},
   "source": [
    "### Clean categorization output"
   ]
  },
  {
   "cell_type": "markdown",
   "metadata": {},
   "source": [
    "#### Re-identify campaigns"
   ]
  },
  {
   "cell_type": "code",
   "execution_count": 9,
   "metadata": {},
   "outputs": [],
   "source": [
    "deid['url_deid'] = deid['url_deid'].astype(int)\n",
    "er['url'] = er['url'].astype(int)\n",
    "er = er.merge(deid, left_on='url', right_on='url_deid', how='left')\n",
    "er = er[['url_y','chunks','begin','end','sent','code','results','resolutions','res_distances']]\n",
    "er = er.rename(columns = {'url_y':'url', 'code':'entity_code'})"
   ]
  },
  {
   "cell_type": "markdown",
   "metadata": {},
   "source": [
    "#### Add additional campaigns"
   ]
  },
  {
   "cell_type": "code",
   "execution_count": 10,
   "metadata": {},
   "outputs": [],
   "source": [
    "more.rename(columns={'code':'entity_code'},inplace=True)"
   ]
  },
  {
   "cell_type": "code",
   "execution_count": 11,
   "metadata": {},
   "outputs": [],
   "source": [
    "er = pd.concat([er, more], axis=0)"
   ]
  },
  {
   "cell_type": "markdown",
   "metadata": {},
   "source": [
    "### Were any campaigns from master data not subjected to disease categorization?"
   ]
  },
  {
   "cell_type": "code",
   "execution_count": 12,
   "metadata": {},
   "outputs": [],
   "source": [
    "more_input = pd.read_csv('../data/disease_categorization/more_for_spark.csv')"
   ]
  },
  {
   "cell_type": "code",
   "execution_count": 13,
   "metadata": {},
   "outputs": [],
   "source": [
    "urls = deid['url'].tolist() + more_input['url'].tolist()"
   ]
  },
  {
   "cell_type": "code",
   "execution_count": 15,
   "metadata": {},
   "outputs": [
    {
     "name": "stdout",
     "output_type": "stream",
     "text": [
      "all done\n"
     ]
    }
   ],
   "source": [
    "#takes a little while\n",
    "for url in master['url']:\n",
    "    if url in urls:\n",
    "        continue\n",
    "    else:\n",
    "        print(url)\n",
    "print('all done')"
   ]
  },
  {
   "cell_type": "markdown",
   "metadata": {},
   "source": [
    "All campaigns from master data were subjected to disease categorization"
   ]
  },
  {
   "cell_type": "markdown",
   "metadata": {},
   "source": [
    "### Were any campaigns from reference data not subjected to disease categorization"
   ]
  },
  {
   "cell_type": "code",
   "execution_count": 16,
   "metadata": {},
   "outputs": [
    {
     "name": "stdout",
     "output_type": "stream",
     "text": [
      "https://www.gofundme.com/f/evp227-fernando-diaz\n",
      "all done\n"
     ]
    }
   ],
   "source": [
    "for url in ref['url']:\n",
    "    if url in urls:\n",
    "        continue\n",
    "    else:\n",
    "        print(url)\n",
    "print('all done')"
   ]
  },
  {
   "cell_type": "markdown",
   "metadata": {},
   "source": [
    "One campaign is not included in reference data."
   ]
  },
  {
   "cell_type": "markdown",
   "metadata": {},
   "source": [
    "### Subset ER data"
   ]
  },
  {
   "cell_type": "code",
   "execution_count": 17,
   "metadata": {},
   "outputs": [],
   "source": [
    "er = er[er['url'].isin(master['url'].tolist())]"
   ]
  },
  {
   "cell_type": "markdown",
   "metadata": {},
   "source": [
    "### Inspect data"
   ]
  },
  {
   "cell_type": "code",
   "execution_count": 18,
   "metadata": {},
   "outputs": [
    {
     "data": {
      "text/html": [
       "<div>\n",
       "<style scoped>\n",
       "    .dataframe tbody tr th:only-of-type {\n",
       "        vertical-align: middle;\n",
       "    }\n",
       "\n",
       "    .dataframe tbody tr th {\n",
       "        vertical-align: top;\n",
       "    }\n",
       "\n",
       "    .dataframe thead th {\n",
       "        text-align: right;\n",
       "    }\n",
       "</style>\n",
       "<table border=\"1\" class=\"dataframe\">\n",
       "  <thead>\n",
       "    <tr style=\"text-align: right;\">\n",
       "      <th></th>\n",
       "      <th>url</th>\n",
       "      <th>chunks</th>\n",
       "      <th>begin</th>\n",
       "      <th>end</th>\n",
       "      <th>sent</th>\n",
       "      <th>entity_code</th>\n",
       "      <th>results</th>\n",
       "      <th>resolutions</th>\n",
       "      <th>res_distances</th>\n",
       "    </tr>\n",
       "  </thead>\n",
       "  <tbody>\n",
       "    <tr>\n",
       "      <th>0</th>\n",
       "      <td>https://www.gofundme.com/f/sandi-rustad</td>\n",
       "      <td>Metaplastic breast cancer</td>\n",
       "      <td>33.0</td>\n",
       "      <td>57.0</td>\n",
       "      <td>0</td>\n",
       "      <td>C5091</td>\n",
       "      <td>C5091:::C5092:::C509:::C5061:::C4352:::C5041::...</td>\n",
       "      <td>metaplastic carcinoma of breast:::metaplastic ...</td>\n",
       "      <td>5.5764:::6.6196:::7.2053:::7.4696:::7.4981:::7...</td>\n",
       "    </tr>\n",
       "    <tr>\n",
       "      <th>1</th>\n",
       "      <td>https://www.gofundme.com/f/sandi-rustad</td>\n",
       "      <td>cancer</td>\n",
       "      <td>103.0</td>\n",
       "      <td>108.0</td>\n",
       "      <td>1</td>\n",
       "      <td>C801</td>\n",
       "      <td>C801:::C569:::Z809:::C809:::C800:::D099:::Z859...</td>\n",
       "      <td>cancer:::generalized cancer:::fh: cancer - *::...</td>\n",
       "      <td>0.0000:::7.5123:::7.7614:::8.1281:::8.1928:::8...</td>\n",
       "    </tr>\n",
       "    <tr>\n",
       "      <th>2</th>\n",
       "      <td>https://www.gofundme.com/f/lktjl0</td>\n",
       "      <td>brain cancer</td>\n",
       "      <td>44.0</td>\n",
       "      <td>55.0</td>\n",
       "      <td>0</td>\n",
       "      <td>D496</td>\n",
       "      <td>D496:::C710:::C793:::D432:::C718:::C719:::C717...</td>\n",
       "      <td>brain tumor:::carcinoma of brain:::secondary c...</td>\n",
       "      <td>7.1362:::7.1587:::7.8662:::7.9386:::8.8884:::9...</td>\n",
       "    </tr>\n",
       "    <tr>\n",
       "      <th>3</th>\n",
       "      <td>https://www.gofundme.com/f/lktjl0</td>\n",
       "      <td>Cancer</td>\n",
       "      <td>349.0</td>\n",
       "      <td>354.0</td>\n",
       "      <td>5</td>\n",
       "      <td>C801</td>\n",
       "      <td>C801:::Z809:::Z859:::C800:::C569:::Z129:::C809...</td>\n",
       "      <td>cancer:::fh: cancer - *:::h/o: cancer:::ca - m...</td>\n",
       "      <td>5.4193:::7.1018:::8.0088:::8.3601:::8.4044:::9...</td>\n",
       "    </tr>\n",
       "    <tr>\n",
       "      <th>4</th>\n",
       "      <td>https://www.gofundme.com/f/lktjl0</td>\n",
       "      <td>cancer</td>\n",
       "      <td>479.0</td>\n",
       "      <td>484.0</td>\n",
       "      <td>7</td>\n",
       "      <td>C801</td>\n",
       "      <td>C801:::C569:::Z809:::C809:::C800:::D099:::Z859...</td>\n",
       "      <td>cancer:::generalized cancer:::fh: cancer - *::...</td>\n",
       "      <td>0.0000:::7.5123:::7.7614:::8.1281:::8.1928:::8...</td>\n",
       "    </tr>\n",
       "  </tbody>\n",
       "</table>\n",
       "</div>"
      ],
      "text/plain": [
       "                                       url                     chunks  begin  \\\n",
       "0  https://www.gofundme.com/f/sandi-rustad  Metaplastic breast cancer   33.0   \n",
       "1  https://www.gofundme.com/f/sandi-rustad                     cancer  103.0   \n",
       "2        https://www.gofundme.com/f/lktjl0               brain cancer   44.0   \n",
       "3        https://www.gofundme.com/f/lktjl0                     Cancer  349.0   \n",
       "4        https://www.gofundme.com/f/lktjl0                     cancer  479.0   \n",
       "\n",
       "     end  sent entity_code                                            results  \\\n",
       "0   57.0     0       C5091  C5091:::C5092:::C509:::C5061:::C4352:::C5041::...   \n",
       "1  108.0     1        C801  C801:::C569:::Z809:::C809:::C800:::D099:::Z859...   \n",
       "2   55.0     0        D496  D496:::C710:::C793:::D432:::C718:::C719:::C717...   \n",
       "3  354.0     5        C801  C801:::Z809:::Z859:::C800:::C569:::Z129:::C809...   \n",
       "4  484.0     7        C801  C801:::C569:::Z809:::C809:::C800:::D099:::Z859...   \n",
       "\n",
       "                                         resolutions  \\\n",
       "0  metaplastic carcinoma of breast:::metaplastic ...   \n",
       "1  cancer:::generalized cancer:::fh: cancer - *::...   \n",
       "2  brain tumor:::carcinoma of brain:::secondary c...   \n",
       "3  cancer:::fh: cancer - *:::h/o: cancer:::ca - m...   \n",
       "4  cancer:::generalized cancer:::fh: cancer - *::...   \n",
       "\n",
       "                                       res_distances  \n",
       "0  5.5764:::6.6196:::7.2053:::7.4696:::7.4981:::7...  \n",
       "1  0.0000:::7.5123:::7.7614:::8.1281:::8.1928:::8...  \n",
       "2  7.1362:::7.1587:::7.8662:::7.9386:::8.8884:::9...  \n",
       "3  5.4193:::7.1018:::8.0088:::8.3601:::8.4044:::9...  \n",
       "4  0.0000:::7.5123:::7.7614:::8.1281:::8.1928:::8...  "
      ]
     },
     "execution_count": 18,
     "metadata": {},
     "output_type": "execute_result"
    }
   ],
   "source": [
    "er.head()"
   ]
  },
  {
   "cell_type": "code",
   "execution_count": 19,
   "metadata": {},
   "outputs": [
    {
     "data": {
      "text/plain": [
       "(272722, 9)"
      ]
     },
     "execution_count": 19,
     "metadata": {},
     "output_type": "execute_result"
    }
   ],
   "source": [
    "er.shape"
   ]
  },
  {
   "cell_type": "code",
   "execution_count": 20,
   "metadata": {},
   "outputs": [
    {
     "name": "stdout",
     "output_type": "stream",
     "text": [
      "6555\n"
     ]
    }
   ],
   "source": [
    "unique_codes_n = er['entity_code'].nunique()\n",
    "print(unique_codes_n)"
   ]
  },
  {
   "cell_type": "code",
   "execution_count": 21,
   "metadata": {},
   "outputs": [
    {
     "name": "stdout",
     "output_type": "stream",
     "text": [
      "74256\n"
     ]
    }
   ],
   "source": [
    "unique_urls_n = er['url'].nunique()\n",
    "print(unique_urls_n)"
   ]
  },
  {
   "cell_type": "markdown",
   "metadata": {},
   "source": [
    "### Recode \"family/personal history of\" codes (start with Z80 to Z87) and recode to second code in results"
   ]
  },
  {
   "cell_type": "code",
   "execution_count": 22,
   "metadata": {},
   "outputs": [],
   "source": [
    "# #takes a little while\n",
    "# recode_fh_map = Recode_z(er, z_recode_stems)"
   ]
  },
  {
   "cell_type": "code",
   "execution_count": 23,
   "metadata": {},
   "outputs": [],
   "source": [
    "# #find the most common remapping and use that\n",
    "# recode_fh_map_lofd = pd.DataFrame(recode_fh_map).groupby('code').agg(lambda x: most_common(list(x))).reset_index().to_dict(orient='records')\n",
    "\n",
    "# recode_fh_map_dict = {}\n",
    "# for d in recode_fh_map_lofd:\n",
    "#     recode_fh_map_dict[d['code']] = d['res']"
   ]
  },
  {
   "cell_type": "code",
   "execution_count": 24,
   "metadata": {},
   "outputs": [],
   "source": [
    "# z_to_recode = [k for k,v in recode_fh_map_dict.items()]\n",
    "# unique_z_recoded_n = pd.Series(er['entity_code'].unique()).isin(z_to_recode).sum()\n",
    "# print(unique_z_recoded_n)\n",
    "# print(unique_z_recoded_n/unique_codes_n)"
   ]
  },
  {
   "cell_type": "code",
   "execution_count": 25,
   "metadata": {},
   "outputs": [],
   "source": [
    "# #replace values\n",
    "# er['entity_code'].replace(recode_fh_map_dict, inplace=True)"
   ]
  },
  {
   "cell_type": "markdown",
   "metadata": {},
   "source": [
    "### Recode autism\n",
    "\n",
    "\"resolutions\" column is correct, but the ICD code does not seem correct"
   ]
  },
  {
   "cell_type": "code",
   "execution_count": 26,
   "metadata": {},
   "outputs": [
    {
     "data": {
      "text/html": [
       "<div>\n",
       "<style scoped>\n",
       "    .dataframe tbody tr th:only-of-type {\n",
       "        vertical-align: middle;\n",
       "    }\n",
       "\n",
       "    .dataframe tbody tr th {\n",
       "        vertical-align: top;\n",
       "    }\n",
       "\n",
       "    .dataframe thead th {\n",
       "        text-align: right;\n",
       "    }\n",
       "</style>\n",
       "<table border=\"1\" class=\"dataframe\">\n",
       "  <thead>\n",
       "    <tr style=\"text-align: right;\">\n",
       "      <th></th>\n",
       "      <th>url</th>\n",
       "      <th>chunks</th>\n",
       "      <th>begin</th>\n",
       "      <th>end</th>\n",
       "      <th>sent</th>\n",
       "      <th>entity_code</th>\n",
       "      <th>results</th>\n",
       "      <th>resolutions</th>\n",
       "      <th>res_distances</th>\n",
       "    </tr>\n",
       "  </thead>\n",
       "  <tbody>\n",
       "    <tr>\n",
       "      <th>1308</th>\n",
       "      <td>https://www.gofundme.com/f/6u7abs</td>\n",
       "      <td>autism</td>\n",
       "      <td>704.0</td>\n",
       "      <td>709.0</td>\n",
       "      <td>7</td>\n",
       "      <td>G4090</td>\n",
       "      <td>G4090:::Z134:::Q9389:::F849:::R4189:::E7119:::...</td>\n",
       "      <td>autism:::suspected autism:::autism disorder:::...</td>\n",
       "      <td>0.0000:::6.6234:::6.8922:::8.0960:::8.4410:::8...</td>\n",
       "    </tr>\n",
       "    <tr>\n",
       "      <th>4524</th>\n",
       "      <td>https://www.gofundme.com/f/JPHaigler</td>\n",
       "      <td>autism</td>\n",
       "      <td>583.0</td>\n",
       "      <td>588.0</td>\n",
       "      <td>7</td>\n",
       "      <td>G4090</td>\n",
       "      <td>G4090:::Z134:::Q9389:::F849:::R4189:::E7119:::...</td>\n",
       "      <td>autism:::suspected autism:::autism disorder:::...</td>\n",
       "      <td>0.0000:::6.6234:::6.8922:::8.0960:::8.4410:::8...</td>\n",
       "    </tr>\n",
       "    <tr>\n",
       "      <th>6833</th>\n",
       "      <td>https://www.gofundme.com/f/jane-brogan</td>\n",
       "      <td>autism</td>\n",
       "      <td>1056.0</td>\n",
       "      <td>1061.0</td>\n",
       "      <td>11</td>\n",
       "      <td>G4090</td>\n",
       "      <td>G4090:::Z134:::Q9389:::F849:::R4189:::E7119:::...</td>\n",
       "      <td>autism:::suspected autism:::autism disorder:::...</td>\n",
       "      <td>0.0000:::6.6234:::6.8922:::8.0960:::8.4410:::8...</td>\n",
       "    </tr>\n",
       "    <tr>\n",
       "      <th>7020</th>\n",
       "      <td>https://www.gofundme.com/f/BrinleysBuddy</td>\n",
       "      <td>autism</td>\n",
       "      <td>775.0</td>\n",
       "      <td>780.0</td>\n",
       "      <td>11</td>\n",
       "      <td>G4090</td>\n",
       "      <td>G4090:::Z134:::Q9389:::F849:::R4189:::E7119:::...</td>\n",
       "      <td>autism:::suspected autism:::autism disorder:::...</td>\n",
       "      <td>0.0000:::6.6234:::6.8922:::8.0960:::8.4410:::8...</td>\n",
       "    </tr>\n",
       "    <tr>\n",
       "      <th>7869</th>\n",
       "      <td>https://www.gofundme.com/f/z44yr2ms</td>\n",
       "      <td>autism</td>\n",
       "      <td>3094.0</td>\n",
       "      <td>3099.0</td>\n",
       "      <td>32</td>\n",
       "      <td>G4090</td>\n",
       "      <td>G4090:::Z134:::Q9389:::F849:::R4189:::E7119:::...</td>\n",
       "      <td>autism:::suspected autism:::autism disorder:::...</td>\n",
       "      <td>0.0000:::6.6234:::6.8922:::8.0960:::8.4410:::8...</td>\n",
       "    </tr>\n",
       "  </tbody>\n",
       "</table>\n",
       "</div>"
      ],
      "text/plain": [
       "                                           url  chunks   begin     end  sent  \\\n",
       "1308         https://www.gofundme.com/f/6u7abs  autism   704.0   709.0     7   \n",
       "4524      https://www.gofundme.com/f/JPHaigler  autism   583.0   588.0     7   \n",
       "6833    https://www.gofundme.com/f/jane-brogan  autism  1056.0  1061.0    11   \n",
       "7020  https://www.gofundme.com/f/BrinleysBuddy  autism   775.0   780.0    11   \n",
       "7869       https://www.gofundme.com/f/z44yr2ms  autism  3094.0  3099.0    32   \n",
       "\n",
       "     entity_code                                            results  \\\n",
       "1308       G4090  G4090:::Z134:::Q9389:::F849:::R4189:::E7119:::...   \n",
       "4524       G4090  G4090:::Z134:::Q9389:::F849:::R4189:::E7119:::...   \n",
       "6833       G4090  G4090:::Z134:::Q9389:::F849:::R4189:::E7119:::...   \n",
       "7020       G4090  G4090:::Z134:::Q9389:::F849:::R4189:::E7119:::...   \n",
       "7869       G4090  G4090:::Z134:::Q9389:::F849:::R4189:::E7119:::...   \n",
       "\n",
       "                                            resolutions  \\\n",
       "1308  autism:::suspected autism:::autism disorder:::...   \n",
       "4524  autism:::suspected autism:::autism disorder:::...   \n",
       "6833  autism:::suspected autism:::autism disorder:::...   \n",
       "7020  autism:::suspected autism:::autism disorder:::...   \n",
       "7869  autism:::suspected autism:::autism disorder:::...   \n",
       "\n",
       "                                          res_distances  \n",
       "1308  0.0000:::6.6234:::6.8922:::8.0960:::8.4410:::8...  \n",
       "4524  0.0000:::6.6234:::6.8922:::8.0960:::8.4410:::8...  \n",
       "6833  0.0000:::6.6234:::6.8922:::8.0960:::8.4410:::8...  \n",
       "7020  0.0000:::6.6234:::6.8922:::8.0960:::8.4410:::8...  \n",
       "7869  0.0000:::6.6234:::6.8922:::8.0960:::8.4410:::8...  "
      ]
     },
     "execution_count": 26,
     "metadata": {},
     "output_type": "execute_result"
    }
   ],
   "source": [
    "er[er['chunks'].str.contains('autism')].head()"
   ]
  },
  {
   "cell_type": "code",
   "execution_count": 27,
   "metadata": {},
   "outputs": [],
   "source": [
    "er.loc[er['chunks'].str.lower().str.contains('autism'),'entity_code'] = 'F840'\n",
    "er.loc[er['chunks'].str.lower().str.contains('autistic'),'entity_code'] = 'F840'"
   ]
  },
  {
   "cell_type": "markdown",
   "metadata": {},
   "source": [
    "### Match ICD codes from entity resolution with categories from CCSR"
   ]
  },
  {
   "cell_type": "code",
   "execution_count": 28,
   "metadata": {},
   "outputs": [],
   "source": [
    "raw_codes = er['entity_code'].unique().tolist()"
   ]
  },
  {
   "cell_type": "code",
   "execution_count": 29,
   "metadata": {},
   "outputs": [],
   "source": [
    "ccsr_codes = ccsr['icd_10_cm_code'].tolist()"
   ]
  },
  {
   "cell_type": "code",
   "execution_count": 30,
   "metadata": {},
   "outputs": [],
   "source": [
    "def StemCode(code, ccsr):\n",
    "    res = 0\n",
    "    while res == 0:\n",
    "        sub = ccsr[ccsr['icd_10_cm_code'].str.startswith(code)]\n",
    "        res = sub.shape[0]\n",
    "        if res > 0:\n",
    "            cats = sub['ccsr_category'].value_counts().index[0]\n",
    "            return code, cats\n",
    "        else:\n",
    "            code = code[:-1]\n",
    "            if len(code) == 0:\n",
    "                print('error - no code stem')\n",
    "                return np.nan, np.nan"
   ]
  },
  {
   "cell_type": "code",
   "execution_count": 31,
   "metadata": {},
   "outputs": [],
   "source": [
    "def GetCodeMatch(raw_codes, ccsr_codes, ccsr):\n",
    "\n",
    "    #define results container for best match\n",
    "    best_match = []\n",
    "\n",
    "    #loop through raw codes\n",
    "    for raw in raw_codes:\n",
    "        #if raw code exists in CCSR as-is\n",
    "        if raw in ccsr_codes:\n",
    "            #no need to define best match as exact match already exists\n",
    "            continue\n",
    "        else:\n",
    "            #see if there are any codes that start with code\n",
    "            #if not, remove final character, try again\n",
    "            #once codes are found, select the ccsr_cateogry that is most common\n",
    "            matched_code, ccsr_cat = StemCode(raw, ccsr)\n",
    "            best_match.append({'raw_code':raw, 'matched_code_stem':matched_code,'matched_ccsr_category':ccsr_cat})\n",
    "\n",
    "    return best_match"
   ]
  },
  {
   "cell_type": "code",
   "execution_count": 32,
   "metadata": {},
   "outputs": [
    {
     "name": "stdout",
     "output_type": "stream",
     "text": [
      "error - no code stem\n",
      "error - no code stem\n"
     ]
    }
   ],
   "source": [
    "#takes a little while\n",
    "best_match_map = GetCodeMatch(raw_codes, ccsr_codes, ccsr)"
   ]
  },
  {
   "cell_type": "code",
   "execution_count": 33,
   "metadata": {},
   "outputs": [],
   "source": [
    "best_match_map = pd.DataFrame(best_match_map).merge(ccsr[['ccsr_category','disease_category']].drop_duplicates('ccsr_category'), \n",
    "                                                    left_on='matched_ccsr_category', \n",
    "                                                    right_on='ccsr_category', \n",
    "                                                    how='left')"
   ]
  },
  {
   "cell_type": "code",
   "execution_count": 34,
   "metadata": {},
   "outputs": [
    {
     "data": {
      "text/html": [
       "<div>\n",
       "<style scoped>\n",
       "    .dataframe tbody tr th:only-of-type {\n",
       "        vertical-align: middle;\n",
       "    }\n",
       "\n",
       "    .dataframe tbody tr th {\n",
       "        vertical-align: top;\n",
       "    }\n",
       "\n",
       "    .dataframe thead th {\n",
       "        text-align: right;\n",
       "    }\n",
       "</style>\n",
       "<table border=\"1\" class=\"dataframe\">\n",
       "  <thead>\n",
       "    <tr style=\"text-align: right;\">\n",
       "      <th></th>\n",
       "      <th>raw_code</th>\n",
       "      <th>matched_code_stem</th>\n",
       "      <th>matched_ccsr_category</th>\n",
       "      <th>ccsr_category</th>\n",
       "      <th>disease_category</th>\n",
       "    </tr>\n",
       "  </thead>\n",
       "  <tbody>\n",
       "    <tr>\n",
       "      <th>1668</th>\n",
       "      <td>d430</td>\n",
       "      <td>NaN</td>\n",
       "      <td>NaN</td>\n",
       "      <td>NaN</td>\n",
       "      <td>NaN</td>\n",
       "    </tr>\n",
       "    <tr>\n",
       "      <th>2285</th>\n",
       "      <td>q878</td>\n",
       "      <td>NaN</td>\n",
       "      <td>NaN</td>\n",
       "      <td>NaN</td>\n",
       "      <td>NaN</td>\n",
       "    </tr>\n",
       "  </tbody>\n",
       "</table>\n",
       "</div>"
      ],
      "text/plain": [
       "     raw_code matched_code_stem matched_ccsr_category ccsr_category  \\\n",
       "1668     d430               NaN                   NaN           NaN   \n",
       "2285     q878               NaN                   NaN           NaN   \n",
       "\n",
       "     disease_category  \n",
       "1668              NaN  \n",
       "2285              NaN  "
      ]
     },
     "execution_count": 34,
     "metadata": {},
     "output_type": "execute_result"
    }
   ],
   "source": [
    "#inspect code n=2 stem errors\n",
    "best_match_map[best_match_map['matched_code_stem'].isna()]"
   ]
  },
  {
   "cell_type": "code",
   "execution_count": 35,
   "metadata": {},
   "outputs": [
    {
     "data": {
      "text/html": [
       "<div>\n",
       "<style scoped>\n",
       "    .dataframe tbody tr th:only-of-type {\n",
       "        vertical-align: middle;\n",
       "    }\n",
       "\n",
       "    .dataframe tbody tr th {\n",
       "        vertical-align: top;\n",
       "    }\n",
       "\n",
       "    .dataframe thead th {\n",
       "        text-align: right;\n",
       "    }\n",
       "</style>\n",
       "<table border=\"1\" class=\"dataframe\">\n",
       "  <thead>\n",
       "    <tr style=\"text-align: right;\">\n",
       "      <th></th>\n",
       "      <th>url</th>\n",
       "      <th>chunks</th>\n",
       "      <th>begin</th>\n",
       "      <th>end</th>\n",
       "      <th>sent</th>\n",
       "      <th>entity_code</th>\n",
       "      <th>results</th>\n",
       "      <th>resolutions</th>\n",
       "      <th>res_distances</th>\n",
       "    </tr>\n",
       "  </thead>\n",
       "  <tbody>\n",
       "    <tr>\n",
       "      <th>77811</th>\n",
       "      <td>https://www.gofundme.com/f/2fubvk4</td>\n",
       "      <td>tumors on Linda's brain</td>\n",
       "      <td>2099.0</td>\n",
       "      <td>2121.0</td>\n",
       "      <td>34</td>\n",
       "      <td>d430</td>\n",
       "      <td>d430:::D331:::D432:::D497:::C710:::C719:::D239...</td>\n",
       "      <td>tumor of hypothalamus:::cerebellopontine angle...</td>\n",
       "      <td>9.7123:::9.8830:::9.9242:::9.9815:::10.0045:::...</td>\n",
       "    </tr>\n",
       "    <tr>\n",
       "      <th>108687</th>\n",
       "      <td>https://www.gofundme.com/f/qggaeey8</td>\n",
       "      <td>tumors of the hypothalamus</td>\n",
       "      <td>152.0</td>\n",
       "      <td>177.0</td>\n",
       "      <td>1</td>\n",
       "      <td>d430</td>\n",
       "      <td>d430:::C710:::D443:::D430:::D496:::C751:::D330...</td>\n",
       "      <td>tumor of hypothalamus:::malignant tumor of hyp...</td>\n",
       "      <td>3.0166:::4.8998:::5.0649:::5.2426:::5.5834:::6...</td>\n",
       "    </tr>\n",
       "    <tr>\n",
       "      <th>157591</th>\n",
       "      <td>https://www.gofundme.com/f/baby-delaynie</td>\n",
       "      <td>Zellweger spectrum disorders</td>\n",
       "      <td>709.0</td>\n",
       "      <td>736.0</td>\n",
       "      <td>5</td>\n",
       "      <td>q878</td>\n",
       "      <td>q878:::Q878:::E7151:::E7154:::E803:::Q777:::Q1...</td>\n",
       "      <td>zellweger syndrome (disorder):::zellweger's sy...</td>\n",
       "      <td>7.2023:::7.3898:::7.4975:::8.0355:::8.4334:::9...</td>\n",
       "    </tr>\n",
       "  </tbody>\n",
       "</table>\n",
       "</div>"
      ],
      "text/plain": [
       "                                             url  \\\n",
       "77811         https://www.gofundme.com/f/2fubvk4   \n",
       "108687       https://www.gofundme.com/f/qggaeey8   \n",
       "157591  https://www.gofundme.com/f/baby-delaynie   \n",
       "\n",
       "                              chunks   begin     end  sent entity_code  \\\n",
       "77811        tumors on Linda's brain  2099.0  2121.0    34        d430   \n",
       "108687    tumors of the hypothalamus   152.0   177.0     1        d430   \n",
       "157591  Zellweger spectrum disorders   709.0   736.0     5        q878   \n",
       "\n",
       "                                                  results  \\\n",
       "77811   d430:::D331:::D432:::D497:::C710:::C719:::D239...   \n",
       "108687  d430:::C710:::D443:::D430:::D496:::C751:::D330...   \n",
       "157591  q878:::Q878:::E7151:::E7154:::E803:::Q777:::Q1...   \n",
       "\n",
       "                                              resolutions  \\\n",
       "77811   tumor of hypothalamus:::cerebellopontine angle...   \n",
       "108687  tumor of hypothalamus:::malignant tumor of hyp...   \n",
       "157591  zellweger syndrome (disorder):::zellweger's sy...   \n",
       "\n",
       "                                            res_distances  \n",
       "77811   9.7123:::9.8830:::9.9242:::9.9815:::10.0045:::...  \n",
       "108687  3.0166:::4.8998:::5.0649:::5.2426:::5.5834:::6...  \n",
       "157591  7.2023:::7.3898:::7.4975:::8.0355:::8.4334:::9...  "
      ]
     },
     "execution_count": 35,
     "metadata": {},
     "output_type": "execute_result"
    }
   ],
   "source": [
    "er[(er['entity_code'] == 'q878')|(er['entity_code'] == 'd430')]"
   ]
  },
  {
   "cell_type": "code",
   "execution_count": 36,
   "metadata": {},
   "outputs": [],
   "source": [
    "#both appear to be a capitalization issues\n",
    "er.loc[er['entity_code'] == 'q878','entity_code'] = 'Q878'\n",
    "er.loc[er['entity_code'] == 'd430','entity_code'] = 'D430'"
   ]
  },
  {
   "cell_type": "code",
   "execution_count": 37,
   "metadata": {},
   "outputs": [],
   "source": [
    "#rerun after correcting capitalization issue from Spark output\n",
    "raw_codes = er['entity_code'].unique().tolist()\n",
    "best_match_map = GetCodeMatch(raw_codes, ccsr_codes, ccsr)"
   ]
  },
  {
   "cell_type": "markdown",
   "metadata": {},
   "source": [
    "No errors after running above cell"
   ]
  },
  {
   "cell_type": "code",
   "execution_count": 38,
   "metadata": {},
   "outputs": [],
   "source": [
    "# best_match_map = pd.DataFrame(best_match_map).merge(ccsr[['ccsr_category','int_category','disease_category']].drop_duplicates('ccsr_category'), \n",
    "#                                                     left_on='matched_ccsr_category', \n",
    "#                                                     right_on='ccsr_category', \n",
    "#                                                     how='left')\n",
    "\n",
    "best_match_map = pd.DataFrame(best_match_map).merge(ccsr[['ccsr_category','disease_category']].drop_duplicates('ccsr_category'), \n",
    "                                                    left_on='matched_ccsr_category', \n",
    "                                                    right_on='ccsr_category', \n",
    "                                                    how='left')"
   ]
  },
  {
   "cell_type": "code",
   "execution_count": 39,
   "metadata": {},
   "outputs": [],
   "source": [
    "best_match_map.to_csv('../data/disease_categorization/best_match_map.csv', index=False)"
   ]
  },
  {
   "cell_type": "code",
   "execution_count": 40,
   "metadata": {},
   "outputs": [
    {
     "name": "stdout",
     "output_type": "stream",
     "text": [
      "2864\n",
      "0.43691838291380625\n"
     ]
    }
   ],
   "source": [
    "unique_best_match_n = best_match_map.shape[0]\n",
    "print(unique_best_match_n)\n",
    "print(unique_best_match_n/unique_codes_n)"
   ]
  },
  {
   "cell_type": "code",
   "execution_count": 41,
   "metadata": {},
   "outputs": [
    {
     "data": {
      "text/plain": [
       "5    1313\n",
       "4    1169\n",
       "3     290\n",
       "2      75\n",
       "1      17\n",
       "dtype: int64"
      ]
     },
     "execution_count": 41,
     "metadata": {},
     "output_type": "execute_result"
    }
   ],
   "source": [
    "pd.Series([len(x) for x in best_match_map['matched_code_stem']]).value_counts()"
   ]
  },
  {
   "cell_type": "code",
   "execution_count": 42,
   "metadata": {},
   "outputs": [
    {
     "data": {
      "text/plain": [
       "0.005935754189944134"
      ]
     },
     "execution_count": 42,
     "metadata": {},
     "output_type": "execute_result"
    }
   ],
   "source": [
    "17/unique_best_match_n"
   ]
  },
  {
   "cell_type": "markdown",
   "metadata": {},
   "source": [
    "### Replace best-matched entity codes"
   ]
  },
  {
   "cell_type": "code",
   "execution_count": 43,
   "metadata": {},
   "outputs": [],
   "source": [
    "#subset dataframe for those that need best matched data\n",
    "er_for_best_match = er[er['entity_code'].isin(best_match_map['raw_code'].tolist())]\n",
    "er_rest = er[~er['entity_code'].isin(er_for_best_match['entity_code'].tolist())]"
   ]
  },
  {
   "cell_type": "markdown",
   "metadata": {},
   "source": [
    "### Merge ER data with appropriate disease categories"
   ]
  },
  {
   "cell_type": "code",
   "execution_count": 44,
   "metadata": {},
   "outputs": [],
   "source": [
    "#best match\n",
    "er_for_best_match = er_for_best_match.merge(best_match_map, left_on='entity_code', right_on='raw_code', how='left')\n",
    "del er_for_best_match['matched_code_stem']\n",
    "del er_for_best_match['matched_ccsr_category']\n",
    "er_for_best_match.loc[:,'icd_10_cm_code_desc'] = ['best_match' for x in range(len(er_for_best_match))]\n",
    "er_for_best_match.rename(columns={'raw_code':'icd_10_cm_code'}, inplace=True)\n",
    "\n",
    "#exact match\n",
    "er_rest = er_rest.merge(ccsr, left_on='entity_code', right_on='icd_10_cm_code', how='left')"
   ]
  },
  {
   "cell_type": "code",
   "execution_count": 45,
   "metadata": {},
   "outputs": [],
   "source": [
    "#concatenate dataframes\n",
    "er_final = pd.concat([er_for_best_match, er_rest])"
   ]
  },
  {
   "cell_type": "code",
   "execution_count": 46,
   "metadata": {},
   "outputs": [
    {
     "name": "stdout",
     "output_type": "stream",
     "text": [
      "(272722, 13)\n",
      "(272722, 9)\n",
      "\n",
      "\n",
      "74256\n",
      "74256\n"
     ]
    }
   ],
   "source": [
    "print(er_final.shape)\n",
    "print(er.shape)\n",
    "print('\\n')\n",
    "print(er_final['url'].nunique())\n",
    "print(er['url'].nunique())"
   ]
  },
  {
   "cell_type": "markdown",
   "metadata": {},
   "source": [
    "### Find additional clinical entities to infer disease category"
   ]
  },
  {
   "cell_type": "code",
   "execution_count": 47,
   "metadata": {},
   "outputs": [],
   "source": [
    "def SearchProcedures(df):\n",
    "\n",
    "    r = {}\n",
    "\n",
    "    terms = ['dialysis',\n",
    "             'renal transplant',\n",
    "             'kidney transplant',\n",
    "             'lung transplant',\n",
    "             'heart transplant',\n",
    "             'heart surgery',\n",
    "             'chemo',\n",
    "             'chemotherapy',\n",
    "             'radiation',\n",
    "             'radiotherapy',\n",
    "             'bone marrow transplant',\n",
    "             'liver transplant',\n",
    "             \"accident\",\"injury\",\"injuries\",\"injured\",\"crash\",\"collision\",\"injured\",\"burn\",\"burned\",\"burns\"]\n",
    "\n",
    "    for term in terms:\n",
    "\n",
    "        #define regex\n",
    "        regex = r\"\\b{}\\b\".format(term)\n",
    "\n",
    "        #apply regex search\n",
    "        search = df['fund_description'].apply(lambda x: re.search(regex, x))\n",
    "\n",
    "        #get start and end\n",
    "        start = [x.start() if x != None else np.nan for x in search]\n",
    "        end = [x.end() if x != None else np.nan for x in search]\n",
    "\n",
    "        #add to results\n",
    "        r[term] = {'start':start,'end':end}\n",
    "    \n",
    "    return r\n"
   ]
  },
  {
   "cell_type": "code",
   "execution_count": 48,
   "metadata": {},
   "outputs": [],
   "source": [
    "search_results = SearchProcedures(master) #takes about 30 seconds"
   ]
  },
  {
   "cell_type": "code",
   "execution_count": 49,
   "metadata": {},
   "outputs": [],
   "source": [
    "def SearchToDF(search_results):\n",
    "\n",
    "    r = []\n",
    "\n",
    "    for k,v in search_results.items():\n",
    "\n",
    "        new_df = pd.DataFrame({'url':master['url'].tolist(),'begin':v['start'],'end':v['end']})\n",
    "\n",
    "        new_df = new_df.dropna()\n",
    "\n",
    "        new_df['chunks'] = [k for x in range(len(new_df))]\n",
    "        new_df['sent'] = [np.nan for x in range(len(new_df))]\n",
    "        new_df['entity_code'] = ['regex_search' for x in range(len(new_df))]\n",
    "        new_df['results'] = [np.nan for x in range(len(new_df))]\n",
    "        new_df['resolutions'] = [np.nan for x in range(len(new_df))]\n",
    "        new_df['res_distances'] = [np.nan for x in range(len(new_df))]\n",
    "        new_df['icd_10_cm_code'] = ['regex_search' for x in range(len(new_df))]\n",
    "        new_df['icd_10_cm_code_desc'] = [k for x in range(len(new_df))]\n",
    "\n",
    "\n",
    "        if k in ['dialysis','renal transplant','kidney transplant']:\n",
    "            new_df['ccsr_category'] = ['GU_from_proc' for x in range(len(new_df))]\n",
    "            new_df['int_category'] = ['CKD and renal failure' for x in range(len(new_df))]\n",
    "            new_df['disease_category'] = ['Genitourinary diseases' for x in range(len(new_df))]\n",
    "\n",
    "        elif k in ['lung transplant']:\n",
    "            new_df['ccsr_category'] = ['RESP_from_proc' for x in range(len(new_df))]\n",
    "            new_df['int_category'] = ['Other respiratory disorders' for x in range(len(new_df))]\n",
    "            new_df['disease_category'] = ['Respiratory diseases' for x in range(len(new_df))]\n",
    "\n",
    "        elif k in ['heart transplant','heart surgery']:\n",
    "            new_df['ccsr_category'] = ['CV_from_proc' for x in range(len(new_df))]\n",
    "            new_df['int_category'] = ['Other cardiovascular disorders' for x in range(len(new_df))]\n",
    "            new_df['disease_category'] = ['Cardiovascular diseases' for x in range(len(new_df))]\n",
    "\n",
    "        elif k in ['chemo','chemotherapy','radiation','radiotherapy','bone marrow transplant']:\n",
    "            new_df['ccsr_category'] = ['NEO_from_proc' for x in range(len(new_df))]\n",
    "            new_df['int_category'] = ['Other neoplasms' for x in range(len(new_df))]\n",
    "            new_df['disease_category'] = ['Neoplasms' for x in range(len(new_df))]\n",
    "\n",
    "        elif k in ['liver transplant']:\n",
    "            new_df['ccsr_category'] = ['GI_from_proc' for x in range(len(new_df))]\n",
    "            new_df['int_category'] = ['Liver diseases' for x in range(len(new_df))]\n",
    "            new_df['disease_category'] = ['Gastrointestinal diseases' for x in range(len(new_df))]\n",
    "        \n",
    "        elif k in [\"accident\",\"injury\",\"injuries\",\"injured\",\"crash\",\"collision\",\"injured\",\"burn\",\"burned\",\"burns\"]:\n",
    "            new_df['ccsr_category'] = ['INJ_from_proc' for x in range(len(new_df))]\n",
    "            new_df['int_category'] = ['Other injuries' for x in range(len(new_df))]\n",
    "            new_df['disease_category'] = ['Injuries and external causes' for x in range(len(new_df))]\n",
    "\n",
    "        r.append(new_df)\n",
    "\n",
    "    return pd.concat(r)"
   ]
  },
  {
   "cell_type": "code",
   "execution_count": 50,
   "metadata": {},
   "outputs": [],
   "source": [
    "search_results_df = SearchToDF(search_results)"
   ]
  },
  {
   "cell_type": "markdown",
   "metadata": {},
   "source": [
    "#### Among newly-added campaigns, which search terms were responsible?"
   ]
  },
  {
   "cell_type": "code",
   "execution_count": 51,
   "metadata": {},
   "outputs": [
    {
     "data": {
      "text/plain": [
       "34880"
      ]
     },
     "execution_count": 51,
     "metadata": {},
     "output_type": "execute_result"
    }
   ],
   "source": [
    "search_results_df['url'].nunique()"
   ]
  },
  {
   "cell_type": "code",
   "execution_count": 52,
   "metadata": {},
   "outputs": [],
   "source": [
    "search_sub = search_results_df[~search_results_df['url'].isin(er_final['url'].unique())]"
   ]
  },
  {
   "cell_type": "code",
   "execution_count": 53,
   "metadata": {},
   "outputs": [
    {
     "data": {
      "text/plain": [
       "1255"
      ]
     },
     "execution_count": 53,
     "metadata": {},
     "output_type": "execute_result"
    }
   ],
   "source": [
    "search_sub['url'].nunique()"
   ]
  },
  {
   "cell_type": "code",
   "execution_count": 54,
   "metadata": {},
   "outputs": [
    {
     "data": {
      "text/plain": [
       "Cardiovascular diseases         438\n",
       "Genitourinary diseases          346\n",
       "Neoplasms                       229\n",
       "Gastrointestinal diseases       116\n",
       "Injuries and external causes     88\n",
       "Respiratory diseases             60\n",
       "Name: disease_category, dtype: int64"
      ]
     },
     "execution_count": 54,
     "metadata": {},
     "output_type": "execute_result"
    }
   ],
   "source": [
    "search_sub[['url','disease_category']].drop_duplicates()['disease_category'].value_counts()"
   ]
  },
  {
   "cell_type": "code",
   "execution_count": 55,
   "metadata": {},
   "outputs": [
    {
     "data": {
      "text/plain": [
       "Cardiovascular diseases         0.349004\n",
       "Genitourinary diseases          0.275697\n",
       "Neoplasms                       0.182470\n",
       "Gastrointestinal diseases       0.092430\n",
       "Injuries and external causes    0.070120\n",
       "Respiratory diseases            0.047809\n",
       "Name: disease_category, dtype: float64"
      ]
     },
     "execution_count": 55,
     "metadata": {},
     "output_type": "execute_result"
    }
   ],
   "source": [
    "search_sub[['url','disease_category']].drop_duplicates()['disease_category'].value_counts()/1255"
   ]
  },
  {
   "cell_type": "code",
   "execution_count": 56,
   "metadata": {},
   "outputs": [],
   "source": [
    "er_final = pd.concat([er_final, search_results_df])"
   ]
  },
  {
   "cell_type": "markdown",
   "metadata": {},
   "source": [
    "### Exclude named entities that map to certain disease categories\n",
    "\n",
    "These categories are unable to be classified with adequate precision and recall."
   ]
  },
  {
   "cell_type": "code",
   "execution_count": 57,
   "metadata": {},
   "outputs": [
    {
     "name": "stdout",
     "output_type": "stream",
     "text": [
      "2038\n"
     ]
    }
   ],
   "source": [
    "starting_n = er_final['entity_code'].nunique()\n",
    "er_final = er_final[~er_final['disease_category'].isin(['Exclude'])]\n",
    "exclude_cat_n = starting_n - er_final['entity_code'].nunique()\n",
    "print(exclude_cat_n)"
   ]
  },
  {
   "cell_type": "code",
   "execution_count": 58,
   "metadata": {},
   "outputs": [
    {
     "name": "stdout",
     "output_type": "stream",
     "text": [
      "0.3111450381679389\n"
     ]
    }
   ],
   "source": [
    "print(exclude_cat_n/starting_n)"
   ]
  },
  {
   "cell_type": "code",
   "execution_count": 59,
   "metadata": {},
   "outputs": [
    {
     "data": {
      "text/plain": [
       "72860"
      ]
     },
     "execution_count": 59,
     "metadata": {},
     "output_type": "execute_result"
    }
   ],
   "source": [
    "er_final['url'].nunique()"
   ]
  },
  {
   "cell_type": "markdown",
   "metadata": {},
   "source": [
    "# Evaluate classification performance"
   ]
  },
  {
   "cell_type": "markdown",
   "metadata": {},
   "source": [
    "### Get list of disease categories by url"
   ]
  },
  {
   "cell_type": "code",
   "execution_count": 60,
   "metadata": {},
   "outputs": [],
   "source": [
    "counts_list = er_final[['url','disease_category']].groupby('url').agg(lambda x: list(x))"
   ]
  },
  {
   "cell_type": "code",
   "execution_count": 61,
   "metadata": {},
   "outputs": [],
   "source": [
    "counts_list = counts_list.reset_index()"
   ]
  },
  {
   "cell_type": "markdown",
   "metadata": {},
   "source": [
    "### Format for comparison with reference data"
   ]
  },
  {
   "cell_type": "code",
   "execution_count": 62,
   "metadata": {},
   "outputs": [],
   "source": [
    "def list2lofd(df):\n",
    "    '''convert cat column from comma delimited to list of dictionaries with 1 or 0 for each category'''\n",
    "    \n",
    "    disease_categories = [\n",
    "        'Cardiovascular diseases',\n",
    "        'Endocrine diseases',\n",
    "        'Gastrointestinal diseases',\n",
    "        'Genitourinary diseases',\n",
    "        'Infections',\n",
    "        'Injuries and external causes',\n",
    "        'Mental and substance use disorders',\n",
    "        'Musculoskeletal diseases',\n",
    "        'Neoplasms',\n",
    "        'Nervous system diseases',\n",
    "        'Respiratory diseases'\n",
    "    ]\n",
    "    \n",
    "    r = []\n",
    "    \n",
    "    for index,row in df.iterrows():\n",
    "        lofd = []\n",
    "        as_list = row['disease_category']\n",
    "        for disease in disease_categories:\n",
    "            if disease in as_list:\n",
    "                lofd.append({disease:1})\n",
    "            else:\n",
    "                lofd.append({disease:0})\n",
    "        r.append(lofd)\n",
    "    return r"
   ]
  },
  {
   "cell_type": "code",
   "execution_count": 63,
   "metadata": {},
   "outputs": [],
   "source": [
    "counts_list['lofd'] = list2lofd(counts_list)"
   ]
  },
  {
   "cell_type": "code",
   "execution_count": 64,
   "metadata": {},
   "outputs": [],
   "source": [
    "#convert to long format\n",
    "long = counts_list.explode('lofd')"
   ]
  },
  {
   "cell_type": "code",
   "execution_count": 65,
   "metadata": {},
   "outputs": [],
   "source": [
    "#extract key, value from dictionary\n",
    "long.insert(loc=2, column='cat', value=[list(x.items())[0][0] for x in long['lofd']])\n",
    "long.insert(loc=3, column='count', value=[list(x.items())[0][1] for x in long['lofd']])"
   ]
  },
  {
   "cell_type": "code",
   "execution_count": 66,
   "metadata": {},
   "outputs": [],
   "source": [
    "long = long[['url','cat','count']]"
   ]
  },
  {
   "cell_type": "code",
   "execution_count": 67,
   "metadata": {},
   "outputs": [],
   "source": [
    "#create pivot table\n",
    "#takes a little while\n",
    "pivot = long.pivot_table(index=['url'], columns='cat', values='count', aggfunc=(pd.Series.sum), fill_value=0)\n",
    "pivot.columns.name = ''\n",
    "pivot = pivot.reset_index()"
   ]
  },
  {
   "cell_type": "code",
   "execution_count": 68,
   "metadata": {},
   "outputs": [
    {
     "data": {
      "text/html": [
       "<div>\n",
       "<style scoped>\n",
       "    .dataframe tbody tr th:only-of-type {\n",
       "        vertical-align: middle;\n",
       "    }\n",
       "\n",
       "    .dataframe tbody tr th {\n",
       "        vertical-align: top;\n",
       "    }\n",
       "\n",
       "    .dataframe thead th {\n",
       "        text-align: right;\n",
       "    }\n",
       "</style>\n",
       "<table border=\"1\" class=\"dataframe\">\n",
       "  <thead>\n",
       "    <tr style=\"text-align: right;\">\n",
       "      <th></th>\n",
       "      <th>url</th>\n",
       "      <th>Cardiovascular diseases</th>\n",
       "      <th>Endocrine diseases</th>\n",
       "      <th>Gastrointestinal diseases</th>\n",
       "      <th>Genitourinary diseases</th>\n",
       "      <th>Infections</th>\n",
       "      <th>Injuries and external causes</th>\n",
       "      <th>Mental and substance use disorders</th>\n",
       "      <th>Musculoskeletal diseases</th>\n",
       "      <th>Neoplasms</th>\n",
       "      <th>Nervous system diseases</th>\n",
       "      <th>Respiratory diseases</th>\n",
       "    </tr>\n",
       "  </thead>\n",
       "  <tbody>\n",
       "    <tr>\n",
       "      <th>0</th>\n",
       "      <td>https://www.gofundme.com/f/-AMYSTRONG-</td>\n",
       "      <td>0</td>\n",
       "      <td>0</td>\n",
       "      <td>0</td>\n",
       "      <td>0</td>\n",
       "      <td>0</td>\n",
       "      <td>0</td>\n",
       "      <td>0</td>\n",
       "      <td>0</td>\n",
       "      <td>1</td>\n",
       "      <td>0</td>\n",
       "      <td>0</td>\n",
       "    </tr>\n",
       "    <tr>\n",
       "      <th>1</th>\n",
       "      <td>https://www.gofundme.com/f/-MasonStrong-</td>\n",
       "      <td>0</td>\n",
       "      <td>0</td>\n",
       "      <td>0</td>\n",
       "      <td>1</td>\n",
       "      <td>0</td>\n",
       "      <td>0</td>\n",
       "      <td>0</td>\n",
       "      <td>0</td>\n",
       "      <td>0</td>\n",
       "      <td>0</td>\n",
       "      <td>0</td>\n",
       "    </tr>\n",
       "    <tr>\n",
       "      <th>2</th>\n",
       "      <td>https://www.gofundme.com/f/-Shelby-Slaughter</td>\n",
       "      <td>0</td>\n",
       "      <td>0</td>\n",
       "      <td>0</td>\n",
       "      <td>0</td>\n",
       "      <td>0</td>\n",
       "      <td>0</td>\n",
       "      <td>0</td>\n",
       "      <td>0</td>\n",
       "      <td>1</td>\n",
       "      <td>0</td>\n",
       "      <td>0</td>\n",
       "    </tr>\n",
       "    <tr>\n",
       "      <th>3</th>\n",
       "      <td>https://www.gofundme.com/f/-help-us-help-emily</td>\n",
       "      <td>0</td>\n",
       "      <td>0</td>\n",
       "      <td>0</td>\n",
       "      <td>0</td>\n",
       "      <td>1</td>\n",
       "      <td>0</td>\n",
       "      <td>0</td>\n",
       "      <td>0</td>\n",
       "      <td>0</td>\n",
       "      <td>0</td>\n",
       "      <td>0</td>\n",
       "    </tr>\n",
       "    <tr>\n",
       "      <th>4</th>\n",
       "      <td>https://www.gofundme.com/f/-helpmario</td>\n",
       "      <td>0</td>\n",
       "      <td>0</td>\n",
       "      <td>0</td>\n",
       "      <td>0</td>\n",
       "      <td>0</td>\n",
       "      <td>1</td>\n",
       "      <td>0</td>\n",
       "      <td>0</td>\n",
       "      <td>0</td>\n",
       "      <td>0</td>\n",
       "      <td>0</td>\n",
       "    </tr>\n",
       "  </tbody>\n",
       "</table>\n",
       "</div>"
      ],
      "text/plain": [
       "                                              url  Cardiovascular diseases  \\\n",
       "0          https://www.gofundme.com/f/-AMYSTRONG-                        0   \n",
       "1        https://www.gofundme.com/f/-MasonStrong-                        0   \n",
       "2    https://www.gofundme.com/f/-Shelby-Slaughter                        0   \n",
       "3  https://www.gofundme.com/f/-help-us-help-emily                        0   \n",
       "4           https://www.gofundme.com/f/-helpmario                        0   \n",
       "\n",
       "   Endocrine diseases  Gastrointestinal diseases  Genitourinary diseases  \\\n",
       "0                   0                          0                       0   \n",
       "1                   0                          0                       1   \n",
       "2                   0                          0                       0   \n",
       "3                   0                          0                       0   \n",
       "4                   0                          0                       0   \n",
       "\n",
       "   Infections  Injuries and external causes  \\\n",
       "0           0                             0   \n",
       "1           0                             0   \n",
       "2           0                             0   \n",
       "3           1                             0   \n",
       "4           0                             1   \n",
       "\n",
       "   Mental and substance use disorders  Musculoskeletal diseases  Neoplasms  \\\n",
       "0                                   0                         0          1   \n",
       "1                                   0                         0          0   \n",
       "2                                   0                         0          1   \n",
       "3                                   0                         0          0   \n",
       "4                                   0                         0          0   \n",
       "\n",
       "   Nervous system diseases  Respiratory diseases  \n",
       "0                        0                     0  \n",
       "1                        0                     0  \n",
       "2                        0                     0  \n",
       "3                        0                     0  \n",
       "4                        0                     0  "
      ]
     },
     "execution_count": 68,
     "metadata": {},
     "output_type": "execute_result"
    }
   ],
   "source": [
    "pivot.head()"
   ]
  },
  {
   "cell_type": "markdown",
   "metadata": {},
   "source": [
    "### Prepare reference data"
   ]
  },
  {
   "cell_type": "code",
   "execution_count": 69,
   "metadata": {},
   "outputs": [],
   "source": [
    "ref.rename(columns={'Genitourinary disorders':'Genitourinary diseases'}, inplace=True)\n",
    "del ref['Nonspecific']\n",
    "del ref['Other noncommunicable diseases']\n",
    "del ref['Pregnancy and childbirth']"
   ]
  },
  {
   "cell_type": "code",
   "execution_count": 70,
   "metadata": {},
   "outputs": [
    {
     "data": {
      "text/html": [
       "<div>\n",
       "<style scoped>\n",
       "    .dataframe tbody tr th:only-of-type {\n",
       "        vertical-align: middle;\n",
       "    }\n",
       "\n",
       "    .dataframe tbody tr th {\n",
       "        vertical-align: top;\n",
       "    }\n",
       "\n",
       "    .dataframe thead th {\n",
       "        text-align: right;\n",
       "    }\n",
       "</style>\n",
       "<table border=\"1\" class=\"dataframe\">\n",
       "  <thead>\n",
       "    <tr style=\"text-align: right;\">\n",
       "      <th></th>\n",
       "      <th>url</th>\n",
       "      <th>Cardiovascular diseases</th>\n",
       "      <th>Endocrine diseases</th>\n",
       "      <th>Gastrointestinal diseases</th>\n",
       "      <th>Genitourinary diseases</th>\n",
       "      <th>Infections</th>\n",
       "      <th>Injuries and external causes</th>\n",
       "      <th>Mental and substance use disorders</th>\n",
       "      <th>Musculoskeletal diseases</th>\n",
       "      <th>Neoplasms</th>\n",
       "      <th>Nervous system diseases</th>\n",
       "      <th>Respiratory diseases</th>\n",
       "    </tr>\n",
       "  </thead>\n",
       "  <tbody>\n",
       "    <tr>\n",
       "      <th>0</th>\n",
       "      <td>https://www.gofundme.com/f/1v3emdk740</td>\n",
       "      <td>0</td>\n",
       "      <td>0</td>\n",
       "      <td>0</td>\n",
       "      <td>0</td>\n",
       "      <td>0</td>\n",
       "      <td>0</td>\n",
       "      <td>0</td>\n",
       "      <td>0</td>\n",
       "      <td>0</td>\n",
       "      <td>0</td>\n",
       "      <td>0</td>\n",
       "    </tr>\n",
       "    <tr>\n",
       "      <th>1</th>\n",
       "      <td>https://www.gofundme.com/f/1xizs9mpo0</td>\n",
       "      <td>0</td>\n",
       "      <td>0</td>\n",
       "      <td>0</td>\n",
       "      <td>0</td>\n",
       "      <td>0</td>\n",
       "      <td>0</td>\n",
       "      <td>0</td>\n",
       "      <td>0</td>\n",
       "      <td>0</td>\n",
       "      <td>0</td>\n",
       "      <td>1</td>\n",
       "    </tr>\n",
       "    <tr>\n",
       "      <th>2</th>\n",
       "      <td>https://www.gofundme.com/f/1zk33nyftc</td>\n",
       "      <td>0</td>\n",
       "      <td>1</td>\n",
       "      <td>0</td>\n",
       "      <td>0</td>\n",
       "      <td>0</td>\n",
       "      <td>0</td>\n",
       "      <td>1</td>\n",
       "      <td>0</td>\n",
       "      <td>0</td>\n",
       "      <td>0</td>\n",
       "      <td>0</td>\n",
       "    </tr>\n",
       "    <tr>\n",
       "      <th>3</th>\n",
       "      <td>https://www.gofundme.com/f/22efh5hg</td>\n",
       "      <td>0</td>\n",
       "      <td>0</td>\n",
       "      <td>0</td>\n",
       "      <td>0</td>\n",
       "      <td>0</td>\n",
       "      <td>0</td>\n",
       "      <td>0</td>\n",
       "      <td>1</td>\n",
       "      <td>0</td>\n",
       "      <td>0</td>\n",
       "      <td>0</td>\n",
       "    </tr>\n",
       "    <tr>\n",
       "      <th>4</th>\n",
       "      <td>https://www.gofundme.com/f/22kcir7teo</td>\n",
       "      <td>1</td>\n",
       "      <td>0</td>\n",
       "      <td>0</td>\n",
       "      <td>1</td>\n",
       "      <td>1</td>\n",
       "      <td>0</td>\n",
       "      <td>0</td>\n",
       "      <td>1</td>\n",
       "      <td>0</td>\n",
       "      <td>0</td>\n",
       "      <td>1</td>\n",
       "    </tr>\n",
       "  </tbody>\n",
       "</table>\n",
       "</div>"
      ],
      "text/plain": [
       "                                     url  Cardiovascular diseases  \\\n",
       "0  https://www.gofundme.com/f/1v3emdk740                        0   \n",
       "1  https://www.gofundme.com/f/1xizs9mpo0                        0   \n",
       "2  https://www.gofundme.com/f/1zk33nyftc                        0   \n",
       "3    https://www.gofundme.com/f/22efh5hg                        0   \n",
       "4  https://www.gofundme.com/f/22kcir7teo                        1   \n",
       "\n",
       "   Endocrine diseases  Gastrointestinal diseases  Genitourinary diseases  \\\n",
       "0                   0                          0                       0   \n",
       "1                   0                          0                       0   \n",
       "2                   1                          0                       0   \n",
       "3                   0                          0                       0   \n",
       "4                   0                          0                       1   \n",
       "\n",
       "   Infections  Injuries and external causes  \\\n",
       "0           0                             0   \n",
       "1           0                             0   \n",
       "2           0                             0   \n",
       "3           0                             0   \n",
       "4           1                             0   \n",
       "\n",
       "   Mental and substance use disorders  Musculoskeletal diseases  Neoplasms  \\\n",
       "0                                   0                         0          0   \n",
       "1                                   0                         0          0   \n",
       "2                                   1                         0          0   \n",
       "3                                   0                         1          0   \n",
       "4                                   0                         1          0   \n",
       "\n",
       "   Nervous system diseases  Respiratory diseases  \n",
       "0                        0                     0  \n",
       "1                        0                     1  \n",
       "2                        0                     0  \n",
       "3                        0                     0  \n",
       "4                        0                     1  "
      ]
     },
     "execution_count": 70,
     "metadata": {},
     "output_type": "execute_result"
    }
   ],
   "source": [
    "ref.head()"
   ]
  },
  {
   "cell_type": "code",
   "execution_count": 71,
   "metadata": {},
   "outputs": [
    {
     "data": {
      "text/plain": [
       "(206, 12)"
      ]
     },
     "execution_count": 71,
     "metadata": {},
     "output_type": "execute_result"
    }
   ],
   "source": [
    "ref.shape"
   ]
  },
  {
   "cell_type": "markdown",
   "metadata": {},
   "source": [
    "### Add blank rows for urls with no identified NER/ER terms"
   ]
  },
  {
   "cell_type": "code",
   "execution_count": 72,
   "metadata": {},
   "outputs": [],
   "source": [
    "master_urls = master['url']"
   ]
  },
  {
   "cell_type": "code",
   "execution_count": 73,
   "metadata": {},
   "outputs": [],
   "source": [
    "urls_to_add = master_urls[~master_urls.isin(pivot['url'].tolist())].tolist()"
   ]
  },
  {
   "cell_type": "code",
   "execution_count": 74,
   "metadata": {},
   "outputs": [
    {
     "data": {
      "text/plain": [
       "14589"
      ]
     },
     "execution_count": 74,
     "metadata": {},
     "output_type": "execute_result"
    }
   ],
   "source": [
    "len(urls_to_add)"
   ]
  },
  {
   "cell_type": "code",
   "execution_count": 75,
   "metadata": {},
   "outputs": [
    {
     "data": {
      "text/plain": [
       "True"
      ]
     },
     "execution_count": 75,
     "metadata": {},
     "output_type": "execute_result"
    }
   ],
   "source": [
    "pivot.shape[0] + len(urls_to_add) == master.shape[0]"
   ]
  },
  {
   "cell_type": "code",
   "execution_count": 76,
   "metadata": {},
   "outputs": [],
   "source": [
    "def AddBlank(urls, df):\n",
    "    r = []\n",
    "    cols = df.columns[1:].values.tolist()\n",
    "    for url in urls:\n",
    "        line = {}\n",
    "        line['url'] = url\n",
    "        for col in cols:\n",
    "            line[col] = 0\n",
    "        r.append(line)\n",
    "    return pd.DataFrame(r)"
   ]
  },
  {
   "cell_type": "code",
   "execution_count": 77,
   "metadata": {},
   "outputs": [],
   "source": [
    "blank_to_add = AddBlank(urls_to_add, pivot)"
   ]
  },
  {
   "cell_type": "code",
   "execution_count": 78,
   "metadata": {},
   "outputs": [],
   "source": [
    "pivot = pd.concat([pivot, blank_to_add])"
   ]
  },
  {
   "cell_type": "code",
   "execution_count": 79,
   "metadata": {},
   "outputs": [
    {
     "data": {
      "text/plain": [
       "True"
      ]
     },
     "execution_count": 79,
     "metadata": {},
     "output_type": "execute_result"
    }
   ],
   "source": [
    "pivot.shape[0] == master.shape[0]"
   ]
  },
  {
   "cell_type": "markdown",
   "metadata": {},
   "source": [
    "#### Export sample of 50 campaigns that did not have any diseases identified"
   ]
  },
  {
   "cell_type": "code",
   "execution_count": 80,
   "metadata": {},
   "outputs": [],
   "source": [
    "#blank_sub = master[master['url'].isin(blank_to_add['url'].sample(50))]"
   ]
  },
  {
   "cell_type": "code",
   "execution_count": 81,
   "metadata": {},
   "outputs": [],
   "source": [
    "#blank_sub.to_csv('../data/disease_categorization/blank_for_review.csv', index=False)"
   ]
  },
  {
   "cell_type": "markdown",
   "metadata": {},
   "source": [
    "### Create evaluation subset"
   ]
  },
  {
   "cell_type": "code",
   "execution_count": 82,
   "metadata": {},
   "outputs": [
    {
     "name": "stdout",
     "output_type": "stream",
     "text": [
      "https://www.gofundme.com/f/evp227-fernando-diaz\n",
      "https://www.gofundme.com/f/help-my-mom-get-her-memories-back\n",
      "https://www.gofundme.com/f/help-support-helen-iaconelli-through-her-fight\n",
      "https://www.gofundme.com/f/helpbeckettkickcancersbutt\n",
      "https://www.gofundme.com/f/marvin-white\n",
      "https://www.gofundme.com/f/project-quotit039s-alrightquot\n",
      "all done\n"
     ]
    }
   ],
   "source": [
    "for url in ref['url']:\n",
    "    if url in master['url'].tolist():\n",
    "        continue\n",
    "    else:\n",
    "        print(url)\n",
    "print('all done')"
   ]
  },
  {
   "cell_type": "code",
   "execution_count": 83,
   "metadata": {},
   "outputs": [],
   "source": [
    "sub = pivot[pivot['url'].isin(ref['url'].tolist())]"
   ]
  },
  {
   "cell_type": "code",
   "execution_count": 84,
   "metadata": {},
   "outputs": [
    {
     "data": {
      "text/plain": [
       "(200, 12)"
      ]
     },
     "execution_count": 84,
     "metadata": {},
     "output_type": "execute_result"
    }
   ],
   "source": [
    "sub.shape"
   ]
  },
  {
   "cell_type": "code",
   "execution_count": 85,
   "metadata": {},
   "outputs": [
    {
     "data": {
      "text/html": [
       "<div>\n",
       "<style scoped>\n",
       "    .dataframe tbody tr th:only-of-type {\n",
       "        vertical-align: middle;\n",
       "    }\n",
       "\n",
       "    .dataframe tbody tr th {\n",
       "        vertical-align: top;\n",
       "    }\n",
       "\n",
       "    .dataframe thead th {\n",
       "        text-align: right;\n",
       "    }\n",
       "</style>\n",
       "<table border=\"1\" class=\"dataframe\">\n",
       "  <thead>\n",
       "    <tr style=\"text-align: right;\">\n",
       "      <th></th>\n",
       "      <th>url</th>\n",
       "      <th>Cardiovascular diseases</th>\n",
       "      <th>Endocrine diseases</th>\n",
       "      <th>Gastrointestinal diseases</th>\n",
       "      <th>Genitourinary diseases</th>\n",
       "      <th>Infections</th>\n",
       "      <th>Injuries and external causes</th>\n",
       "      <th>Mental and substance use disorders</th>\n",
       "      <th>Musculoskeletal diseases</th>\n",
       "      <th>Neoplasms</th>\n",
       "      <th>Nervous system diseases</th>\n",
       "      <th>Respiratory diseases</th>\n",
       "    </tr>\n",
       "  </thead>\n",
       "  <tbody>\n",
       "    <tr>\n",
       "      <th>72</th>\n",
       "      <td>https://www.gofundme.com/f/evp227-fernando-diaz</td>\n",
       "      <td>0</td>\n",
       "      <td>0</td>\n",
       "      <td>0</td>\n",
       "      <td>0</td>\n",
       "      <td>0</td>\n",
       "      <td>0</td>\n",
       "      <td>0</td>\n",
       "      <td>0</td>\n",
       "      <td>1</td>\n",
       "      <td>0</td>\n",
       "      <td>0</td>\n",
       "    </tr>\n",
       "    <tr>\n",
       "      <th>97</th>\n",
       "      <td>https://www.gofundme.com/f/help-my-mom-get-her...</td>\n",
       "      <td>0</td>\n",
       "      <td>0</td>\n",
       "      <td>0</td>\n",
       "      <td>0</td>\n",
       "      <td>0</td>\n",
       "      <td>0</td>\n",
       "      <td>0</td>\n",
       "      <td>0</td>\n",
       "      <td>1</td>\n",
       "      <td>0</td>\n",
       "      <td>0</td>\n",
       "    </tr>\n",
       "    <tr>\n",
       "      <th>101</th>\n",
       "      <td>https://www.gofundme.com/f/help-support-helen-...</td>\n",
       "      <td>0</td>\n",
       "      <td>0</td>\n",
       "      <td>0</td>\n",
       "      <td>0</td>\n",
       "      <td>0</td>\n",
       "      <td>0</td>\n",
       "      <td>0</td>\n",
       "      <td>0</td>\n",
       "      <td>1</td>\n",
       "      <td>0</td>\n",
       "      <td>0</td>\n",
       "    </tr>\n",
       "    <tr>\n",
       "      <th>104</th>\n",
       "      <td>https://www.gofundme.com/f/helpbeckettkickcanc...</td>\n",
       "      <td>0</td>\n",
       "      <td>0</td>\n",
       "      <td>0</td>\n",
       "      <td>0</td>\n",
       "      <td>0</td>\n",
       "      <td>0</td>\n",
       "      <td>0</td>\n",
       "      <td>0</td>\n",
       "      <td>1</td>\n",
       "      <td>0</td>\n",
       "      <td>1</td>\n",
       "    </tr>\n",
       "    <tr>\n",
       "      <th>129</th>\n",
       "      <td>https://www.gofundme.com/f/marvin-white</td>\n",
       "      <td>0</td>\n",
       "      <td>0</td>\n",
       "      <td>0</td>\n",
       "      <td>0</td>\n",
       "      <td>0</td>\n",
       "      <td>0</td>\n",
       "      <td>0</td>\n",
       "      <td>0</td>\n",
       "      <td>1</td>\n",
       "      <td>0</td>\n",
       "      <td>0</td>\n",
       "    </tr>\n",
       "    <tr>\n",
       "      <th>145</th>\n",
       "      <td>https://www.gofundme.com/f/project-quotit039s-...</td>\n",
       "      <td>0</td>\n",
       "      <td>0</td>\n",
       "      <td>0</td>\n",
       "      <td>0</td>\n",
       "      <td>0</td>\n",
       "      <td>0</td>\n",
       "      <td>0</td>\n",
       "      <td>0</td>\n",
       "      <td>1</td>\n",
       "      <td>0</td>\n",
       "      <td>0</td>\n",
       "    </tr>\n",
       "  </tbody>\n",
       "</table>\n",
       "</div>"
      ],
      "text/plain": [
       "                                                   url  \\\n",
       "72     https://www.gofundme.com/f/evp227-fernando-diaz   \n",
       "97   https://www.gofundme.com/f/help-my-mom-get-her...   \n",
       "101  https://www.gofundme.com/f/help-support-helen-...   \n",
       "104  https://www.gofundme.com/f/helpbeckettkickcanc...   \n",
       "129            https://www.gofundme.com/f/marvin-white   \n",
       "145  https://www.gofundme.com/f/project-quotit039s-...   \n",
       "\n",
       "     Cardiovascular diseases  Endocrine diseases  Gastrointestinal diseases  \\\n",
       "72                         0                   0                          0   \n",
       "97                         0                   0                          0   \n",
       "101                        0                   0                          0   \n",
       "104                        0                   0                          0   \n",
       "129                        0                   0                          0   \n",
       "145                        0                   0                          0   \n",
       "\n",
       "     Genitourinary diseases  Infections  Injuries and external causes  \\\n",
       "72                        0           0                             0   \n",
       "97                        0           0                             0   \n",
       "101                       0           0                             0   \n",
       "104                       0           0                             0   \n",
       "129                       0           0                             0   \n",
       "145                       0           0                             0   \n",
       "\n",
       "     Mental and substance use disorders  Musculoskeletal diseases  Neoplasms  \\\n",
       "72                                    0                         0          1   \n",
       "97                                    0                         0          1   \n",
       "101                                   0                         0          1   \n",
       "104                                   0                         0          1   \n",
       "129                                   0                         0          1   \n",
       "145                                   0                         0          1   \n",
       "\n",
       "     Nervous system diseases  Respiratory diseases  \n",
       "72                         0                     0  \n",
       "97                         0                     0  \n",
       "101                        0                     0  \n",
       "104                        0                     1  \n",
       "129                        0                     0  \n",
       "145                        0                     0  "
      ]
     },
     "execution_count": 85,
     "metadata": {},
     "output_type": "execute_result"
    }
   ],
   "source": [
    "ref[~ref['url'].isin(sub['url'])]"
   ]
  },
  {
   "cell_type": "code",
   "execution_count": 86,
   "metadata": {},
   "outputs": [
    {
     "data": {
      "text/html": [
       "<div>\n",
       "<style scoped>\n",
       "    .dataframe tbody tr th:only-of-type {\n",
       "        vertical-align: middle;\n",
       "    }\n",
       "\n",
       "    .dataframe tbody tr th {\n",
       "        vertical-align: top;\n",
       "    }\n",
       "\n",
       "    .dataframe thead th {\n",
       "        text-align: right;\n",
       "    }\n",
       "</style>\n",
       "<table border=\"1\" class=\"dataframe\">\n",
       "  <thead>\n",
       "    <tr style=\"text-align: right;\">\n",
       "      <th></th>\n",
       "      <th>url</th>\n",
       "      <th>Cardiovascular diseases</th>\n",
       "      <th>Endocrine diseases</th>\n",
       "      <th>Gastrointestinal diseases</th>\n",
       "      <th>Genitourinary diseases</th>\n",
       "      <th>Infections</th>\n",
       "      <th>Injuries and external causes</th>\n",
       "      <th>Mental and substance use disorders</th>\n",
       "      <th>Musculoskeletal diseases</th>\n",
       "      <th>Neoplasms</th>\n",
       "      <th>Nervous system diseases</th>\n",
       "      <th>Respiratory diseases</th>\n",
       "    </tr>\n",
       "  </thead>\n",
       "  <tbody>\n",
       "  </tbody>\n",
       "</table>\n",
       "</div>"
      ],
      "text/plain": [
       "Empty DataFrame\n",
       "Columns: [url, Cardiovascular diseases, Endocrine diseases, Gastrointestinal diseases, Genitourinary diseases, Infections, Injuries and external causes, Mental and substance use disorders, Musculoskeletal diseases, Neoplasms, Nervous system diseases, Respiratory diseases]\n",
       "Index: []"
      ]
     },
     "execution_count": 86,
     "metadata": {},
     "output_type": "execute_result"
    }
   ],
   "source": [
    "sub[~sub['url'].isin(ref['url'])]"
   ]
  },
  {
   "cell_type": "code",
   "execution_count": 87,
   "metadata": {},
   "outputs": [],
   "source": [
    "ref = ref[ref['url'].isin(sub['url'])]\n",
    "sub = sub[sub['url'].isin(ref['url'])]"
   ]
  },
  {
   "cell_type": "code",
   "execution_count": 88,
   "metadata": {},
   "outputs": [
    {
     "data": {
      "text/plain": [
       "(200, 12)"
      ]
     },
     "execution_count": 88,
     "metadata": {},
     "output_type": "execute_result"
    }
   ],
   "source": [
    "ref.shape"
   ]
  },
  {
   "cell_type": "code",
   "execution_count": 89,
   "metadata": {},
   "outputs": [
    {
     "data": {
      "text/plain": [
       "(200, 12)"
      ]
     },
     "execution_count": 89,
     "metadata": {},
     "output_type": "execute_result"
    }
   ],
   "source": [
    "sub.shape"
   ]
  },
  {
   "cell_type": "code",
   "execution_count": 90,
   "metadata": {},
   "outputs": [],
   "source": [
    "sub = sub.sort_values('url')"
   ]
  },
  {
   "cell_type": "code",
   "execution_count": 91,
   "metadata": {},
   "outputs": [],
   "source": [
    "ref = ref.sort_values('url')"
   ]
  },
  {
   "cell_type": "code",
   "execution_count": 92,
   "metadata": {},
   "outputs": [],
   "source": [
    "ref = ref.reset_index()\n",
    "sub = sub.reset_index()"
   ]
  },
  {
   "cell_type": "code",
   "execution_count": 93,
   "metadata": {},
   "outputs": [
    {
     "data": {
      "text/plain": [
       "True"
      ]
     },
     "execution_count": 93,
     "metadata": {},
     "output_type": "execute_result"
    }
   ],
   "source": [
    "ref['url'].equals(sub['url'])"
   ]
  },
  {
   "cell_type": "markdown",
   "metadata": {},
   "source": [
    "### Compute metrics"
   ]
  },
  {
   "cell_type": "code",
   "execution_count": 94,
   "metadata": {},
   "outputs": [],
   "source": [
    "def ComputeMetrics(ref, sub):\n",
    "    cat = []\n",
    "    precision = []\n",
    "    recall = []\n",
    "    f1 = []\n",
    "    acc = []\n",
    "    refe = []\n",
    "    piv = []\n",
    "    \n",
    "    for col in sub.columns[2:]:\n",
    "        cat.append(col)\n",
    "        precision.append(round(precision_score(ref[col], sub[col]),2))\n",
    "        recall.append(round(recall_score(ref[col], sub[col]),2))\n",
    "        f1.append(round(f1_score(ref[col], sub[col]),2))\n",
    "        acc.append(round(accuracy_score(ref[col], sub[col]),2))\n",
    "        refe.append(sum(ref[col]))\n",
    "        piv.append(sum(sub[col]))\n",
    "    \n",
    "    df = pd.DataFrame({'category':cat, \n",
    "                        'ref_count':refe,\n",
    "                        'test_count':piv,\n",
    "                        'precision':precision,\n",
    "                        'recall':recall,\n",
    "                        'f1':f1,\n",
    "                        'acc':acc})\n",
    "    return df"
   ]
  },
  {
   "cell_type": "code",
   "execution_count": 95,
   "metadata": {},
   "outputs": [],
   "source": [
    "metrics = ComputeMetrics(ref, sub)"
   ]
  },
  {
   "cell_type": "code",
   "execution_count": 96,
   "metadata": {},
   "outputs": [
    {
     "data": {
      "text/html": [
       "<div>\n",
       "<style scoped>\n",
       "    .dataframe tbody tr th:only-of-type {\n",
       "        vertical-align: middle;\n",
       "    }\n",
       "\n",
       "    .dataframe tbody tr th {\n",
       "        vertical-align: top;\n",
       "    }\n",
       "\n",
       "    .dataframe thead th {\n",
       "        text-align: right;\n",
       "    }\n",
       "</style>\n",
       "<table border=\"1\" class=\"dataframe\">\n",
       "  <thead>\n",
       "    <tr style=\"text-align: right;\">\n",
       "      <th></th>\n",
       "      <th>category</th>\n",
       "      <th>ref_count</th>\n",
       "      <th>test_count</th>\n",
       "      <th>precision</th>\n",
       "      <th>recall</th>\n",
       "      <th>f1</th>\n",
       "      <th>acc</th>\n",
       "    </tr>\n",
       "  </thead>\n",
       "  <tbody>\n",
       "    <tr>\n",
       "      <th>0</th>\n",
       "      <td>Cardiovascular diseases</td>\n",
       "      <td>33</td>\n",
       "      <td>28</td>\n",
       "      <td>0.89</td>\n",
       "      <td>0.76</td>\n",
       "      <td>0.82</td>\n",
       "      <td>0.94</td>\n",
       "    </tr>\n",
       "    <tr>\n",
       "      <th>1</th>\n",
       "      <td>Endocrine diseases</td>\n",
       "      <td>12</td>\n",
       "      <td>9</td>\n",
       "      <td>0.78</td>\n",
       "      <td>0.58</td>\n",
       "      <td>0.67</td>\n",
       "      <td>0.96</td>\n",
       "    </tr>\n",
       "    <tr>\n",
       "      <th>2</th>\n",
       "      <td>Gastrointestinal diseases</td>\n",
       "      <td>7</td>\n",
       "      <td>6</td>\n",
       "      <td>0.50</td>\n",
       "      <td>0.43</td>\n",
       "      <td>0.46</td>\n",
       "      <td>0.96</td>\n",
       "    </tr>\n",
       "    <tr>\n",
       "      <th>3</th>\n",
       "      <td>Genitourinary diseases</td>\n",
       "      <td>21</td>\n",
       "      <td>18</td>\n",
       "      <td>0.94</td>\n",
       "      <td>0.81</td>\n",
       "      <td>0.87</td>\n",
       "      <td>0.98</td>\n",
       "    </tr>\n",
       "    <tr>\n",
       "      <th>4</th>\n",
       "      <td>Infections</td>\n",
       "      <td>16</td>\n",
       "      <td>24</td>\n",
       "      <td>0.62</td>\n",
       "      <td>0.94</td>\n",
       "      <td>0.75</td>\n",
       "      <td>0.95</td>\n",
       "    </tr>\n",
       "    <tr>\n",
       "      <th>5</th>\n",
       "      <td>Injuries and external causes</td>\n",
       "      <td>31</td>\n",
       "      <td>39</td>\n",
       "      <td>0.72</td>\n",
       "      <td>0.90</td>\n",
       "      <td>0.80</td>\n",
       "      <td>0.93</td>\n",
       "    </tr>\n",
       "    <tr>\n",
       "      <th>6</th>\n",
       "      <td>Mental and substance use disorders</td>\n",
       "      <td>16</td>\n",
       "      <td>19</td>\n",
       "      <td>0.58</td>\n",
       "      <td>0.69</td>\n",
       "      <td>0.63</td>\n",
       "      <td>0.94</td>\n",
       "    </tr>\n",
       "    <tr>\n",
       "      <th>7</th>\n",
       "      <td>Musculoskeletal diseases</td>\n",
       "      <td>20</td>\n",
       "      <td>20</td>\n",
       "      <td>0.65</td>\n",
       "      <td>0.65</td>\n",
       "      <td>0.65</td>\n",
       "      <td>0.93</td>\n",
       "    </tr>\n",
       "    <tr>\n",
       "      <th>8</th>\n",
       "      <td>Neoplasms</td>\n",
       "      <td>74</td>\n",
       "      <td>76</td>\n",
       "      <td>0.95</td>\n",
       "      <td>0.97</td>\n",
       "      <td>0.96</td>\n",
       "      <td>0.97</td>\n",
       "    </tr>\n",
       "    <tr>\n",
       "      <th>9</th>\n",
       "      <td>Nervous system diseases</td>\n",
       "      <td>37</td>\n",
       "      <td>20</td>\n",
       "      <td>0.90</td>\n",
       "      <td>0.49</td>\n",
       "      <td>0.63</td>\n",
       "      <td>0.90</td>\n",
       "    </tr>\n",
       "    <tr>\n",
       "      <th>10</th>\n",
       "      <td>Respiratory diseases</td>\n",
       "      <td>15</td>\n",
       "      <td>13</td>\n",
       "      <td>0.85</td>\n",
       "      <td>0.73</td>\n",
       "      <td>0.79</td>\n",
       "      <td>0.97</td>\n",
       "    </tr>\n",
       "  </tbody>\n",
       "</table>\n",
       "</div>"
      ],
      "text/plain": [
       "                              category  ref_count  test_count  precision  \\\n",
       "0              Cardiovascular diseases         33          28       0.89   \n",
       "1                   Endocrine diseases         12           9       0.78   \n",
       "2            Gastrointestinal diseases          7           6       0.50   \n",
       "3               Genitourinary diseases         21          18       0.94   \n",
       "4                           Infections         16          24       0.62   \n",
       "5         Injuries and external causes         31          39       0.72   \n",
       "6   Mental and substance use disorders         16          19       0.58   \n",
       "7             Musculoskeletal diseases         20          20       0.65   \n",
       "8                            Neoplasms         74          76       0.95   \n",
       "9              Nervous system diseases         37          20       0.90   \n",
       "10                Respiratory diseases         15          13       0.85   \n",
       "\n",
       "    recall    f1   acc  \n",
       "0     0.76  0.82  0.94  \n",
       "1     0.58  0.67  0.96  \n",
       "2     0.43  0.46  0.96  \n",
       "3     0.81  0.87  0.98  \n",
       "4     0.94  0.75  0.95  \n",
       "5     0.90  0.80  0.93  \n",
       "6     0.69  0.63  0.94  \n",
       "7     0.65  0.65  0.93  \n",
       "8     0.97  0.96  0.97  \n",
       "9     0.49  0.63  0.90  \n",
       "10    0.73  0.79  0.97  "
      ]
     },
     "execution_count": 96,
     "metadata": {},
     "output_type": "execute_result"
    }
   ],
   "source": [
    "metrics"
   ]
  },
  {
   "cell_type": "code",
   "execution_count": 97,
   "metadata": {},
   "outputs": [
    {
     "name": "stdout",
     "output_type": "stream",
     "text": [
      "Weighted precision: 0.8256737588652483\n",
      "Weighted recall: 0.7797872340425531\n",
      "Weighted f1: 0.7896099290780142\n",
      "Weighted accuracy: 0.947304964539007\n"
     ]
    }
   ],
   "source": [
    "print('Weighted precision:', np.average(metrics['precision'], weights=metrics['ref_count']))\n",
    "print('Weighted recall:', np.average(metrics['recall'], weights=metrics['ref_count']))\n",
    "print('Weighted f1:', np.average(metrics['f1'], weights=metrics['ref_count']))\n",
    "print('Weighted accuracy:', np.average(metrics['acc'], weights=metrics['ref_count']))"
   ]
  },
  {
   "cell_type": "markdown",
   "metadata": {},
   "source": [
    "# Prepare data for export"
   ]
  },
  {
   "cell_type": "markdown",
   "metadata": {},
   "source": [
    "### Get primary category"
   ]
  },
  {
   "cell_type": "markdown",
   "metadata": {},
   "source": [
    "Summarize by disease category and location of chunk in text"
   ]
  },
  {
   "cell_type": "code",
   "execution_count": 98,
   "metadata": {},
   "outputs": [],
   "source": [
    "#er_final = er_final.reset_index()"
   ]
  },
  {
   "cell_type": "code",
   "execution_count": 99,
   "metadata": {},
   "outputs": [
    {
     "name": "stdout",
     "output_type": "stream",
     "text": [
      "CPU times: user 10.3 s, sys: 46 ms, total: 10.3 s\n",
      "Wall time: 10.5 s\n"
     ]
    }
   ],
   "source": [
    "%%time\n",
    "er_cat = er_final[['url','begin','disease_category']].groupby(['url']).agg(list)"
   ]
  },
  {
   "cell_type": "code",
   "execution_count": 100,
   "metadata": {},
   "outputs": [],
   "source": [
    "from collections import Counter"
   ]
  },
  {
   "cell_type": "code",
   "execution_count": 101,
   "metadata": {},
   "outputs": [],
   "source": [
    "#get counts for each category\n",
    "er_cat['disease_category_count'] = er_cat['disease_category'].apply(lambda x: Counter(x).most_common())"
   ]
  },
  {
   "cell_type": "code",
   "execution_count": 102,
   "metadata": {},
   "outputs": [],
   "source": [
    "#separate counts into separate column\n",
    "er_cat['disease_category_count_max'] = [x[0][1] for x in er_cat['disease_category_count']]"
   ]
  },
  {
   "cell_type": "code",
   "execution_count": 103,
   "metadata": {},
   "outputs": [],
   "source": [
    "#explode\n",
    "exl_d = er_cat.explode('disease_category_count')"
   ]
  },
  {
   "cell_type": "code",
   "execution_count": 104,
   "metadata": {},
   "outputs": [],
   "source": [
    "#separate tuples\n",
    "exl_d['disease_cat'] = [x[0] for x in exl_d['disease_category_count']]\n",
    "exl_d['disease_cat_val'] = [x[1] for x in exl_d['disease_category_count']]"
   ]
  },
  {
   "cell_type": "code",
   "execution_count": 105,
   "metadata": {},
   "outputs": [],
   "source": [
    "#remove categories that do not have max amount\n",
    "exl_d = exl_d[exl_d['disease_cat_val'] == exl_d['disease_category_count_max']]"
   ]
  },
  {
   "cell_type": "code",
   "execution_count": 106,
   "metadata": {},
   "outputs": [],
   "source": [
    "#reset indices\n",
    "exl_d = exl_d.reset_index()"
   ]
  },
  {
   "cell_type": "code",
   "execution_count": 107,
   "metadata": {},
   "outputs": [
    {
     "name": "stdout",
     "output_type": "stream",
     "text": [
      "(15489, 7)\n",
      "(66003, 7)\n"
     ]
    }
   ],
   "source": [
    "#separate urls that are duplicated (those who have multiple categories equal to max count)\n",
    "exl_d_dup = exl_d[exl_d['url'].duplicated(keep=False)]\n",
    "\n",
    "#separate urls that are not duplicated\n",
    "exl_d_no_dup = exl_d[~exl_d['url'].duplicated(keep=False)]\n",
    "\n",
    "print(exl_d_dup.shape)\n",
    "\n",
    "print(exl_d_no_dup.shape)"
   ]
  },
  {
   "cell_type": "code",
   "execution_count": 108,
   "metadata": {},
   "outputs": [],
   "source": [
    "def GetPrimaryCat(df, first_col, second_col):\n",
    "\n",
    "    r = {}\n",
    "\n",
    "    for url in df['url']:\n",
    "        sub = df[df['url'] == url]\n",
    "        candidates = sub[sub['url'] == url][first_col].tolist()\n",
    "        pos = sub[sub['url'] == url].drop_duplicates('url')['begin'].tolist()[0]\n",
    "        cats = sub[sub['url'] == url].drop_duplicates('url')[second_col].tolist()[0]\n",
    "        new_df = pd.DataFrame({'cats':cats, 'pos':pos})\n",
    "        new_df = new_df[new_df['cats'].isin(candidates)]\n",
    "        final_cat = new_df.groupby('cats').agg('mean').reset_index().sort_values('pos', ascending=True)['cats'].tolist()[0]\n",
    "\n",
    "        r[url] = final_cat\n",
    "    \n",
    "    return r"
   ]
  },
  {
   "cell_type": "code",
   "execution_count": 109,
   "metadata": {},
   "outputs": [
    {
     "name": "stdout",
     "output_type": "stream",
     "text": [
      "CPU times: user 2min 12s, sys: 322 ms, total: 2min 12s\n",
      "Wall time: 2min 13s\n"
     ]
    }
   ],
   "source": [
    "%%time\n",
    "primary_disease_map = GetPrimaryCat(exl_d_dup,'disease_cat','disease_category') "
   ]
  },
  {
   "cell_type": "code",
   "execution_count": 110,
   "metadata": {},
   "outputs": [],
   "source": [
    "def SubsetPrimaryCat(df, subset_map, col):\n",
    "    \n",
    "    r = []\n",
    "    \n",
    "    for k,v in subset_map.items():\n",
    "        sub = df[df['url'] == k]\n",
    "        sub = sub[sub[col] == v]\n",
    "        r.append(sub)\n",
    "    \n",
    "    return pd.concat(r)    "
   ]
  },
  {
   "cell_type": "code",
   "execution_count": 111,
   "metadata": {},
   "outputs": [
    {
     "name": "stdout",
     "output_type": "stream",
     "text": [
      "CPU times: user 14.7 s, sys: 107 ms, total: 14.8 s\n",
      "Wall time: 15.1 s\n"
     ]
    }
   ],
   "source": [
    "%%time\n",
    "exl_d_dup_primary = SubsetPrimaryCat(exl_d_dup, primary_disease_map, 'disease_cat')"
   ]
  },
  {
   "cell_type": "code",
   "execution_count": 112,
   "metadata": {},
   "outputs": [],
   "source": [
    "#concatenate primary results from duplicated\n",
    "primary_disease = pd.concat([exl_d_no_dup,exl_d_dup_primary])"
   ]
  },
  {
   "cell_type": "code",
   "execution_count": 113,
   "metadata": {},
   "outputs": [
    {
     "name": "stdout",
     "output_type": "stream",
     "text": [
      "(72860, 7)\n"
     ]
    }
   ],
   "source": [
    "print(primary_disease.shape)"
   ]
  },
  {
   "cell_type": "code",
   "execution_count": 114,
   "metadata": {},
   "outputs": [],
   "source": [
    "#primary_category = pd.merge(primary_disease[['url','disease_cat']], primary_int[['url','int_cat']], on='url', how='left')"
   ]
  },
  {
   "cell_type": "markdown",
   "metadata": {},
   "source": [
    "# Export data"
   ]
  },
  {
   "cell_type": "code",
   "execution_count": 115,
   "metadata": {},
   "outputs": [],
   "source": [
    "er_final.to_sql('er_final', con=conn,if_exists='replace')"
   ]
  },
  {
   "cell_type": "code",
   "execution_count": 116,
   "metadata": {},
   "outputs": [],
   "source": [
    "pivot = pivot.reset_index()\n",
    "pivot.columns.name = ''\n",
    "cols = pivot.columns\n",
    "cols = [x.lower().replace(',','').replace(' ','_') for x in cols]\n",
    "pivot.columns = cols\n",
    "\n",
    "pivot.to_sql('pivot', con=conn, if_exists='replace')"
   ]
  },
  {
   "cell_type": "code",
   "execution_count": 117,
   "metadata": {},
   "outputs": [],
   "source": [
    "# int_pivot.reset_index()\n",
    "# int_pivot.columns.name = ''\n",
    "# cols = int_pivot.columns\n",
    "# cols = [x.lower().replace(',','').replace(' ','_') for x in cols]\n",
    "# int_pivot.columns = cols\n",
    "\n",
    "# int_pivot.to_sql('int_pivot', con=conn, if_exists='replace')"
   ]
  },
  {
   "cell_type": "code",
   "execution_count": 118,
   "metadata": {},
   "outputs": [],
   "source": [
    "primary_disease = primary_disease[['url','disease_cat']]\n",
    "primary_disease.to_sql('primary_disease', con=conn, if_exists='replace')"
   ]
  },
  {
   "cell_type": "markdown",
   "metadata": {},
   "source": [
    "# Review 100 campaigns with no disease category identified"
   ]
  },
  {
   "cell_type": "code",
   "execution_count": 119,
   "metadata": {},
   "outputs": [],
   "source": [
    "no_disease = master[~master['url'].isin(primary_disease['url'].tolist())].sample(100)"
   ]
  },
  {
   "cell_type": "code",
   "execution_count": 123,
   "metadata": {},
   "outputs": [],
   "source": [
    "no_disease.to_csv('../data/disease_categorization/no_disease_found_100.csv', index=False)"
   ]
  },
  {
   "cell_type": "code",
   "execution_count": null,
   "metadata": {},
   "outputs": [],
   "source": []
  }
 ],
 "metadata": {
  "kernelspec": {
   "display_name": "Python 3",
   "language": "python",
   "name": "python3"
  },
  "language_info": {
   "codemirror_mode": {
    "name": "ipython",
    "version": 3
   },
   "file_extension": ".py",
   "mimetype": "text/x-python",
   "name": "python",
   "nbconvert_exporter": "python",
   "pygments_lexer": "ipython3",
   "version": "3.8.8"
  }
 },
 "nbformat": 4,
 "nbformat_minor": 4
}
