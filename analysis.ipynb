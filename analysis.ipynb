{
 "cells": [
  {
   "cell_type": "markdown",
   "metadata": {},
   "source": [
    "# Data Preparation"
   ]
  },
  {
   "cell_type": "markdown",
   "metadata": {
    "tags": []
   },
   "source": [
    "### Import packages"
   ]
  },
  {
   "cell_type": "code",
   "execution_count": 1,
   "metadata": {},
   "outputs": [],
   "source": [
    "import sqlite3\n",
    "import pandas as pd\n",
    "import numpy as np\n",
    "import statsmodels.api as sm\n",
    "import seaborn as sns\n",
    "import matplotlib.pyplot as plt\n",
    "import matplotlib.ticker as ticker\n",
    "import scipy\n",
    "from sklearn import preprocessing\n",
    "from datetime import datetime"
   ]
  },
  {
   "cell_type": "markdown",
   "metadata": {},
   "source": [
    "### Import utilities"
   ]
  },
  {
   "cell_type": "code",
   "execution_count": 2,
   "metadata": {},
   "outputs": [],
   "source": [
    "import sys\n",
    "sys.path.append('../src/')\n",
    "import utils\n",
    "\n",
    "# map to rename disease categories\n",
    "disease_cat_map  = utils.disease_rename_map "
   ]
  },
  {
   "cell_type": "markdown",
   "metadata": {},
   "source": [
    "### Import data"
   ]
  },
  {
   "cell_type": "code",
   "execution_count": 5,
   "metadata": {},
   "outputs": [],
   "source": [
    "# connect to database\n",
    "conn = sqlite3.connect(\"../data/db/gfm.db\")"
   ]
  },
  {
   "cell_type": "code",
   "execution_count": 6,
   "metadata": {},
   "outputs": [
    {
     "data": {
      "text/html": [
       "<div>\n",
       "<style scoped>\n",
       "    .dataframe tbody tr th:only-of-type {\n",
       "        vertical-align: middle;\n",
       "    }\n",
       "\n",
       "    .dataframe tbody tr th {\n",
       "        vertical-align: top;\n",
       "    }\n",
       "\n",
       "    .dataframe thead th {\n",
       "        text-align: right;\n",
       "    }\n",
       "</style>\n",
       "<table border=\"1\" class=\"dataframe\">\n",
       "  <thead>\n",
       "    <tr style=\"text-align: right;\">\n",
       "      <th></th>\n",
       "      <th>name</th>\n",
       "    </tr>\n",
       "  </thead>\n",
       "  <tbody>\n",
       "    <tr>\n",
       "      <th>0</th>\n",
       "      <td>scrape_tb</td>\n",
       "    </tr>\n",
       "    <tr>\n",
       "      <th>1</th>\n",
       "      <td>feed_tb</td>\n",
       "    </tr>\n",
       "    <tr>\n",
       "      <th>2</th>\n",
       "      <td>donation_tb</td>\n",
       "    </tr>\n",
       "    <tr>\n",
       "      <th>3</th>\n",
       "      <td>team_member_tb</td>\n",
       "    </tr>\n",
       "    <tr>\n",
       "      <th>4</th>\n",
       "      <td>comment_tb</td>\n",
       "    </tr>\n",
       "    <tr>\n",
       "      <th>5</th>\n",
       "      <td>update_tb</td>\n",
       "    </tr>\n",
       "    <tr>\n",
       "      <th>6</th>\n",
       "      <td>int_pivot</td>\n",
       "    </tr>\n",
       "    <tr>\n",
       "      <th>7</th>\n",
       "      <td>primary_cat</td>\n",
       "    </tr>\n",
       "    <tr>\n",
       "      <th>8</th>\n",
       "      <td>disease_pivot</td>\n",
       "    </tr>\n",
       "    <tr>\n",
       "      <th>9</th>\n",
       "      <td>master</td>\n",
       "    </tr>\n",
       "    <tr>\n",
       "      <th>10</th>\n",
       "      <td>er_final</td>\n",
       "    </tr>\n",
       "    <tr>\n",
       "      <th>11</th>\n",
       "      <td>pivot</td>\n",
       "    </tr>\n",
       "    <tr>\n",
       "      <th>12</th>\n",
       "      <td>primary_disease</td>\n",
       "    </tr>\n",
       "  </tbody>\n",
       "</table>\n",
       "</div>"
      ],
      "text/plain": [
       "               name\n",
       "0         scrape_tb\n",
       "1           feed_tb\n",
       "2       donation_tb\n",
       "3    team_member_tb\n",
       "4        comment_tb\n",
       "5         update_tb\n",
       "6         int_pivot\n",
       "7       primary_cat\n",
       "8     disease_pivot\n",
       "9            master\n",
       "10         er_final\n",
       "11            pivot\n",
       "12  primary_disease"
      ]
     },
     "execution_count": 6,
     "metadata": {},
     "output_type": "execute_result"
    }
   ],
   "source": [
    "# read list of tables in database\n",
    "list_all_tables = \"SELECT name FROM sqlite_master WHERE type='table';\"\n",
    "\n",
    "# print out list of tables to make sure db connection is working\n",
    "pd.read_sql_query(list_all_tables, conn)"
   ]
  },
  {
   "cell_type": "code",
   "execution_count": 7,
   "metadata": {},
   "outputs": [],
   "source": [
    "# import master data\n",
    "master = pd.read_sql_query(\"SELECT * FROM master\", conn)"
   ]
  },
  {
   "cell_type": "code",
   "execution_count": 8,
   "metadata": {},
   "outputs": [],
   "source": [
    "# import entity recognition data\n",
    "er = pd.read_sql_query(\"SELECT * FROM er_final\", conn)"
   ]
  },
  {
   "cell_type": "code",
   "execution_count": 9,
   "metadata": {},
   "outputs": [],
   "source": [
    "# import disease category data as pivoted table\n",
    "disease_pivot = pd.read_sql_query(\"SELECT * FROM pivot\", conn)"
   ]
  },
  {
   "cell_type": "code",
   "execution_count": 10,
   "metadata": {},
   "outputs": [],
   "source": [
    "# import data on \"primary\" disease cateogry\n",
    "primary_cat = pd.read_sql_query(\"SELECT * FROM primary_disease\",conn)"
   ]
  },
  {
   "cell_type": "code",
   "execution_count": 11,
   "metadata": {},
   "outputs": [],
   "source": [
    "# # import rest of tables from database\n",
    "\n",
    "# # web scraping performance data\n",
    "# scrape_tb = pd.read_sql_query(\"SELECT * FROM scrape_tb\", conn)\n",
    "\n",
    "# # GFM feed data\n",
    "# feed_tb = pd.read_sql_query(\"SELECT * FROM feed_tb\", conn)\n",
    "\n",
    "# # donation data\n",
    "# donation_tb = pd.read_sql_query(\"SELECT * FROM donation_tb\", conn)\n",
    "\n",
    "# # team member data\n",
    "# team_member_tb = pd.read_sql_query(\"SELECT * FROM team_member_tb\", conn)\n",
    "\n",
    "# # comment data\n",
    "# comment_tb = pd.read_sql_query(\"SELECT * FROM comment_tb\", conn)\n",
    "\n",
    "# # update data\n",
    "# update_tb = pd.read_sql_query(\"SELECT * FROM update_tb\", conn)\n",
    "\n",
    "# # \"intermediate\" disease category data as pivoted table\n",
    "# int_pivot = pd.read_sql_query(\"SELECT * FROM int_pivot\", conn)\n",
    "\n",
    "# # disease category data as pivoted table\n",
    "# pivot = pd.read_sql_query(\"SELECT * FROM pivot\", conn)\n",
    "\n",
    "# # \"primary\" disease category data\n",
    "# primary_disease = pd.read_sql_query(\"SELECT * FROM primary_disease\", conn)"
   ]
  },
  {
   "cell_type": "code",
   "execution_count": 12,
   "metadata": {},
   "outputs": [
    {
     "data": {
      "text/plain": [
       "['index',\n",
       " 'url',\n",
       " 'donation_count',\n",
       " 'donor_reached_max',\n",
       " 'currencycode',\n",
       " 'current_amount',\n",
       " 'goal_amount',\n",
       " 'fund_name',\n",
       " 'created_at',\n",
       " 'social_share_last_update',\n",
       " 'city',\n",
       " 'country',\n",
       " 'postal_code',\n",
       " 'is_team',\n",
       " 'year',\n",
       " 'month',\n",
       " 'zip_len',\n",
       " 'zip',\n",
       " 'state_county_fips',\n",
       " 'tot_ratio',\n",
       " 'county_name',\n",
       " 'ndi_quantile',\n",
       " 'standardized_ndi',\n",
       " 'total_population',\n",
       " 'percent_female',\n",
       " 'unemployment_rate',\n",
       " 'median_income',\n",
       " 'percent_poverty',\n",
       " 'no_health_insurance',\n",
       " 'public_health_insurance',\n",
       " 'private_health_insurance',\n",
       " 'home_owners',\n",
       " 'percent_1_1.5_per_room',\n",
       " 'more_1.5_per_room',\n",
       " 'renter_occupied',\n",
       " 'no_car',\n",
       " 'single_mom',\n",
       " 'single_dad',\n",
       " 'home_median_value',\n",
       " 'ed_percent_highschool',\n",
       " 'ed_percent_bachelors',\n",
       " 'has_internet',\n",
       " 'percent_less_10k',\n",
       " 'percent_10k_15k',\n",
       " 'percent_15k_25k',\n",
       " 'percent_25k_35k',\n",
       " 'percent_white',\n",
       " 'percent_under_5',\n",
       " 'percent_5_to_9',\n",
       " 'percent_10_to_14',\n",
       " 'percent_15_to_19',\n",
       " 'percent_20_to_24',\n",
       " 'percent_25_to_34',\n",
       " 'percent_35_to_44',\n",
       " 'percent_45_to_54',\n",
       " 'percent_55_to_59',\n",
       " 'percent_60_to_64',\n",
       " 'percent_65_to_74',\n",
       " 'percent_75_to_84',\n",
       " 'percent_85_over',\n",
       " 'percent_65_and_over',\n",
       " 'percent_18_and_over',\n",
       " 'median_age',\n",
       " 'percent_black',\n",
       " 'percent_hispanic_latino',\n",
       " 'percent_public_assist',\n",
       " 'percent_mgmt_art_sci',\n",
       " 'percent_vacant_units',\n",
       " 'percent_crowding',\n",
       " 'percent_single_parent',\n",
       " 'gini_income_inequality',\n",
       " 'percent_less_35k',\n",
       " 'state_fips',\n",
       " 'state_abb',\n",
       " 'state_name',\n",
       " 'state_population',\n",
       " 'census_region',\n",
       " 'census_division',\n",
       " 'research_in_title',\n",
       " 'fund_description',\n",
       " 'language',\n",
       " 'language_score',\n",
       " 'donation_min',\n",
       " 'donation_max',\n",
       " 'donation_mean',\n",
       " 'donation_median',\n",
       " 'update_count']"
      ]
     },
     "execution_count": 12,
     "metadata": {},
     "output_type": "execute_result"
    }
   ],
   "source": [
    "# print current column names for master data\n",
    "[x for x in master.columns]"
   ]
  },
  {
   "cell_type": "code",
   "execution_count": 14,
   "metadata": {},
   "outputs": [
    {
     "data": {
      "text/plain": [
       "74016"
      ]
     },
     "execution_count": 14,
     "metadata": {},
     "output_type": "execute_result"
    }
   ],
   "source": [
    "# check number of unique urls (campaigns) with a disease category recognized by entity recognition model\n",
    "er['url'].nunique()"
   ]
  },
  {
   "cell_type": "markdown",
   "metadata": {},
   "source": [
    "Additional geographic data"
   ]
  },
  {
   "cell_type": "code",
   "execution_count": 15,
   "metadata": {},
   "outputs": [],
   "source": [
    "state_pop = pd.read_csv('../data/census/state_pop.csv')"
   ]
  },
  {
   "cell_type": "code",
   "execution_count": 16,
   "metadata": {},
   "outputs": [],
   "source": [
    "census_regions = pd.read_csv('../data/census/census_regions.csv')"
   ]
  },
  {
   "cell_type": "markdown",
   "metadata": {},
   "source": [
    "Donation data"
   ]
  },
  {
   "cell_type": "code",
   "execution_count": 17,
   "metadata": {},
   "outputs": [],
   "source": [
    "donations = pd.read_sql_query(\"SELECT * FROM donation_tb\", conn)"
   ]
  },
  {
   "cell_type": "code",
   "execution_count": 18,
   "metadata": {},
   "outputs": [],
   "source": [
    "# OOP cost data\n",
    "# oop = pd.read_excel('../data/jama_oop_data.xlsx', sheet_name = 'GBD OOP')\n",
    "# gbd_map = pd.read_excel('../data/jama_oop_data.xlsx', sheet_name = 'GBD to CF map')"
   ]
  },
  {
   "cell_type": "markdown",
   "metadata": {},
   "source": [
    "### Clean data"
   ]
  },
  {
   "cell_type": "markdown",
   "metadata": {},
   "source": [
    "Primary disease category"
   ]
  },
  {
   "cell_type": "code",
   "execution_count": 19,
   "metadata": {},
   "outputs": [],
   "source": [
    "del primary_cat['index']"
   ]
  },
  {
   "cell_type": "code",
   "execution_count": 20,
   "metadata": {},
   "outputs": [],
   "source": [
    "primary_cat.columns = ['url','primary_disease_cat']"
   ]
  },
  {
   "cell_type": "code",
   "execution_count": 21,
   "metadata": {},
   "outputs": [],
   "source": [
    "primary_disease_dummy = pd.get_dummies(primary_cat['primary_disease_cat'])\n",
    "cols = primary_disease_dummy.columns.str.lower().str.replace(' ','_').str.replace(',','')\n",
    "cols = ['pd_' + x for x in cols]\n",
    "primary_disease_dummy.columns = cols\n",
    "primary_disease_dummy['url'] = primary_cat['url']"
   ]
  },
  {
   "cell_type": "markdown",
   "metadata": {},
   "source": [
    "Disease category, not mutually exclusive"
   ]
  },
  {
   "cell_type": "code",
   "execution_count": 22,
   "metadata": {},
   "outputs": [],
   "source": [
    "del disease_pivot['index']\n",
    "del disease_pivot['level_0']\n",
    "cols = disease_pivot.columns\n",
    "cols = ['d_' + x for x in cols]\n",
    "cols[0] = 'url'\n",
    "disease_pivot.columns = cols"
   ]
  },
  {
   "cell_type": "code",
   "execution_count": 23,
   "metadata": {},
   "outputs": [],
   "source": [
    "disease_pivot['d_cardiovascular_diseases'] = disease_pivot['d_cardiovascular_diseases']\n",
    "disease_pivot['d_endocrine_diseases'] = disease_pivot['d_endocrine_diseases']\n",
    "disease_pivot['d_gastrointestinal_diseases'] = disease_pivot['d_gastrointestinal_diseases']\n",
    "disease_pivot['d_genitourinary_diseases'] = disease_pivot['d_genitourinary_diseases']\n",
    "disease_pivot['d_infections'] = disease_pivot['d_infections']\n",
    "disease_pivot['d_injuries_and_external_causes'] = disease_pivot['d_injuries_and_external_causes']\n",
    "disease_pivot['d_mental_and_substance_use_disorders'] = disease_pivot['d_mental_and_substance_use_disorders']\n",
    "disease_pivot['d_musculoskeletal_diseases'] = disease_pivot['d_musculoskeletal_diseases']\n",
    "disease_pivot['d_neoplasms'] = disease_pivot['d_neoplasms']\n",
    "disease_pivot['d_nervous_system_diseases'] = disease_pivot['d_nervous_system_diseases']\n",
    "disease_pivot['d_respiratory_diseases'] = disease_pivot['d_respiratory_diseases']"
   ]
  },
  {
   "cell_type": "markdown",
   "metadata": {},
   "source": [
    "Recode variables as categorical"
   ]
  },
  {
   "cell_type": "code",
   "execution_count": 24,
   "metadata": {},
   "outputs": [],
   "source": [
    "disease_pivot.loc[:,disease_pivot.columns[1:]] = disease_pivot[disease_pivot.columns[1:]].astype(int)\n",
    "disease_pivot.loc[:,disease_pivot.columns[1:]] = disease_pivot[disease_pivot.columns[1:]].replace({1:'Present',0:'Absent'})"
   ]
  },
  {
   "cell_type": "markdown",
   "metadata": {},
   "source": [
    "Calculate financial metrics"
   ]
  },
  {
   "cell_type": "code",
   "execution_count": 25,
   "metadata": {},
   "outputs": [],
   "source": [
    "master.loc[:,'per_raised'] = (master['current_amount']/master['goal_amount']).round(2) * 100\n",
    "master.loc[:,'hit_goal'] = [1 if x >= 100 else 0 for x in master['per_raised']]"
   ]
  },
  {
   "cell_type": "markdown",
   "metadata": {},
   "source": [
    "Recode NDI quantile as categorical"
   ]
  },
  {
   "cell_type": "code",
   "execution_count": 26,
   "metadata": {},
   "outputs": [],
   "source": [
    "master['ndi_quantile'] = master['ndi_quantile'].astype(int).astype(object)"
   ]
  },
  {
   "cell_type": "markdown",
   "metadata": {},
   "source": [
    "Year as an integer"
   ]
  },
  {
   "cell_type": "code",
   "execution_count": 27,
   "metadata": {},
   "outputs": [],
   "source": [
    "master['year_int'] = master['year'].astype(int)"
   ]
  },
  {
   "cell_type": "markdown",
   "metadata": {},
   "source": [
    "Donation_mean and donation_count\n",
    "\n",
    "1849 campaigns where count is 0 and mean is NA\n",
    "\n",
    "37 campaigns where count is > 0 and mean is NA. These campaigns have missing donation data."
   ]
  },
  {
   "cell_type": "code",
   "execution_count": 28,
   "metadata": {},
   "outputs": [],
   "source": [
    "master.loc[(master['donation_mean'].isna()) & (master['donation_count'] == 0),'donation_mean'] = 0"
   ]
  },
  {
   "cell_type": "code",
   "execution_count": 29,
   "metadata": {},
   "outputs": [
    {
     "data": {
      "text/plain": [
       "(1849, 90)"
      ]
     },
     "execution_count": 29,
     "metadata": {},
     "output_type": "execute_result"
    }
   ],
   "source": [
    "master[master['donation_count'] == 0].shape"
   ]
  },
  {
   "cell_type": "markdown",
   "metadata": {},
   "source": [
    "### Merge data"
   ]
  },
  {
   "cell_type": "code",
   "execution_count": 30,
   "metadata": {},
   "outputs": [],
   "source": [
    "master = master.merge(primary_cat, on='url', how='left')"
   ]
  },
  {
   "cell_type": "code",
   "execution_count": 31,
   "metadata": {},
   "outputs": [],
   "source": [
    "master = master.merge(primary_disease_dummy, on='url', how='left')"
   ]
  },
  {
   "cell_type": "code",
   "execution_count": 32,
   "metadata": {},
   "outputs": [],
   "source": [
    "master = master.merge(disease_pivot, on='url', how='left')\n",
    "master.loc[:,list(disease_pivot.columns[1:])] = master.loc[:,list(disease_pivot.columns[1:])].fillna(0)"
   ]
  },
  {
   "cell_type": "code",
   "execution_count": 33,
   "metadata": {},
   "outputs": [],
   "source": [
    "master['primary_disease_cat'] = master['primary_disease_cat'].fillna('No disease')"
   ]
  },
  {
   "cell_type": "markdown",
   "metadata": {},
   "source": [
    "### Reassigning extreme values for amount sought"
   ]
  },
  {
   "cell_type": "code",
   "execution_count": 34,
   "metadata": {},
   "outputs": [
    {
     "data": {
      "text/plain": [
       "count    8.964500e+04\n",
       "mean     6.413913e+03\n",
       "std      1.553520e+04\n",
       "min      0.000000e+00\n",
       "25%      1.860000e+03\n",
       "50%      3.300000e+03\n",
       "75%      6.760000e+03\n",
       "max      2.696160e+06\n",
       "Name: current_amount, dtype: float64"
      ]
     },
     "execution_count": 34,
     "metadata": {},
     "output_type": "execute_result"
    }
   ],
   "source": [
    "master['current_amount'].describe()"
   ]
  },
  {
   "cell_type": "code",
   "execution_count": 35,
   "metadata": {},
   "outputs": [
    {
     "name": "stdout",
     "output_type": "stream",
     "text": [
      "campaigns that raised above $100000: 156\n",
      "campaigns that raised above $200000: 40\n",
      "campaigns that raised above $300000: 15\n",
      "campaigns that raised above $400000: 8\n",
      "campaigns that raised above $500000: 7\n",
      "campaigns that raised above $1000000: 1\n"
     ]
    }
   ],
   "source": [
    "# how many campaigns would be reassigned by using various cutoffs for amount raised\n",
    "for i in [100000, 200000, 300000, 400000, 500000, 1000000]:\n",
    "    print(\"campaigns that raised above ${0}: \".format(i) + str(89645-master[master['current_amount'] < i].shape[0]))"
   ]
  },
  {
   "cell_type": "code",
   "execution_count": 36,
   "metadata": {},
   "outputs": [
    {
     "data": {
      "text/plain": [
       "<Axes: >"
      ]
     },
     "execution_count": 36,
     "metadata": {},
     "output_type": "execute_result"
    },
    {
     "data": {
      "image/png": "[encoded data removed]",
      "text/plain": [
       "<Figure size 640x480 with 1 Axes>"
      ]
     },
     "metadata": {},
     "output_type": "display_data"
    }
   ],
   "source": [
    "master[master['current_amount'] < 200000]['current_amount'].hist(bins=50)"
   ]
  },
  {
   "cell_type": "code",
   "execution_count": 37,
   "metadata": {},
   "outputs": [
    {
     "data": {
      "text/plain": [
       "<Axes: >"
      ]
     },
     "execution_count": 37,
     "metadata": {},
     "output_type": "execute_result"
    },
    {
     "data": {
      "image/png": "[encoded data removed]",
      "text/plain": [
       "<Figure size 640x480 with 1 Axes>"
      ]
     },
     "metadata": {},
     "output_type": "display_data"
    }
   ],
   "source": [
    "#zoomed in\n",
    "master[master['current_amount'] < 10000]['current_amount'].hist(bins=100)"
   ]
  },
  {
   "cell_type": "code",
   "execution_count": 38,
   "metadata": {},
   "outputs": [],
   "source": [
    "#reassign extreme values for amount raised to various cutoffs\n",
    "for cap in [100000, 200000, 300000, 400000, 500000, 1000000]:\n",
    "    var = 'current_amount_capped_{0}'.format(cap)\n",
    "    master[var] = [x for x in master['current_amount']]\n",
    "    master.loc[master['current_amount'] > cap, var] = cap"
   ]
  },
  {
   "cell_type": "code",
   "execution_count": 38,
   "metadata": {},
   "outputs": [],
   "source": [
    "# master['current_amount_capped_100000'].describe()\n",
    "\n",
    "# master['current_amount_capped_200000'].describe()\n",
    "\n",
    "# master['current_amount_capped_300000'].describe()\n",
    "\n",
    "# master['current_amount_capped_400000'].describe()\n",
    "\n",
    "# master['current_amount_capped_500000'].describe()\n",
    "\n",
    "# master['current_amount_capped_1000000'].describe()"
   ]
  },
  {
   "cell_type": "markdown",
   "metadata": {},
   "source": [
    "### Box-cox transformation for amount sought"
   ]
  },
  {
   "cell_type": "code",
   "execution_count": 39,
   "metadata": {},
   "outputs": [
    {
     "data": {
      "text/plain": [
       "<Axes: >"
      ]
     },
     "execution_count": 39,
     "metadata": {},
     "output_type": "execute_result"
    },
    {
     "data": {
      "image/png": "[encoded data removed]",
      "text/plain": [
       "<Figure size 640x480 with 1 Axes>"
      ]
     },
     "metadata": {},
     "output_type": "display_data"
    }
   ],
   "source": [
    "master[master['goal_amount'] < 100000]['goal_amount'].hist(bins=100)"
   ]
  },
  {
   "cell_type": "code",
   "execution_count": 40,
   "metadata": {},
   "outputs": [
    {
     "data": {
      "text/plain": [
       "count    8.964500e+04\n",
       "mean     6.481908e+04\n",
       "std      5.705713e+06\n",
       "min      1.000000e+00\n",
       "25%      5.000000e+03\n",
       "50%      1.000000e+04\n",
       "75%      2.000000e+04\n",
       "max      1.000000e+09\n",
       "Name: goal_amount, dtype: float64"
      ]
     },
     "execution_count": 40,
     "metadata": {},
     "output_type": "execute_result"
    }
   ],
   "source": [
    "master['goal_amount'].describe()"
   ]
  },
  {
   "cell_type": "code",
   "execution_count": 41,
   "metadata": {},
   "outputs": [],
   "source": [
    "master['goal_amount_boxcox'] = scipy.stats.boxcox(master['goal_amount'])[0]"
   ]
  },
  {
   "cell_type": "code",
   "execution_count": 42,
   "metadata": {},
   "outputs": [
    {
     "data": {
      "text/plain": [
       "<Axes: >"
      ]
     },
     "execution_count": 42,
     "metadata": {},
     "output_type": "execute_result"
    },
    {
     "data": {
      "image/png": "[encoded data removed]",
      "text/plain": [
       "<Figure size 640x480 with 1 Axes>"
      ]
     },
     "metadata": {},
     "output_type": "display_data"
    }
   ],
   "source": [
    "master['goal_amount_boxcox'].hist(bins=20)"
   ]
  },
  {
   "cell_type": "code",
   "execution_count": 43,
   "metadata": {},
   "outputs": [
    {
     "data": {
      "text/plain": [
       "(12695, 120)"
      ]
     },
     "execution_count": 43,
     "metadata": {},
     "output_type": "execute_result"
    }
   ],
   "source": [
    "master.loc[master['per_raised'] > 100,].shape"
   ]
  },
  {
   "cell_type": "code",
   "execution_count": 44,
   "metadata": {},
   "outputs": [
    {
     "data": {
      "text/plain": [
       "0.14161414468180045"
      ]
     },
     "execution_count": 44,
     "metadata": {},
     "output_type": "execute_result"
    }
   ],
   "source": [
    "12695/89645"
   ]
  },
  {
   "cell_type": "markdown",
   "metadata": {
    "tags": []
   },
   "source": [
    "# Table 1: Characteristics of study sample"
   ]
  },
  {
   "cell_type": "code",
   "execution_count": 45,
   "metadata": {},
   "outputs": [
    {
     "data": {
      "text/plain": [
       "(89645, 120)"
      ]
     },
     "execution_count": 45,
     "metadata": {},
     "output_type": "execute_result"
    }
   ],
   "source": [
    "master.shape"
   ]
  },
  {
   "cell_type": "code",
   "execution_count": 46,
   "metadata": {},
   "outputs": [],
   "source": [
    "#define frequency and percent function\n",
    "\n",
    "def FreqPer(var, df, sort_idx=False):\n",
    "    if sort_idx:\n",
    "        df = pd.concat([df[var].value_counts(),df[var].value_counts(normalize=True)*100], axis=1).sort_index()\n",
    "    else:\n",
    "        df = pd.concat([df[var].value_counts(),df[var].value_counts(normalize=True)*100], axis=1)\n",
    "    df.columns = ['freq','percent']\n",
    "    return df"
   ]
  },
  {
   "cell_type": "markdown",
   "metadata": {},
   "source": [
    "### Frequency of year"
   ]
  },
  {
   "cell_type": "code",
   "execution_count": 47,
   "metadata": {},
   "outputs": [
    {
     "data": {
      "text/html": [
       "<div>\n",
       "<style scoped>\n",
       "    .dataframe tbody tr th:only-of-type {\n",
       "        vertical-align: middle;\n",
       "    }\n",
       "\n",
       "    .dataframe tbody tr th {\n",
       "        vertical-align: top;\n",
       "    }\n",
       "\n",
       "    .dataframe thead th {\n",
       "        text-align: right;\n",
       "    }\n",
       "</style>\n",
       "<table border=\"1\" class=\"dataframe\">\n",
       "  <thead>\n",
       "    <tr style=\"text-align: right;\">\n",
       "      <th></th>\n",
       "      <th>freq</th>\n",
       "      <th>percent</th>\n",
       "    </tr>\n",
       "  </thead>\n",
       "  <tbody>\n",
       "    <tr>\n",
       "      <th>2010</th>\n",
       "      <td>6</td>\n",
       "      <td>0.006693</td>\n",
       "    </tr>\n",
       "    <tr>\n",
       "      <th>2011</th>\n",
       "      <td>30</td>\n",
       "      <td>0.033465</td>\n",
       "    </tr>\n",
       "    <tr>\n",
       "      <th>2012</th>\n",
       "      <td>114</td>\n",
       "      <td>0.127168</td>\n",
       "    </tr>\n",
       "    <tr>\n",
       "      <th>2013</th>\n",
       "      <td>944</td>\n",
       "      <td>1.053043</td>\n",
       "    </tr>\n",
       "    <tr>\n",
       "      <th>2014</th>\n",
       "      <td>6668</td>\n",
       "      <td>7.438229</td>\n",
       "    </tr>\n",
       "    <tr>\n",
       "      <th>2015</th>\n",
       "      <td>16432</td>\n",
       "      <td>18.330080</td>\n",
       "    </tr>\n",
       "    <tr>\n",
       "      <th>2016</th>\n",
       "      <td>13139</td>\n",
       "      <td>14.656701</td>\n",
       "    </tr>\n",
       "    <tr>\n",
       "      <th>2017</th>\n",
       "      <td>10208</td>\n",
       "      <td>11.387138</td>\n",
       "    </tr>\n",
       "    <tr>\n",
       "      <th>2018</th>\n",
       "      <td>11235</td>\n",
       "      <td>12.532768</td>\n",
       "    </tr>\n",
       "    <tr>\n",
       "      <th>2019</th>\n",
       "      <td>15730</td>\n",
       "      <td>17.546991</td>\n",
       "    </tr>\n",
       "    <tr>\n",
       "      <th>2020</th>\n",
       "      <td>15139</td>\n",
       "      <td>16.887724</td>\n",
       "    </tr>\n",
       "  </tbody>\n",
       "</table>\n",
       "</div>"
      ],
      "text/plain": [
       "       freq    percent\n",
       "2010      6   0.006693\n",
       "2011     30   0.033465\n",
       "2012    114   0.127168\n",
       "2013    944   1.053043\n",
       "2014   6668   7.438229\n",
       "2015  16432  18.330080\n",
       "2016  13139  14.656701\n",
       "2017  10208  11.387138\n",
       "2018  11235  12.532768\n",
       "2019  15730  17.546991\n",
       "2020  15139  16.887724"
      ]
     },
     "execution_count": 47,
     "metadata": {},
     "output_type": "execute_result"
    }
   ],
   "source": [
    "FreqPer('year', master, True)"
   ]
  },
  {
   "cell_type": "code",
   "execution_count": 48,
   "metadata": {},
   "outputs": [
    {
     "data": {
      "text/plain": [
       "freq       1094.000000\n",
       "percent       1.220369\n",
       "dtype: float64"
      ]
     },
     "execution_count": 48,
     "metadata": {},
     "output_type": "execute_result"
    }
   ],
   "source": [
    "#2010-2013\n",
    "FreqPer('year', master, True).iloc[:4].apply(lambda x: sum(x), axis=0)"
   ]
  },
  {
   "cell_type": "code",
   "execution_count": 49,
   "metadata": {},
   "outputs": [
    {
     "data": {
      "text/plain": [
       "freq       46447.000000\n",
       "percent       51.812148\n",
       "dtype: float64"
      ]
     },
     "execution_count": 49,
     "metadata": {},
     "output_type": "execute_result"
    }
   ],
   "source": [
    "#2014-2017\n",
    "FreqPer('year', master, True).iloc[4:8].apply(lambda x: sum(x), axis=0)"
   ]
  },
  {
   "cell_type": "code",
   "execution_count": 50,
   "metadata": {},
   "outputs": [
    {
     "data": {
      "text/plain": [
       "freq       42104.000000\n",
       "percent       46.967483\n",
       "dtype: float64"
      ]
     },
     "execution_count": 50,
     "metadata": {},
     "output_type": "execute_result"
    }
   ],
   "source": [
    "#2018-2020\n",
    "FreqPer('year', master, True).iloc[8:].apply(lambda x: sum(x), axis=0)"
   ]
  },
  {
   "cell_type": "markdown",
   "metadata": {
    "tags": []
   },
   "source": [
    "### Number of unique disease categories per campaign"
   ]
  },
  {
   "cell_type": "code",
   "execution_count": 51,
   "metadata": {},
   "outputs": [
    {
     "data": {
      "text/plain": [
       "74016"
      ]
     },
     "execution_count": 51,
     "metadata": {},
     "output_type": "execute_result"
    }
   ],
   "source": [
    "er['url'].nunique()"
   ]
  },
  {
   "cell_type": "code",
   "execution_count": 52,
   "metadata": {},
   "outputs": [],
   "source": [
    "#first subset data and convert present/absent back to integer\n",
    "master_disease_int = master[master.columns[master.columns.str.startswith('d_')]].replace({'Present':1,'Absent':0})\n",
    "master_disease_int['any_disease_sum'] = master_disease_int.apply(lambda x: x.sum(), axis=1)"
   ]
  },
  {
   "cell_type": "code",
   "execution_count": 53,
   "metadata": {},
   "outputs": [
    {
     "data": {
      "text/plain": [
       "(74016, 12)"
      ]
     },
     "execution_count": 53,
     "metadata": {},
     "output_type": "execute_result"
    }
   ],
   "source": [
    "master_disease_int[master_disease_int['any_disease_sum']>0].shape"
   ]
  },
  {
   "cell_type": "code",
   "execution_count": 54,
   "metadata": {},
   "outputs": [],
   "source": [
    "any_disease_sum = FreqPer('any_disease_sum', master_disease_int, True)"
   ]
  },
  {
   "cell_type": "code",
   "execution_count": 55,
   "metadata": {},
   "outputs": [
    {
     "data": {
      "text/html": [
       "<div>\n",
       "<style scoped>\n",
       "    .dataframe tbody tr th:only-of-type {\n",
       "        vertical-align: middle;\n",
       "    }\n",
       "\n",
       "    .dataframe tbody tr th {\n",
       "        vertical-align: top;\n",
       "    }\n",
       "\n",
       "    .dataframe thead th {\n",
       "        text-align: right;\n",
       "    }\n",
       "</style>\n",
       "<table border=\"1\" class=\"dataframe\">\n",
       "  <thead>\n",
       "    <tr style=\"text-align: right;\">\n",
       "      <th></th>\n",
       "      <th>freq</th>\n",
       "      <th>percent</th>\n",
       "    </tr>\n",
       "  </thead>\n",
       "  <tbody>\n",
       "    <tr>\n",
       "      <th>0</th>\n",
       "      <td>15629</td>\n",
       "      <td>17.434324</td>\n",
       "    </tr>\n",
       "    <tr>\n",
       "      <th>1</th>\n",
       "      <td>49080</td>\n",
       "      <td>54.749289</td>\n",
       "    </tr>\n",
       "    <tr>\n",
       "      <th>2</th>\n",
       "      <td>15921</td>\n",
       "      <td>17.760054</td>\n",
       "    </tr>\n",
       "  </tbody>\n",
       "</table>\n",
       "</div>"
      ],
      "text/plain": [
       "    freq    percent\n",
       "0  15629  17.434324\n",
       "1  49080  54.749289\n",
       "2  15921  17.760054"
      ]
     },
     "execution_count": 55,
     "metadata": {},
     "output_type": "execute_result"
    }
   ],
   "source": [
    "any_disease_sum.iloc[:3,]"
   ]
  },
  {
   "cell_type": "code",
   "execution_count": 56,
   "metadata": {},
   "outputs": [
    {
     "data": {
      "text/plain": [
       "freq       9015.000000\n",
       "percent      10.056333\n",
       "dtype: float64"
      ]
     },
     "execution_count": 56,
     "metadata": {},
     "output_type": "execute_result"
    }
   ],
   "source": [
    "#3+ categories\n",
    "any_disease_sum.iloc[3:,].apply(lambda x: sum(x), axis=0)"
   ]
  },
  {
   "cell_type": "markdown",
   "metadata": {},
   "source": [
    "### Frequency of disease categories (not mutually exclusive)"
   ]
  },
  {
   "cell_type": "code",
   "execution_count": 57,
   "metadata": {},
   "outputs": [],
   "source": [
    "#rename mental health disorders\n",
    "master['primary_disease_cat'].replace({'Mental and substance use disorders':'Mental health disorders'}, inplace=True)\n",
    "#placeholder variable for no disease\n",
    "master['no_disease_count'] = ['Absent' for x in master['url']]\n",
    "#no disease county\n",
    "master.loc[master['primary_disease_cat'] == 'No disease','no_disease_count'] = 'Present'\n",
    "\n",
    "#subset disease pivot table to urls in master\n",
    "disease_pivot_sub = disease_pivot[disease_pivot['url'].isin(master['url'].tolist())]\n",
    "#rename categories\n",
    "disease_pivot_sub.rename(columns=disease_cat_map, inplace=True)\n",
    "#add disease sub to master data\n",
    "disease_pivot_sub = disease_pivot_sub.merge(master[['url','no_disease_count']], on='url', how='left')\n",
    "#rename no disease category\n",
    "disease_pivot_sub.rename(columns={'no_disease_count':'No disease'}, inplace=True)\n",
    "\n",
    "\n",
    "#melt disease categories to calculate mutually inclusive frequency\n",
    "disease_cat_melt = disease_pivot_sub[disease_pivot_sub.columns[1:]].melt()\n",
    "\n",
    "#only keep disease categories that were mentioned to include in frequency calculation\n",
    "disease_cat_melt = disease_cat_melt[disease_cat_melt['value'] == 'Present']\n",
    "\n",
    "#frequency calculation\n",
    "any_disease_freq = pd.concat([disease_cat_melt['variable'].value_counts(),(disease_cat_melt['variable'].value_counts()/87449)*100], axis=1).reset_index()\n",
    "#rename columns\n",
    "any_disease_freq.columns = ['Disease category','Any disease freq','Any disease percent']"
   ]
  },
  {
   "cell_type": "code",
   "execution_count": 58,
   "metadata": {},
   "outputs": [
    {
     "data": {
      "text/html": [
       "<div>\n",
       "<style scoped>\n",
       "    .dataframe tbody tr th:only-of-type {\n",
       "        vertical-align: middle;\n",
       "    }\n",
       "\n",
       "    .dataframe tbody tr th {\n",
       "        vertical-align: top;\n",
       "    }\n",
       "\n",
       "    .dataframe thead th {\n",
       "        text-align: right;\n",
       "    }\n",
       "</style>\n",
       "<table border=\"1\" class=\"dataframe\">\n",
       "  <thead>\n",
       "    <tr style=\"text-align: right;\">\n",
       "      <th></th>\n",
       "      <th>Disease category</th>\n",
       "      <th>Any disease freq</th>\n",
       "      <th>Any disease percent</th>\n",
       "    </tr>\n",
       "  </thead>\n",
       "  <tbody>\n",
       "    <tr>\n",
       "      <th>0</th>\n",
       "      <td>Neoplasms</td>\n",
       "      <td>38221</td>\n",
       "      <td>43.706618</td>\n",
       "    </tr>\n",
       "    <tr>\n",
       "      <th>1</th>\n",
       "      <td>Injuries and external causes</td>\n",
       "      <td>18087</td>\n",
       "      <td>20.682912</td>\n",
       "    </tr>\n",
       "    <tr>\n",
       "      <th>2</th>\n",
       "      <td>No disease</td>\n",
       "      <td>15629</td>\n",
       "      <td>17.872131</td>\n",
       "    </tr>\n",
       "    <tr>\n",
       "      <th>3</th>\n",
       "      <td>Cardiovascular diseases</td>\n",
       "      <td>11923</td>\n",
       "      <td>13.634233</td>\n",
       "    </tr>\n",
       "    <tr>\n",
       "      <th>4</th>\n",
       "      <td>Infections</td>\n",
       "      <td>8742</td>\n",
       "      <td>9.996684</td>\n",
       "    </tr>\n",
       "    <tr>\n",
       "      <th>5</th>\n",
       "      <td>Nervous system diseases</td>\n",
       "      <td>7705</td>\n",
       "      <td>8.810850</td>\n",
       "    </tr>\n",
       "    <tr>\n",
       "      <th>6</th>\n",
       "      <td>Musculoskeletal diseases</td>\n",
       "      <td>5594</td>\n",
       "      <td>6.396871</td>\n",
       "    </tr>\n",
       "    <tr>\n",
       "      <th>7</th>\n",
       "      <td>Mental health disorders</td>\n",
       "      <td>4838</td>\n",
       "      <td>5.532367</td>\n",
       "    </tr>\n",
       "    <tr>\n",
       "      <th>8</th>\n",
       "      <td>Respiratory diseases</td>\n",
       "      <td>4836</td>\n",
       "      <td>5.530080</td>\n",
       "    </tr>\n",
       "    <tr>\n",
       "      <th>9</th>\n",
       "      <td>Gastrointestinal diseases</td>\n",
       "      <td>4746</td>\n",
       "      <td>5.427163</td>\n",
       "    </tr>\n",
       "    <tr>\n",
       "      <th>10</th>\n",
       "      <td>Genitourinary diseases</td>\n",
       "      <td>4698</td>\n",
       "      <td>5.372274</td>\n",
       "    </tr>\n",
       "    <tr>\n",
       "      <th>11</th>\n",
       "      <td>Endocrine diseases</td>\n",
       "      <td>3882</td>\n",
       "      <td>4.439159</td>\n",
       "    </tr>\n",
       "  </tbody>\n",
       "</table>\n",
       "</div>"
      ],
      "text/plain": [
       "                Disease category  Any disease freq  Any disease percent\n",
       "0                      Neoplasms             38221            43.706618\n",
       "1   Injuries and external causes             18087            20.682912\n",
       "2                     No disease             15629            17.872131\n",
       "3        Cardiovascular diseases             11923            13.634233\n",
       "4                     Infections              8742             9.996684\n",
       "5        Nervous system diseases              7705             8.810850\n",
       "6       Musculoskeletal diseases              5594             6.396871\n",
       "7        Mental health disorders              4838             5.532367\n",
       "8           Respiratory diseases              4836             5.530080\n",
       "9      Gastrointestinal diseases              4746             5.427163\n",
       "10        Genitourinary diseases              4698             5.372274\n",
       "11            Endocrine diseases              3882             4.439159"
      ]
     },
     "execution_count": 58,
     "metadata": {},
     "output_type": "execute_result"
    }
   ],
   "source": [
    "any_disease_freq"
   ]
  },
  {
   "cell_type": "markdown",
   "metadata": {},
   "source": [
    "# Figure 1: Amount raised by NDI"
   ]
  },
  {
   "cell_type": "markdown",
   "metadata": {
    "tags": []
   },
   "source": [
    "### Number of counties in each quartile\n",
    "\n",
    "PCA was performed using the \"06-PCA.R\" file in this repository: https://github.com/sdoerstling/medical_crowdfunding_methods/tree/main"
   ]
  },
  {
   "cell_type": "code",
   "execution_count": 59,
   "metadata": {},
   "outputs": [],
   "source": [
    "pca = pd.read_csv('../data/census/census_w_factor_weights.csv')"
   ]
  },
  {
   "cell_type": "code",
   "execution_count": 60,
   "metadata": {},
   "outputs": [],
   "source": [
    "colnames = pca.columns.to_list()\n",
    "cols_to_sum = [i for i in colnames if 'weighted' in i]"
   ]
  },
  {
   "cell_type": "code",
   "execution_count": 61,
   "metadata": {},
   "outputs": [],
   "source": [
    "pca['sum'] = 0\n",
    "for c in cols_to_sum:\n",
    "    pca['sum'] += pca[c]"
   ]
  },
  {
   "cell_type": "code",
   "execution_count": 62,
   "metadata": {},
   "outputs": [],
   "source": [
    "cols_to_sum.append('state_county_fips')\n",
    "cols_to_sum.append('sum')\n",
    "pca = pca[cols_to_sum]"
   ]
  },
  {
   "cell_type": "code",
   "execution_count": 63,
   "metadata": {},
   "outputs": [],
   "source": [
    "census = pd.read_csv('../data/census/all_vars_by_county.csv')"
   ]
  },
  {
   "cell_type": "code",
   "execution_count": 64,
   "metadata": {},
   "outputs": [],
   "source": [
    "pca['standardized_ndi'] = preprocessing.scale(pca['sum'])\n",
    "pca = pd.merge(pca, census, how='left', on='state_county_fips')\n",
    "\n",
    "QUANTS = (np.quantile(pca['standardized_ndi'].values, [.25, .5, .75]))\n",
    "\n",
    "def _get_quantile(x):\n",
    "    if x <= QUANTS[0]:\n",
    "        return 1\n",
    "    if x > QUANTS[0] and x <= QUANTS[1]:\n",
    "        return 2\n",
    "    if x > QUANTS[1] and x <= QUANTS[2]:\n",
    "        return 3\n",
    "    if x > QUANTS[2]:\n",
    "        return 4\n",
    "    \n",
    "cols_to_drop = [c for c in pca.columns.to_list() if 'weighted' in c]\n",
    "\n",
    "pca['ndi_quantile'] = pca['standardized_ndi'].apply(_get_quantile)\n",
    "\n",
    "pca.drop(columns = cols_to_drop, inplace=True)"
   ]
  },
  {
   "cell_type": "code",
   "execution_count": 65,
   "metadata": {},
   "outputs": [
    {
     "name": "stdout",
     "output_type": "stream",
     "text": [
      "(3142, 58)\n",
      "3142\n"
     ]
    }
   ],
   "source": [
    "print(pca.shape)\n",
    "print(pca['state_county_fips'].nunique())"
   ]
  },
  {
   "cell_type": "code",
   "execution_count": 66,
   "metadata": {},
   "outputs": [
    {
     "data": {
      "text/plain": [
       "4    786\n",
       "1    786\n",
       "2    785\n",
       "3    785\n",
       "Name: ndi_quantile, dtype: int64"
      ]
     },
     "execution_count": 66,
     "metadata": {},
     "output_type": "execute_result"
    }
   ],
   "source": [
    "pca['ndi_quantile'].value_counts()"
   ]
  },
  {
   "cell_type": "markdown",
   "metadata": {},
   "source": [
    "### Number of campaigns in each quartile"
   ]
  },
  {
   "cell_type": "code",
   "execution_count": 67,
   "metadata": {},
   "outputs": [
    {
     "data": {
      "text/html": [
       "<div>\n",
       "<style scoped>\n",
       "    .dataframe tbody tr th:only-of-type {\n",
       "        vertical-align: middle;\n",
       "    }\n",
       "\n",
       "    .dataframe tbody tr th {\n",
       "        vertical-align: top;\n",
       "    }\n",
       "\n",
       "    .dataframe thead th {\n",
       "        text-align: right;\n",
       "    }\n",
       "</style>\n",
       "<table border=\"1\" class=\"dataframe\">\n",
       "  <thead>\n",
       "    <tr style=\"text-align: right;\">\n",
       "      <th></th>\n",
       "      <th>freq</th>\n",
       "      <th>percent</th>\n",
       "    </tr>\n",
       "  </thead>\n",
       "  <tbody>\n",
       "    <tr>\n",
       "      <th>1</th>\n",
       "      <td>55895</td>\n",
       "      <td>62.351498</td>\n",
       "    </tr>\n",
       "    <tr>\n",
       "      <th>2</th>\n",
       "      <td>20491</td>\n",
       "      <td>22.857940</td>\n",
       "    </tr>\n",
       "    <tr>\n",
       "      <th>3</th>\n",
       "      <td>9816</td>\n",
       "      <td>10.949858</td>\n",
       "    </tr>\n",
       "    <tr>\n",
       "      <th>4</th>\n",
       "      <td>3443</td>\n",
       "      <td>3.840705</td>\n",
       "    </tr>\n",
       "  </tbody>\n",
       "</table>\n",
       "</div>"
      ],
      "text/plain": [
       "    freq    percent\n",
       "1  55895  62.351498\n",
       "2  20491  22.857940\n",
       "3   9816  10.949858\n",
       "4   3443   3.840705"
      ]
     },
     "execution_count": 67,
     "metadata": {},
     "output_type": "execute_result"
    }
   ],
   "source": [
    "FreqPer('ndi_quantile', master, True)"
   ]
  },
  {
   "cell_type": "markdown",
   "metadata": {},
   "source": [
    "### Total population of all counties in each NDI quartile"
   ]
  },
  {
   "cell_type": "code",
   "execution_count": 68,
   "metadata": {},
   "outputs": [
    {
     "data": {
      "text/html": [
       "<div>\n",
       "<style scoped>\n",
       "    .dataframe tbody tr th:only-of-type {\n",
       "        vertical-align: middle;\n",
       "    }\n",
       "\n",
       "    .dataframe tbody tr th {\n",
       "        vertical-align: top;\n",
       "    }\n",
       "\n",
       "    .dataframe thead th {\n",
       "        text-align: right;\n",
       "    }\n",
       "</style>\n",
       "<table border=\"1\" class=\"dataframe\">\n",
       "  <thead>\n",
       "    <tr style=\"text-align: right;\">\n",
       "      <th></th>\n",
       "      <th>total_population</th>\n",
       "    </tr>\n",
       "    <tr>\n",
       "      <th>ndi_quantile</th>\n",
       "      <th></th>\n",
       "    </tr>\n",
       "  </thead>\n",
       "  <tbody>\n",
       "    <tr>\n",
       "      <th>1</th>\n",
       "      <td>182.478809</td>\n",
       "    </tr>\n",
       "    <tr>\n",
       "      <th>2</th>\n",
       "      <td>76.076263</td>\n",
       "    </tr>\n",
       "    <tr>\n",
       "      <th>3</th>\n",
       "      <td>44.306814</td>\n",
       "    </tr>\n",
       "    <tr>\n",
       "      <th>4</th>\n",
       "      <td>21.835909</td>\n",
       "    </tr>\n",
       "  </tbody>\n",
       "</table>\n",
       "</div>"
      ],
      "text/plain": [
       "              total_population\n",
       "ndi_quantile                  \n",
       "1                   182.478809\n",
       "2                    76.076263\n",
       "3                    44.306814\n",
       "4                    21.835909"
      ]
     },
     "execution_count": 68,
     "metadata": {},
     "output_type": "execute_result"
    }
   ],
   "source": [
    "pd.DataFrame(pca.groupby('ndi_quantile')['total_population'].sum()/1000000)"
   ]
  },
  {
   "cell_type": "code",
   "execution_count": 69,
   "metadata": {},
   "outputs": [],
   "source": [
    "total_pop = pd.DataFrame(pca.groupby('ndi_quantile')['total_population'].sum()/1000000)\\\n",
    "    ['total_population'].sum()"
   ]
  },
  {
   "cell_type": "code",
   "execution_count": 70,
   "metadata": {},
   "outputs": [
    {
     "data": {
      "text/plain": [
       "ndi_quantile\n",
       "1    56.199584\n",
       "2    23.429867\n",
       "3    13.645554\n",
       "4     6.724995\n",
       "Name: total_population, dtype: float64"
      ]
     },
     "execution_count": 70,
     "metadata": {},
     "output_type": "execute_result"
    }
   ],
   "source": [
    "pd.DataFrame(pca.groupby('ndi_quantile')['total_population'].sum()/1000000)\\\n",
    "    ['total_population']/total_pop * 100"
   ]
  },
  {
   "cell_type": "markdown",
   "metadata": {},
   "source": [
    "### Amount raised by NDI quantile"
   ]
  },
  {
   "cell_type": "code",
   "execution_count": 71,
   "metadata": {},
   "outputs": [],
   "source": [
    "ndi_amt = master[['current_amount','ndi_quantile']].groupby('ndi_quantile').agg('sum')\n",
    "ndi_amt.reset_index(inplace=True)\n",
    "total_spending = master['current_amount'].sum()\n",
    "ndi_amt['percent_amt_ndi'] = (ndi_amt['current_amount']/total_spending)*100"
   ]
  },
  {
   "cell_type": "code",
   "execution_count": 72,
   "metadata": {},
   "outputs": [
    {
     "data": {
      "text/html": [
       "<div>\n",
       "<style scoped>\n",
       "    .dataframe tbody tr th:only-of-type {\n",
       "        vertical-align: middle;\n",
       "    }\n",
       "\n",
       "    .dataframe tbody tr th {\n",
       "        vertical-align: top;\n",
       "    }\n",
       "\n",
       "    .dataframe thead th {\n",
       "        text-align: right;\n",
       "    }\n",
       "</style>\n",
       "<table border=\"1\" class=\"dataframe\">\n",
       "  <thead>\n",
       "    <tr style=\"text-align: right;\">\n",
       "      <th></th>\n",
       "      <th>ndi_quantile</th>\n",
       "      <th>current_amount</th>\n",
       "      <th>percent_amt_ndi</th>\n",
       "    </tr>\n",
       "  </thead>\n",
       "  <tbody>\n",
       "    <tr>\n",
       "      <th>0</th>\n",
       "      <td>1</td>\n",
       "      <td>402731981.0</td>\n",
       "      <td>70.043358</td>\n",
       "    </tr>\n",
       "    <tr>\n",
       "      <th>1</th>\n",
       "      <td>2</td>\n",
       "      <td>112038951.0</td>\n",
       "      <td>19.485873</td>\n",
       "    </tr>\n",
       "    <tr>\n",
       "      <th>2</th>\n",
       "      <td>3</td>\n",
       "      <td>46008293.0</td>\n",
       "      <td>8.001786</td>\n",
       "    </tr>\n",
       "    <tr>\n",
       "      <th>3</th>\n",
       "      <td>4</td>\n",
       "      <td>14196039.0</td>\n",
       "      <td>2.468983</td>\n",
       "    </tr>\n",
       "  </tbody>\n",
       "</table>\n",
       "</div>"
      ],
      "text/plain": [
       "   ndi_quantile  current_amount  percent_amt_ndi\n",
       "0             1     402731981.0        70.043358\n",
       "1             2     112038951.0        19.485873\n",
       "2             3      46008293.0         8.001786\n",
       "3             4      14196039.0         2.468983"
      ]
     },
     "execution_count": 72,
     "metadata": {},
     "output_type": "execute_result"
    }
   ],
   "source": [
    "ndi_amt"
   ]
  },
  {
   "cell_type": "code",
   "execution_count": 73,
   "metadata": {},
   "outputs": [],
   "source": [
    "ndi = pd.DataFrame(pca.groupby('ndi_quantile')['total_population'].sum())\n",
    "\n",
    "total_pop = pd.DataFrame(pca.groupby('ndi_quantile')['total_population'].sum())\\\n",
    "    ['total_population'].sum()\n",
    "\n",
    "ndi['total_population_percent'] = round(ndi['total_population']/total_pop * 100,1)\n",
    "\n",
    "ndi['campaign'] = master['ndi_quantile'].value_counts()\n",
    "\n",
    "ndi['campaign_percent'] = round(master['ndi_quantile'].value_counts(normalize = True) * 100,1)\n",
    "\n",
    "ndi['current_amount'] = master[['current_amount','ndi_quantile']].groupby('ndi_quantile').agg('sum')['current_amount']\n",
    "\n",
    "total_spending = master['current_amount'].sum()\n",
    "\n",
    "ndi['current_amount_percent'] = round(ndi['current_amount']/total_spending * 100,1)\n",
    "\n",
    "ndi.reset_index(inplace=True)\n",
    "\n",
    "ndi_raw = ndi[['ndi_quantile','total_population','campaign','current_amount']]\n",
    "ndi_percent = ndi[['ndi_quantile','total_population_percent','campaign_percent','current_amount_percent']]"
   ]
  },
  {
   "cell_type": "code",
   "execution_count": 74,
   "metadata": {},
   "outputs": [],
   "source": [
    "#d = ndi_percent.melt('ndi_quantile')\n",
    "\n",
    "ndi_percent = ndi_percent.set_index('ndi_quantile').T.reset_index()\n",
    "ndi_percent.columns = ['variable',\n",
    "                       'ADI quartile 1 (least deprived)', \n",
    "                       'ADI quartile 2', \n",
    "                       'ADI quartile 3', \n",
    "                       'ADI quartile 4 (most deprived)']"
   ]
  },
  {
   "cell_type": "code",
   "execution_count": 75,
   "metadata": {},
   "outputs": [],
   "source": [
    "ndi_percent['variable'] = ndi_percent['variable'].replace({\"total_population_percent\":\"Total population\",\n",
    "                                                          \"campaign_percent\":\"Number of campaigns\",\n",
    "                                                          \"current_amount_percent\":\"Amount raised\"})"
   ]
  },
  {
   "cell_type": "code",
   "execution_count": 76,
   "metadata": {},
   "outputs": [
    {
     "data": {
      "text/html": [
       "<div>\n",
       "<style scoped>\n",
       "    .dataframe tbody tr th:only-of-type {\n",
       "        vertical-align: middle;\n",
       "    }\n",
       "\n",
       "    .dataframe tbody tr th {\n",
       "        vertical-align: top;\n",
       "    }\n",
       "\n",
       "    .dataframe thead th {\n",
       "        text-align: right;\n",
       "    }\n",
       "</style>\n",
       "<table border=\"1\" class=\"dataframe\">\n",
       "  <thead>\n",
       "    <tr style=\"text-align: right;\">\n",
       "      <th></th>\n",
       "      <th>variable</th>\n",
       "      <th>ADI quartile 1 (least deprived)</th>\n",
       "      <th>ADI quartile 2</th>\n",
       "      <th>ADI quartile 3</th>\n",
       "      <th>ADI quartile 4 (most deprived)</th>\n",
       "    </tr>\n",
       "  </thead>\n",
       "  <tbody>\n",
       "    <tr>\n",
       "      <th>0</th>\n",
       "      <td>Total population</td>\n",
       "      <td>56.2</td>\n",
       "      <td>23.4</td>\n",
       "      <td>13.6</td>\n",
       "      <td>6.7</td>\n",
       "    </tr>\n",
       "    <tr>\n",
       "      <th>1</th>\n",
       "      <td>Number of campaigns</td>\n",
       "      <td>62.4</td>\n",
       "      <td>22.9</td>\n",
       "      <td>10.9</td>\n",
       "      <td>3.8</td>\n",
       "    </tr>\n",
       "    <tr>\n",
       "      <th>2</th>\n",
       "      <td>Amount raised</td>\n",
       "      <td>70.0</td>\n",
       "      <td>19.5</td>\n",
       "      <td>8.0</td>\n",
       "      <td>2.5</td>\n",
       "    </tr>\n",
       "  </tbody>\n",
       "</table>\n",
       "</div>"
      ],
      "text/plain": [
       "              variable  ADI quartile 1 (least deprived)  ADI quartile 2  \\\n",
       "0     Total population                             56.2            23.4   \n",
       "1  Number of campaigns                             62.4            22.9   \n",
       "2        Amount raised                             70.0            19.5   \n",
       "\n",
       "   ADI quartile 3  ADI quartile 4 (most deprived)  \n",
       "0            13.6                             6.7  \n",
       "1            10.9                             3.8  \n",
       "2             8.0                             2.5  "
      ]
     },
     "execution_count": 76,
     "metadata": {},
     "output_type": "execute_result"
    }
   ],
   "source": [
    "ndi_percent"
   ]
  },
  {
   "cell_type": "markdown",
   "metadata": {},
   "source": [
    "### Plot"
   ]
  },
  {
   "cell_type": "code",
   "execution_count": 77,
   "metadata": {},
   "outputs": [
    {
     "data": {
      "text/plain": [
       "<Figure size 640x480 with 0 Axes>"
      ]
     },
     "metadata": {},
     "output_type": "display_data"
    },
    {
     "data": {
      "image/png": "[encoded data removed]",
      "text/plain": [
       "<Figure size 500x500 with 1 Axes>"
      ]
     },
     "metadata": {},
     "output_type": "display_data"
    }
   ],
   "source": [
    "sns.reset_defaults()\n",
    "\n",
    "f = plt.figure()\n",
    "\n",
    "ax = ndi_percent.plot(x='variable',\n",
    "                 kind='bar',\n",
    "                 stacked=True,\n",
    "                edgecolor=\"black\",\n",
    "                 linewidth=0.5,\n",
    "                      colormap = sns.color_palette(\"Blues_r\", as_cmap=True),\n",
    "                figsize=(5,5))\n",
    "\n",
    "plt.xlabel(\"\")\n",
    "plt.ylabel(\"Percent, %\")\n",
    "plt.xticks(range(3),['Total\\n$\\mathregular{population^{a}}$',\n",
    "                     'Number of\\n$\\mathregular{campaigns^{b}}$',\n",
    "                     'Amount\\nraised, \\$$\\mathregular{^{c}}$'],rotation=0, ha='center')\n",
    "plt.ylim(0,100)\n",
    "\n",
    "ax.grid(axis='y')\n",
    "ax.set_axisbelow(True)\n",
    "\n",
    "ax.legend(loc='upper center', bbox_to_anchor=(0.5, -0.15))\n",
    "\n",
    "sns.despine()\n",
    "\n",
    "#plt.savefig(\"../plots/figure_1.pdf\", bbox_inches='tight')\n",
    "\n",
    "plt.show()\n"
   ]
  },
  {
   "cell_type": "markdown",
   "metadata": {},
   "source": [
    "### Bonus: visualize NDI against income"
   ]
  },
  {
   "cell_type": "code",
   "execution_count": 79,
   "metadata": {},
   "outputs": [
    {
     "data": {
      "image/png": "[encoded data removed]",
      "text/plain": [
       "<Figure size 640x480 with 1 Axes>"
      ]
     },
     "metadata": {},
     "output_type": "display_data"
    }
   ],
   "source": [
    "#visualize standardized ndi\n",
    "sns.scatterplot(data=pca, x='standardized_ndi', y='median_income')\n",
    "plt.show()"
   ]
  },
  {
   "cell_type": "code",
   "execution_count": 80,
   "metadata": {},
   "outputs": [
    {
     "data": {
      "image/png": "[encoded data removed]",
      "text/plain": [
       "<Figure size 640x480 with 1 Axes>"
      ]
     },
     "metadata": {},
     "output_type": "display_data"
    }
   ],
   "source": [
    "sns.boxplot(data=pca, x='ndi_quantile', y='standardized_ndi')\n",
    "plt.show()"
   ]
  },
  {
   "cell_type": "code",
   "execution_count": 81,
   "metadata": {},
   "outputs": [
    {
     "data": {
      "text/plain": [
       "ndi_quantile\n",
       "1    66571.0\n",
       "2    54902.0\n",
       "3    48531.0\n",
       "4    39787.0\n",
       "Name: median_income, dtype: float64"
      ]
     },
     "execution_count": 81,
     "metadata": {},
     "output_type": "execute_result"
    }
   ],
   "source": [
    "pca.groupby('ndi_quantile')['median_income'].agg(np.median)"
   ]
  },
  {
   "cell_type": "markdown",
   "metadata": {},
   "source": [
    "# Dataset for R"
   ]
  },
  {
   "cell_type": "code",
   "execution_count": 82,
   "metadata": {},
   "outputs": [
    {
     "name": "stdout",
     "output_type": "stream",
     "text": [
      "<class 'pandas.core.frame.DataFrame'>\n",
      "Int64Index: 89645 entries, 0 to 89644\n",
      "Data columns (total 24 columns):\n",
      " #   Column                                Non-Null Count  Dtype  \n",
      "---  ------                                --------------  -----  \n",
      " 0   current_amount                        89645 non-null  float64\n",
      " 1   current_amount_capped_100000          89645 non-null  float64\n",
      " 2   current_amount_capped_200000          89645 non-null  float64\n",
      " 3   current_amount_capped_300000          89645 non-null  float64\n",
      " 4   current_amount_capped_400000          89645 non-null  float64\n",
      " 5   current_amount_capped_500000          89645 non-null  float64\n",
      " 6   current_amount_capped_1000000         89645 non-null  float64\n",
      " 7   donation_count                        89645 non-null  int64  \n",
      " 8   donation_mean                         89608 non-null  float64\n",
      " 9   d_cardiovascular_diseases             89645 non-null  object \n",
      " 10  d_endocrine_diseases                  89645 non-null  object \n",
      " 11  d_gastrointestinal_diseases           89645 non-null  object \n",
      " 12  d_genitourinary_diseases              89645 non-null  object \n",
      " 13  d_infections                          89645 non-null  object \n",
      " 14  d_injuries_and_external_causes        89645 non-null  object \n",
      " 15  d_mental_and_substance_use_disorders  89645 non-null  object \n",
      " 16  d_musculoskeletal_diseases            89645 non-null  object \n",
      " 17  d_neoplasms                           89645 non-null  object \n",
      " 18  d_nervous_system_diseases             89645 non-null  object \n",
      " 19  d_respiratory_diseases                89645 non-null  object \n",
      " 20  year_int                              89645 non-null  int64  \n",
      " 21  goal_amount                           89645 non-null  float64\n",
      " 22  goal_amount_boxcox                    89645 non-null  float64\n",
      " 23  ndi_quantile                          89645 non-null  object \n",
      "dtypes: float64(10), int64(2), object(12)\n",
      "memory usage: 17.1+ MB\n"
     ]
    }
   ],
   "source": [
    "#show dtypes for. variables included in regression\n",
    "regression_variables = ['current_amount',\n",
    "                        'current_amount_capped_100000',\n",
    "                        'current_amount_capped_200000',\n",
    "                        'current_amount_capped_300000',\n",
    "                        'current_amount_capped_400000',\n",
    "                        'current_amount_capped_500000',\n",
    "                        'current_amount_capped_1000000',\n",
    "                        'donation_count',\n",
    "                        'donation_mean',\n",
    "                        'd_cardiovascular_diseases', \n",
    "                        'd_endocrine_diseases', \n",
    "                        'd_gastrointestinal_diseases', \n",
    "                        'd_genitourinary_diseases', \n",
    "                        'd_infections', \n",
    "                        'd_injuries_and_external_causes', \n",
    "                        'd_mental_and_substance_use_disorders',\n",
    "                        'd_musculoskeletal_diseases', \n",
    "                        'd_neoplasms', \n",
    "                        'd_nervous_system_diseases', \n",
    "                        'd_respiratory_diseases', \n",
    "                        'year_int',\n",
    "                        'goal_amount',\n",
    "                        'goal_amount_boxcox',\n",
    "                        'ndi_quantile']\n",
    "\n",
    "master[regression_variables].info()"
   ]
  },
  {
   "cell_type": "code",
   "execution_count": 83,
   "metadata": {},
   "outputs": [],
   "source": [
    "#master[regression_variables].to_csv('../cf_data_for_regressions.csv', index=False)"
   ]
  },
  {
   "cell_type": "markdown",
   "metadata": {},
   "source": [
    "# Regression analysis of amount raised\n",
    "\n",
    "- data were exported, and final analyses were run in R"
   ]
  },
  {
   "cell_type": "markdown",
   "metadata": {},
   "source": [
    "### Data structure"
   ]
  },
  {
   "cell_type": "code",
   "execution_count": 84,
   "metadata": {},
   "outputs": [
    {
     "name": "stdout",
     "output_type": "stream",
     "text": [
      "<class 'pandas.core.frame.DataFrame'>\n",
      "Int64Index: 89645 entries, 0 to 89644\n",
      "Data columns (total 24 columns):\n",
      " #   Column                                Non-Null Count  Dtype  \n",
      "---  ------                                --------------  -----  \n",
      " 0   current_amount                        89645 non-null  float64\n",
      " 1   current_amount_capped_100000          89645 non-null  float64\n",
      " 2   current_amount_capped_200000          89645 non-null  float64\n",
      " 3   current_amount_capped_300000          89645 non-null  float64\n",
      " 4   current_amount_capped_400000          89645 non-null  float64\n",
      " 5   current_amount_capped_500000          89645 non-null  float64\n",
      " 6   current_amount_capped_1000000         89645 non-null  float64\n",
      " 7   donation_count                        89645 non-null  int64  \n",
      " 8   donation_mean                         89608 non-null  float64\n",
      " 9   d_cardiovascular_diseases             89645 non-null  object \n",
      " 10  d_endocrine_diseases                  89645 non-null  object \n",
      " 11  d_gastrointestinal_diseases           89645 non-null  object \n",
      " 12  d_genitourinary_diseases              89645 non-null  object \n",
      " 13  d_infections                          89645 non-null  object \n",
      " 14  d_injuries_and_external_causes        89645 non-null  object \n",
      " 15  d_mental_and_substance_use_disorders  89645 non-null  object \n",
      " 16  d_musculoskeletal_diseases            89645 non-null  object \n",
      " 17  d_neoplasms                           89645 non-null  object \n",
      " 18  d_nervous_system_diseases             89645 non-null  object \n",
      " 19  d_respiratory_diseases                89645 non-null  object \n",
      " 20  year_int                              89645 non-null  int64  \n",
      " 21  goal_amount                           89645 non-null  float64\n",
      " 22  goal_amount_boxcox                    89645 non-null  float64\n",
      " 23  ndi_quantile                          89645 non-null  object \n",
      "dtypes: float64(10), int64(2), object(12)\n",
      "memory usage: 17.1+ MB\n"
     ]
    }
   ],
   "source": [
    "#show dtypes for. variables included in regression\n",
    "\n",
    "master[regression_variables].info()"
   ]
  },
  {
   "cell_type": "markdown",
   "metadata": {},
   "source": [
    "### Estimate tweedie index parameter\n",
    "\n",
    "- done in R (filename = \"estimate_tweedie_variance_power.R\"), uses tweedie.profile function of tweedie package\n",
    "- output: $p.max [1] 1.718367"
   ]
  },
  {
   "cell_type": "markdown",
   "metadata": {
    "tags": []
   },
   "source": [
    "### Sensitivity analyses"
   ]
  },
  {
   "cell_type": "code",
   "execution_count": 108,
   "metadata": {},
   "outputs": [
    {
     "name": "stdout",
     "output_type": "stream",
     "text": [
      "goal_amount // current_amount\n",
      "goal_amount // current_amount_capped_100000\n",
      "goal_amount // current_amount_capped_200000\n",
      "goal_amount // current_amount_capped_300000\n",
      "goal_amount // current_amount_capped_400000\n",
      "goal_amount // current_amount_capped_500000\n",
      "goal_amount // current_amount_capped_1000000\n",
      "goal_amount_boxcox // current_amount\n",
      "goal_amount_boxcox // current_amount_capped_100000\n",
      "goal_amount_boxcox // current_amount_capped_200000\n",
      "goal_amount_boxcox // current_amount_capped_300000\n",
      "goal_amount_boxcox // current_amount_capped_400000\n",
      "goal_amount_boxcox // current_amount_capped_500000\n",
      "goal_amount_boxcox // current_amount_capped_1000000\n"
     ]
    }
   ],
   "source": [
    "def ModelResults(model):\n",
    "    fit = model.fit()\n",
    "    html = fit.summary().as_html()\n",
    "    df = pd.read_html(html, header=0)[1]\n",
    "    df.columns = ['var','coef','std err','z','P>|z|','[0.025','0.975]']\n",
    "    return df[['var','coef','z','P>|z|']]\n",
    "\n",
    "sensitivity_analysis = {}\n",
    "\n",
    "for amount_sought in ['goal_amount','goal_amount_boxcox']:\n",
    "    \n",
    "    sensitivity_analysis[amount_sought] = {}\n",
    "    \n",
    "    amount_raised_ = ['current_amount']\n",
    "    \n",
    "    for cap in [100000, 200000, 300000, 400000, 500000, 1000000]:\n",
    "        amount_raised_.append('current_amount_capped_{0}'.format(cap))\n",
    "    \n",
    "    for amount_raised in amount_raised_:\n",
    "        formula = '''{0} ~ \n",
    "            C(d_cardiovascular_diseases, Treatment(reference='Absent')) + \n",
    "            C(d_endocrine_diseases, Treatment(reference='Absent')) + \n",
    "            C(d_gastrointestinal_diseases, Treatment(reference='Absent')) + \n",
    "            C(d_genitourinary_diseases, Treatment(reference='Absent')) + \n",
    "            C(d_infections, Treatment(reference='Absent')) + \n",
    "            C(d_injuries_and_external_causes, Treatment(reference='Absent')) + \n",
    "            C(d_mental_and_substance_use_disorders, Treatment(reference='Absent')) + \n",
    "            C(d_musculoskeletal_diseases, Treatment(reference='Absent')) + \n",
    "            C(d_neoplasms, Treatment(reference='Absent')) + \n",
    "            C(d_nervous_system_diseases, Treatment(reference='Absent')) + \n",
    "            C(d_respiratory_diseases, Treatment(reference='Absent')) +\n",
    "            year_int + \n",
    "            {1} +\n",
    "            C(ndi_quantile, Treatment(reference=4))\n",
    "            '''.format(amount_raised, amount_sought).replace('\\n','')\n",
    "        \n",
    "        print(amount_sought + ' // ' + amount_raised)\n",
    "        \n",
    "        model = sm.GLM.from_formula(formula=formula, \n",
    "                            data=master, \n",
    "                            family=sm.genmod.families.family.Tweedie(var_power = 1.72, eql=False))\n",
    "        \n",
    "        res = ModelResults(model)\n",
    "        \n",
    "        sensitivity_analysis[amount_sought][amount_raised] = res"
   ]
  },
  {
   "cell_type": "code",
   "execution_count": 109,
   "metadata": {},
   "outputs": [
    {
     "name": "stdout",
     "output_type": "stream",
     "text": [
      "dict_keys(['goal_amount', 'goal_amount_boxcox'])\n",
      "dict_keys(['current_amount', 'current_amount_capped_100000', 'current_amount_capped_200000', 'current_amount_capped_300000', 'current_amount_capped_400000', 'current_amount_capped_500000', 'current_amount_capped_1000000'])\n",
      "dict_keys(['current_amount', 'current_amount_capped_100000', 'current_amount_capped_200000', 'current_amount_capped_300000', 'current_amount_capped_400000', 'current_amount_capped_500000', 'current_amount_capped_1000000'])\n"
     ]
    }
   ],
   "source": [
    "print(sensitivity_analysis.keys())\n",
    "print(sensitivity_analysis['goal_amount'].keys())\n",
    "print(sensitivity_analysis['goal_amount_boxcox'].keys())"
   ]
  },
  {
   "cell_type": "code",
   "execution_count": 111,
   "metadata": {},
   "outputs": [
    {
     "data": {
      "text/html": [
       "<div>\n",
       "<style scoped>\n",
       "    .dataframe tbody tr th:only-of-type {\n",
       "        vertical-align: middle;\n",
       "    }\n",
       "\n",
       "    .dataframe tbody tr th {\n",
       "        vertical-align: top;\n",
       "    }\n",
       "\n",
       "    .dataframe thead th {\n",
       "        text-align: right;\n",
       "    }\n",
       "</style>\n",
       "<table border=\"1\" class=\"dataframe\">\n",
       "  <thead>\n",
       "    <tr style=\"text-align: right;\">\n",
       "      <th></th>\n",
       "      <th>var</th>\n",
       "      <th>coef</th>\n",
       "      <th>z</th>\n",
       "      <th>P&gt;|z|</th>\n",
       "    </tr>\n",
       "  </thead>\n",
       "  <tbody>\n",
       "    <tr>\n",
       "      <th>0</th>\n",
       "      <td>Intercept</td>\n",
       "      <td>1.663857e+02</td>\n",
       "      <td>32.999</td>\n",
       "      <td>0.000</td>\n",
       "    </tr>\n",
       "    <tr>\n",
       "      <th>1</th>\n",
       "      <td>C(d_cardiovascular_diseases, Treatment(referen...</td>\n",
       "      <td>5.740000e-02</td>\n",
       "      <td>3.816</td>\n",
       "      <td>0.000</td>\n",
       "    </tr>\n",
       "    <tr>\n",
       "      <th>2</th>\n",
       "      <td>C(d_endocrine_diseases, Treatment(reference='A...</td>\n",
       "      <td>-1.134000e-01</td>\n",
       "      <td>-4.450</td>\n",
       "      <td>0.000</td>\n",
       "    </tr>\n",
       "    <tr>\n",
       "      <th>3</th>\n",
       "      <td>C(d_gastrointestinal_diseases, Treatment(refer...</td>\n",
       "      <td>-8.700000e-03</td>\n",
       "      <td>-0.382</td>\n",
       "      <td>0.703</td>\n",
       "    </tr>\n",
       "    <tr>\n",
       "      <th>4</th>\n",
       "      <td>C(d_genitourinary_diseases, Treatment(referenc...</td>\n",
       "      <td>-3.350000e-02</td>\n",
       "      <td>-1.451</td>\n",
       "      <td>0.147</td>\n",
       "    </tr>\n",
       "    <tr>\n",
       "      <th>5</th>\n",
       "      <td>C(d_infections, Treatment(reference='Absent'))...</td>\n",
       "      <td>1.290000e-01</td>\n",
       "      <td>7.522</td>\n",
       "      <td>0.000</td>\n",
       "    </tr>\n",
       "    <tr>\n",
       "      <th>6</th>\n",
       "      <td>C(d_injuries_and_external_causes, Treatment(re...</td>\n",
       "      <td>2.191000e-01</td>\n",
       "      <td>17.146</td>\n",
       "      <td>0.000</td>\n",
       "    </tr>\n",
       "    <tr>\n",
       "      <th>7</th>\n",
       "      <td>C(d_mental_and_substance_use_disorders, Treatm...</td>\n",
       "      <td>-7.820000e-02</td>\n",
       "      <td>-3.448</td>\n",
       "      <td>0.001</td>\n",
       "    </tr>\n",
       "    <tr>\n",
       "      <th>8</th>\n",
       "      <td>C(d_musculoskeletal_diseases, Treatment(refere...</td>\n",
       "      <td>-4.520000e-02</td>\n",
       "      <td>-2.111</td>\n",
       "      <td>0.035</td>\n",
       "    </tr>\n",
       "    <tr>\n",
       "      <th>9</th>\n",
       "      <td>C(d_neoplasms, Treatment(reference='Absent'))[...</td>\n",
       "      <td>3.546000e-01</td>\n",
       "      <td>33.230</td>\n",
       "      <td>0.000</td>\n",
       "    </tr>\n",
       "    <tr>\n",
       "      <th>10</th>\n",
       "      <td>C(d_nervous_system_diseases, Treatment(referen...</td>\n",
       "      <td>1.547000e-01</td>\n",
       "      <td>8.568</td>\n",
       "      <td>0.000</td>\n",
       "    </tr>\n",
       "    <tr>\n",
       "      <th>11</th>\n",
       "      <td>C(d_respiratory_diseases, Treatment(reference=...</td>\n",
       "      <td>1.003000e-01</td>\n",
       "      <td>4.497</td>\n",
       "      <td>0.000</td>\n",
       "    </tr>\n",
       "    <tr>\n",
       "      <th>12</th>\n",
       "      <td>C(ndi_quantile, Treatment(reference=4))[T.1]</td>\n",
       "      <td>5.200000e-01</td>\n",
       "      <td>18.672</td>\n",
       "      <td>0.000</td>\n",
       "    </tr>\n",
       "    <tr>\n",
       "      <th>13</th>\n",
       "      <td>C(ndi_quantile, Treatment(reference=4))[T.2]</td>\n",
       "      <td>2.660000e-01</td>\n",
       "      <td>9.121</td>\n",
       "      <td>0.000</td>\n",
       "    </tr>\n",
       "    <tr>\n",
       "      <th>14</th>\n",
       "      <td>C(ndi_quantile, Treatment(reference=4))[T.3]</td>\n",
       "      <td>1.186000e-01</td>\n",
       "      <td>3.780</td>\n",
       "      <td>0.000</td>\n",
       "    </tr>\n",
       "    <tr>\n",
       "      <th>15</th>\n",
       "      <td>year_int</td>\n",
       "      <td>-7.850000e-02</td>\n",
       "      <td>-31.404</td>\n",
       "      <td>0.000</td>\n",
       "    </tr>\n",
       "    <tr>\n",
       "      <th>16</th>\n",
       "      <td>goal_amount</td>\n",
       "      <td>-4.700000e-10</td>\n",
       "      <td>-0.479</td>\n",
       "      <td>0.632</td>\n",
       "    </tr>\n",
       "  </tbody>\n",
       "</table>\n",
       "</div>"
      ],
      "text/plain": [
       "                                                  var          coef       z  \\\n",
       "0                                           Intercept  1.663857e+02  32.999   \n",
       "1   C(d_cardiovascular_diseases, Treatment(referen...  5.740000e-02   3.816   \n",
       "2   C(d_endocrine_diseases, Treatment(reference='A... -1.134000e-01  -4.450   \n",
       "3   C(d_gastrointestinal_diseases, Treatment(refer... -8.700000e-03  -0.382   \n",
       "4   C(d_genitourinary_diseases, Treatment(referenc... -3.350000e-02  -1.451   \n",
       "5   C(d_infections, Treatment(reference='Absent'))...  1.290000e-01   7.522   \n",
       "6   C(d_injuries_and_external_causes, Treatment(re...  2.191000e-01  17.146   \n",
       "7   C(d_mental_and_substance_use_disorders, Treatm... -7.820000e-02  -3.448   \n",
       "8   C(d_musculoskeletal_diseases, Treatment(refere... -4.520000e-02  -2.111   \n",
       "9   C(d_neoplasms, Treatment(reference='Absent'))[...  3.546000e-01  33.230   \n",
       "10  C(d_nervous_system_diseases, Treatment(referen...  1.547000e-01   8.568   \n",
       "11  C(d_respiratory_diseases, Treatment(reference=...  1.003000e-01   4.497   \n",
       "12       C(ndi_quantile, Treatment(reference=4))[T.1]  5.200000e-01  18.672   \n",
       "13       C(ndi_quantile, Treatment(reference=4))[T.2]  2.660000e-01   9.121   \n",
       "14       C(ndi_quantile, Treatment(reference=4))[T.3]  1.186000e-01   3.780   \n",
       "15                                           year_int -7.850000e-02 -31.404   \n",
       "16                                        goal_amount -4.700000e-10  -0.479   \n",
       "\n",
       "    P>|z|  \n",
       "0   0.000  \n",
       "1   0.000  \n",
       "2   0.000  \n",
       "3   0.703  \n",
       "4   0.147  \n",
       "5   0.000  \n",
       "6   0.000  \n",
       "7   0.001  \n",
       "8   0.035  \n",
       "9   0.000  \n",
       "10  0.000  \n",
       "11  0.000  \n",
       "12  0.000  \n",
       "13  0.000  \n",
       "14  0.000  \n",
       "15  0.000  \n",
       "16  0.632  "
      ]
     },
     "execution_count": 111,
     "metadata": {},
     "output_type": "execute_result"
    }
   ],
   "source": [
    "# to view individual result dfs, enter:\n",
    "# 1) whether you want untransformed goal amount or box-cox transformed goal amount\n",
    "# 2) then select which cutoff you want for goal amount\n",
    "# For example:\n",
    "sensitivity_analysis['goal_amount']['current_amount_capped_100000']"
   ]
  },
  {
   "cell_type": "markdown",
   "metadata": {},
   "source": [
    "### Final regression\n",
    "\n",
    "- done in R (filename = \"estimate_tweedie_variance_power.R\")"
   ]
  },
  {
   "cell_type": "markdown",
   "metadata": {
    "tags": []
   },
   "source": [
    "# Figure 2: Regression model of amount raised"
   ]
  },
  {
   "cell_type": "code",
   "execution_count": 85,
   "metadata": {},
   "outputs": [],
   "source": [
    "formula_final = '''current_amount ~ \n",
    "C(d_cardiovascular_diseases, Treatment(reference='Absent')) + \n",
    "C(d_endocrine_diseases, Treatment(reference='Absent')) + \n",
    "C(d_gastrointestinal_diseases, Treatment(reference='Absent')) + \n",
    "C(d_genitourinary_diseases, Treatment(reference='Absent')) + \n",
    "C(d_infections, Treatment(reference='Absent')) + \n",
    "C(d_injuries_and_external_causes, Treatment(reference='Absent')) + \n",
    "C(d_mental_and_substance_use_disorders, Treatment(reference='Absent')) + \n",
    "C(d_musculoskeletal_diseases, Treatment(reference='Absent')) + \n",
    "C(d_neoplasms, Treatment(reference='Absent')) + \n",
    "C(d_nervous_system_diseases, Treatment(reference='Absent')) + \n",
    "C(d_respiratory_diseases, Treatment(reference='Absent')) +\n",
    "year_int + \n",
    "goal_amount_boxcox +\n",
    "C(ndi_quantile, Treatment(reference=4))'''.replace('\\n','')\n",
    "        \n",
    "model = sm.GLM.from_formula(formula=formula_final, \n",
    "                            data=master, \n",
    "                            family=sm.genmod.families.family.Tweedie(var_power = 1.72, eql=False))"
   ]
  },
  {
   "cell_type": "code",
   "execution_count": 86,
   "metadata": {},
   "outputs": [
    {
     "data": {
      "text/html": [
       "<table class=\"simpletable\">\n",
       "<caption>Generalized Linear Model Regression Results</caption>\n",
       "<tr>\n",
       "  <th>Dep. Variable:</th>    <td>current_amount</td>  <th>  No. Observations:  </th>   <td> 89645</td>  \n",
       "</tr>\n",
       "<tr>\n",
       "  <th>Model:</th>                  <td>GLM</td>       <th>  Df Residuals:      </th>   <td> 89628</td>  \n",
       "</tr>\n",
       "<tr>\n",
       "  <th>Model Family:</th>         <td>Tweedie</td>     <th>  Df Model:          </th>   <td>    16</td>  \n",
       "</tr>\n",
       "<tr>\n",
       "  <th>Link Function:</th>          <td>Log</td>       <th>  Scale:             </th>  <td>  31.347</td> \n",
       "</tr>\n",
       "<tr>\n",
       "  <th>Method:</th>                <td>IRLS</td>       <th>  Log-Likelihood:    </th>  <td>     nan</td> \n",
       "</tr>\n",
       "<tr>\n",
       "  <th>Date:</th>            <td>Tue, 25 Mar 2025</td> <th>  Deviance:          </th> <td>9.4683e+05</td>\n",
       "</tr>\n",
       "<tr>\n",
       "  <th>Time:</th>                <td>14:51:44</td>     <th>  Pearson chi2:      </th>  <td>2.81e+06</td> \n",
       "</tr>\n",
       "<tr>\n",
       "  <th>No. Iterations:</th>         <td>95</td>        <th>  Pseudo R-squ. (CS):</th>   <td>   nan</td>  \n",
       "</tr>\n",
       "<tr>\n",
       "  <th>Covariance Type:</th>     <td>nonrobust</td>    <th>                     </th>      <td> </td>    \n",
       "</tr>\n",
       "</table>\n",
       "<table class=\"simpletable\">\n",
       "<tr>\n",
       "                                          <td></td>                                             <th>coef</th>     <th>std err</th>      <th>z</th>      <th>P>|z|</th>  <th>[0.025</th>    <th>0.975]</th>  \n",
       "</tr>\n",
       "<tr>\n",
       "  <th>Intercept</th>                                                                         <td>  150.4368</td> <td>    5.678</td> <td>   26.494</td> <td> 0.000</td> <td>  139.308</td> <td>  161.566</td>\n",
       "</tr>\n",
       "<tr>\n",
       "  <th>C(d_cardiovascular_diseases, Treatment(reference='Absent'))[T.Present]</th>            <td>    0.0197</td> <td>    0.017</td> <td>    1.170</td> <td> 0.242</td> <td>   -0.013</td> <td>    0.053</td>\n",
       "</tr>\n",
       "<tr>\n",
       "  <th>C(d_endocrine_diseases, Treatment(reference='Absent'))[T.Present]</th>                 <td>   -0.1174</td> <td>    0.028</td> <td>   -4.130</td> <td> 0.000</td> <td>   -0.173</td> <td>   -0.062</td>\n",
       "</tr>\n",
       "<tr>\n",
       "  <th>C(d_gastrointestinal_diseases, Treatment(reference='Absent'))[T.Present]</th>          <td>   -0.0157</td> <td>    0.025</td> <td>   -0.619</td> <td> 0.536</td> <td>   -0.065</td> <td>    0.034</td>\n",
       "</tr>\n",
       "<tr>\n",
       "  <th>C(d_genitourinary_diseases, Treatment(reference='Absent'))[T.Present]</th>             <td>   -0.0669</td> <td>    0.026</td> <td>   -2.599</td> <td> 0.009</td> <td>   -0.117</td> <td>   -0.016</td>\n",
       "</tr>\n",
       "<tr>\n",
       "  <th>C(d_infections, Treatment(reference='Absent'))[T.Present]</th>                         <td>    0.0611</td> <td>    0.019</td> <td>    3.182</td> <td> 0.001</td> <td>    0.023</td> <td>    0.099</td>\n",
       "</tr>\n",
       "<tr>\n",
       "  <th>C(d_injuries_and_external_causes, Treatment(reference='Absent'))[T.Present]</th>       <td>    0.1217</td> <td>    0.014</td> <td>    8.487</td> <td> 0.000</td> <td>    0.094</td> <td>    0.150</td>\n",
       "</tr>\n",
       "<tr>\n",
       "  <th>C(d_mental_and_substance_use_disorders, Treatment(reference='Absent'))[T.Present]</th> <td>   -0.0796</td> <td>    0.025</td> <td>   -3.136</td> <td> 0.002</td> <td>   -0.129</td> <td>   -0.030</td>\n",
       "</tr>\n",
       "<tr>\n",
       "  <th>C(d_musculoskeletal_diseases, Treatment(reference='Absent'))[T.Present]</th>           <td>   -0.0326</td> <td>    0.024</td> <td>   -1.367</td> <td> 0.172</td> <td>   -0.079</td> <td>    0.014</td>\n",
       "</tr>\n",
       "<tr>\n",
       "  <th>C(d_neoplasms, Treatment(reference='Absent'))[T.Present]</th>                          <td>    0.2211</td> <td>    0.012</td> <td>   18.346</td> <td> 0.000</td> <td>    0.197</td> <td>    0.245</td>\n",
       "</tr>\n",
       "<tr>\n",
       "  <th>C(d_nervous_system_diseases, Treatment(reference='Absent'))[T.Present]</th>            <td>    0.0871</td> <td>    0.020</td> <td>    4.314</td> <td> 0.000</td> <td>    0.048</td> <td>    0.127</td>\n",
       "</tr>\n",
       "<tr>\n",
       "  <th>C(d_respiratory_diseases, Treatment(reference='Absent'))[T.Present]</th>               <td>    0.0874</td> <td>    0.025</td> <td>    3.519</td> <td> 0.000</td> <td>    0.039</td> <td>    0.136</td>\n",
       "</tr>\n",
       "<tr>\n",
       "  <th>C(ndi_quantile, Treatment(reference=4))[T.1]</th>                                      <td>    0.3940</td> <td>    0.031</td> <td>   12.684</td> <td> 0.000</td> <td>    0.333</td> <td>    0.455</td>\n",
       "</tr>\n",
       "<tr>\n",
       "  <th>C(ndi_quantile, Treatment(reference=4))[T.2]</th>                                      <td>    0.1902</td> <td>    0.033</td> <td>    5.848</td> <td> 0.000</td> <td>    0.126</td> <td>    0.254</td>\n",
       "</tr>\n",
       "<tr>\n",
       "  <th>C(ndi_quantile, Treatment(reference=4))[T.3]</th>                                      <td>    0.0814</td> <td>    0.035</td> <td>    2.327</td> <td> 0.020</td> <td>    0.013</td> <td>    0.150</td>\n",
       "</tr>\n",
       "<tr>\n",
       "  <th>year_int</th>                                                                          <td>   -0.0718</td> <td>    0.003</td> <td>  -25.531</td> <td> 0.000</td> <td>   -0.077</td> <td>   -0.066</td>\n",
       "</tr>\n",
       "<tr>\n",
       "  <th>goal_amount_boxcox</th>                                                                <td>    0.1999</td> <td>    0.002</td> <td>   87.307</td> <td> 0.000</td> <td>    0.195</td> <td>    0.204</td>\n",
       "</tr>\n",
       "</table>"
      ],
      "text/plain": [
       "<class 'statsmodels.iolib.summary.Summary'>\n",
       "\"\"\"\n",
       "                 Generalized Linear Model Regression Results                  \n",
       "==============================================================================\n",
       "Dep. Variable:         current_amount   No. Observations:                89645\n",
       "Model:                            GLM   Df Residuals:                    89628\n",
       "Model Family:                 Tweedie   Df Model:                           16\n",
       "Link Function:                    Log   Scale:                          31.347\n",
       "Method:                          IRLS   Log-Likelihood:                    nan\n",
       "Date:                Tue, 25 Mar 2025   Deviance:                   9.4683e+05\n",
       "Time:                        14:51:44   Pearson chi2:                 2.81e+06\n",
       "No. Iterations:                    95   Pseudo R-squ. (CS):                nan\n",
       "Covariance Type:            nonrobust                                         \n",
       "=====================================================================================================================================================\n",
       "                                                                                        coef    std err          z      P>|z|      [0.025      0.975]\n",
       "-----------------------------------------------------------------------------------------------------------------------------------------------------\n",
       "Intercept                                                                           150.4368      5.678     26.494      0.000     139.308     161.566\n",
       "C(d_cardiovascular_diseases, Treatment(reference='Absent'))[T.Present]                0.0197      0.017      1.170      0.242      -0.013       0.053\n",
       "C(d_endocrine_diseases, Treatment(reference='Absent'))[T.Present]                    -0.1174      0.028     -4.130      0.000      -0.173      -0.062\n",
       "C(d_gastrointestinal_diseases, Treatment(reference='Absent'))[T.Present]             -0.0157      0.025     -0.619      0.536      -0.065       0.034\n",
       "C(d_genitourinary_diseases, Treatment(reference='Absent'))[T.Present]                -0.0669      0.026     -2.599      0.009      -0.117      -0.016\n",
       "C(d_infections, Treatment(reference='Absent'))[T.Present]                             0.0611      0.019      3.182      0.001       0.023       0.099\n",
       "C(d_injuries_and_external_causes, Treatment(reference='Absent'))[T.Present]           0.1217      0.014      8.487      0.000       0.094       0.150\n",
       "C(d_mental_and_substance_use_disorders, Treatment(reference='Absent'))[T.Present]    -0.0796      0.025     -3.136      0.002      -0.129      -0.030\n",
       "C(d_musculoskeletal_diseases, Treatment(reference='Absent'))[T.Present]              -0.0326      0.024     -1.367      0.172      -0.079       0.014\n",
       "C(d_neoplasms, Treatment(reference='Absent'))[T.Present]                              0.2211      0.012     18.346      0.000       0.197       0.245\n",
       "C(d_nervous_system_diseases, Treatment(reference='Absent'))[T.Present]                0.0871      0.020      4.314      0.000       0.048       0.127\n",
       "C(d_respiratory_diseases, Treatment(reference='Absent'))[T.Present]                   0.0874      0.025      3.519      0.000       0.039       0.136\n",
       "C(ndi_quantile, Treatment(reference=4))[T.1]                                          0.3940      0.031     12.684      0.000       0.333       0.455\n",
       "C(ndi_quantile, Treatment(reference=4))[T.2]                                          0.1902      0.033      5.848      0.000       0.126       0.254\n",
       "C(ndi_quantile, Treatment(reference=4))[T.3]                                          0.0814      0.035      2.327      0.020       0.013       0.150\n",
       "year_int                                                                             -0.0718      0.003    -25.531      0.000      -0.077      -0.066\n",
       "goal_amount_boxcox                                                                    0.1999      0.002     87.307      0.000       0.195       0.204\n",
       "=====================================================================================================================================================\n",
       "\"\"\""
      ]
     },
     "execution_count": 86,
     "metadata": {},
     "output_type": "execute_result"
    }
   ],
   "source": [
    "model.fit().summary()"
   ]
  },
  {
   "cell_type": "markdown",
   "metadata": {
    "tags": []
   },
   "source": [
    "### Regression functions"
   ]
  },
  {
   "cell_type": "code",
   "execution_count": 88,
   "metadata": {},
   "outputs": [],
   "source": [
    "def ModelResults(model):\n",
    "    fit = model.fit()\n",
    "    html = fit.summary().as_html()\n",
    "    df = pd.read_html(html, header=0)[1]\n",
    "    df.columns = ['var','coef','std err','z','P>|z|','[0.025','0.975]']\n",
    "    return df"
   ]
  },
  {
   "cell_type": "code",
   "execution_count": 89,
   "metadata": {},
   "outputs": [],
   "source": [
    "def GetBeta(df):\n",
    "    beta = df['coef'].round(2).astype(str) + ' (' + df['std err'].round(2).astype(str) + ')'\n",
    "    res = pd.concat([df['var'],beta],axis=1)\n",
    "    res.columns = ['var','beta_se']\n",
    "    return res"
   ]
  },
  {
   "cell_type": "code",
   "execution_count": 90,
   "metadata": {},
   "outputs": [],
   "source": [
    "def GetPer(df):\n",
    "    '''\n",
    "    calculates expected percent change in dependent variable assuming log link function\n",
    "    '''\n",
    "    exp_coef = (np.exp(df['coef']) - 1) * 100\n",
    "    exp_low = (np.exp(df['[0.025']) - 1) * 100\n",
    "    exp_high = (np.exp(df['0.975]']) - 1) * 100\n",
    "    \n",
    "    res = pd.concat([df['var'],exp_coef,exp_low,exp_high],axis=1)\n",
    "    res.columns = ['var','per','ci_low','ci_high']\n",
    "    return res"
   ]
  },
  {
   "cell_type": "code",
   "execution_count": 91,
   "metadata": {},
   "outputs": [],
   "source": [
    "def GetPerFormatted(df):\n",
    "    '''\n",
    "    References:\n",
    "    https://data.library.virginia.edu/interpreting-log-transformations-in-a-linear-model/\n",
    "    https://stats.stackexchange.com/questions/431120/how-to-interpret-parameters-of-glm-output-with-gamma-log-link\n",
    "    '''\n",
    "    exp_coef = (np.exp(df['coef']) - 1) * 100\n",
    "    exp_low = (np.exp(df['[0.025']) - 1) * 100\n",
    "    exp_high = (np.exp(df['0.975]']) - 1) * 100\n",
    "    \n",
    "    r = exp_coef.round(1).astype(str) + ' (' + exp_low.round(1).astype(str) + ', ' + exp_high.round(1).astype(str) + ')'\n",
    "    res = pd.concat([df['var'],r],axis=1)\n",
    "    res.columns = ['var','per_formatted']\n",
    "\n",
    "    return res"
   ]
  },
  {
   "cell_type": "code",
   "execution_count": 92,
   "metadata": {},
   "outputs": [],
   "source": [
    "model_res = ModelResults(model)\n",
    "beta_se = GetBeta(model_res)\n",
    "per = GetPer(model_res)\n",
    "per_formatted = GetPerFormatted(model_res)"
   ]
  },
  {
   "cell_type": "markdown",
   "metadata": {},
   "source": [
    "### Regression output for table"
   ]
  },
  {
   "cell_type": "code",
   "execution_count": 93,
   "metadata": {},
   "outputs": [],
   "source": [
    "regression_table = model_res[['var','z','P>|z|']].merge(beta_se, on='var')\n",
    "regression_table = regression_table.merge(per_formatted, on='var')"
   ]
  },
  {
   "cell_type": "code",
   "execution_count": 94,
   "metadata": {},
   "outputs": [
    {
     "data": {
      "text/html": [
       "<div>\n",
       "<style scoped>\n",
       "    .dataframe tbody tr th:only-of-type {\n",
       "        vertical-align: middle;\n",
       "    }\n",
       "\n",
       "    .dataframe tbody tr th {\n",
       "        vertical-align: top;\n",
       "    }\n",
       "\n",
       "    .dataframe thead th {\n",
       "        text-align: right;\n",
       "    }\n",
       "</style>\n",
       "<table border=\"1\" class=\"dataframe\">\n",
       "  <thead>\n",
       "    <tr style=\"text-align: right;\">\n",
       "      <th></th>\n",
       "      <th>var</th>\n",
       "      <th>z</th>\n",
       "      <th>P&gt;|z|</th>\n",
       "      <th>beta_se</th>\n",
       "      <th>per_formatted</th>\n",
       "    </tr>\n",
       "  </thead>\n",
       "  <tbody>\n",
       "    <tr>\n",
       "      <th>0</th>\n",
       "      <td>Intercept</td>\n",
       "      <td>26.494</td>\n",
       "      <td>0.000</td>\n",
       "      <td>150.44 (5.68)</td>\n",
       "      <td>2.1571091210329786e+67 (3.167347289460255e+62,...</td>\n",
       "    </tr>\n",
       "    <tr>\n",
       "      <th>1</th>\n",
       "      <td>C(d_cardiovascular_diseases, Treatment(referen...</td>\n",
       "      <td>1.170</td>\n",
       "      <td>0.242</td>\n",
       "      <td>0.02 (0.02)</td>\n",
       "      <td>2.0 (-1.3, 5.4)</td>\n",
       "    </tr>\n",
       "    <tr>\n",
       "      <th>2</th>\n",
       "      <td>C(d_endocrine_diseases, Treatment(reference='A...</td>\n",
       "      <td>-4.130</td>\n",
       "      <td>0.000</td>\n",
       "      <td>-0.12 (0.03)</td>\n",
       "      <td>-11.1 (-15.9, -6.0)</td>\n",
       "    </tr>\n",
       "    <tr>\n",
       "      <th>3</th>\n",
       "      <td>C(d_gastrointestinal_diseases, Treatment(refer...</td>\n",
       "      <td>-0.619</td>\n",
       "      <td>0.536</td>\n",
       "      <td>-0.02 (0.02)</td>\n",
       "      <td>-1.6 (-6.3, 3.5)</td>\n",
       "    </tr>\n",
       "    <tr>\n",
       "      <th>4</th>\n",
       "      <td>C(d_genitourinary_diseases, Treatment(referenc...</td>\n",
       "      <td>-2.599</td>\n",
       "      <td>0.009</td>\n",
       "      <td>-0.07 (0.03)</td>\n",
       "      <td>-6.5 (-11.0, -1.6)</td>\n",
       "    </tr>\n",
       "    <tr>\n",
       "      <th>5</th>\n",
       "      <td>C(d_infections, Treatment(reference='Absent'))...</td>\n",
       "      <td>3.182</td>\n",
       "      <td>0.001</td>\n",
       "      <td>0.06 (0.02)</td>\n",
       "      <td>6.3 (2.3, 10.4)</td>\n",
       "    </tr>\n",
       "    <tr>\n",
       "      <th>6</th>\n",
       "      <td>C(d_injuries_and_external_causes, Treatment(re...</td>\n",
       "      <td>8.487</td>\n",
       "      <td>0.000</td>\n",
       "      <td>0.12 (0.01)</td>\n",
       "      <td>12.9 (9.9, 16.2)</td>\n",
       "    </tr>\n",
       "    <tr>\n",
       "      <th>7</th>\n",
       "      <td>C(d_mental_and_substance_use_disorders, Treatm...</td>\n",
       "      <td>-3.136</td>\n",
       "      <td>0.002</td>\n",
       "      <td>-0.08 (0.02)</td>\n",
       "      <td>-7.7 (-12.1, -3.0)</td>\n",
       "    </tr>\n",
       "    <tr>\n",
       "      <th>8</th>\n",
       "      <td>C(d_musculoskeletal_diseases, Treatment(refere...</td>\n",
       "      <td>-1.367</td>\n",
       "      <td>0.172</td>\n",
       "      <td>-0.03 (0.02)</td>\n",
       "      <td>-3.2 (-7.6, 1.4)</td>\n",
       "    </tr>\n",
       "    <tr>\n",
       "      <th>9</th>\n",
       "      <td>C(d_neoplasms, Treatment(reference='Absent'))[...</td>\n",
       "      <td>18.346</td>\n",
       "      <td>0.000</td>\n",
       "      <td>0.22 (0.01)</td>\n",
       "      <td>24.7 (21.8, 27.8)</td>\n",
       "    </tr>\n",
       "    <tr>\n",
       "      <th>10</th>\n",
       "      <td>C(d_nervous_system_diseases, Treatment(referen...</td>\n",
       "      <td>4.314</td>\n",
       "      <td>0.000</td>\n",
       "      <td>0.09 (0.02)</td>\n",
       "      <td>9.1 (4.9, 13.5)</td>\n",
       "    </tr>\n",
       "    <tr>\n",
       "      <th>11</th>\n",
       "      <td>C(d_respiratory_diseases, Treatment(reference=...</td>\n",
       "      <td>3.519</td>\n",
       "      <td>0.000</td>\n",
       "      <td>0.09 (0.02)</td>\n",
       "      <td>9.1 (4.0, 14.6)</td>\n",
       "    </tr>\n",
       "    <tr>\n",
       "      <th>12</th>\n",
       "      <td>C(ndi_quantile, Treatment(reference=4))[T.1]</td>\n",
       "      <td>12.684</td>\n",
       "      <td>0.000</td>\n",
       "      <td>0.39 (0.03)</td>\n",
       "      <td>48.3 (39.5, 57.6)</td>\n",
       "    </tr>\n",
       "    <tr>\n",
       "      <th>13</th>\n",
       "      <td>C(ndi_quantile, Treatment(reference=4))[T.2]</td>\n",
       "      <td>5.848</td>\n",
       "      <td>0.000</td>\n",
       "      <td>0.19 (0.03)</td>\n",
       "      <td>20.9 (13.4, 28.9)</td>\n",
       "    </tr>\n",
       "    <tr>\n",
       "      <th>14</th>\n",
       "      <td>C(ndi_quantile, Treatment(reference=4))[T.3]</td>\n",
       "      <td>2.327</td>\n",
       "      <td>0.020</td>\n",
       "      <td>0.08 (0.04)</td>\n",
       "      <td>8.5 (1.3, 16.2)</td>\n",
       "    </tr>\n",
       "    <tr>\n",
       "      <th>15</th>\n",
       "      <td>year_int</td>\n",
       "      <td>-25.531</td>\n",
       "      <td>0.000</td>\n",
       "      <td>-0.07 (0.0)</td>\n",
       "      <td>-6.9 (-7.4, -6.4)</td>\n",
       "    </tr>\n",
       "    <tr>\n",
       "      <th>16</th>\n",
       "      <td>goal_amount_boxcox</td>\n",
       "      <td>87.307</td>\n",
       "      <td>0.000</td>\n",
       "      <td>0.2 (0.0)</td>\n",
       "      <td>22.1 (21.5, 22.6)</td>\n",
       "    </tr>\n",
       "  </tbody>\n",
       "</table>\n",
       "</div>"
      ],
      "text/plain": [
       "                                                  var       z  P>|z|  \\\n",
       "0                                           Intercept  26.494  0.000   \n",
       "1   C(d_cardiovascular_diseases, Treatment(referen...   1.170  0.242   \n",
       "2   C(d_endocrine_diseases, Treatment(reference='A...  -4.130  0.000   \n",
       "3   C(d_gastrointestinal_diseases, Treatment(refer...  -0.619  0.536   \n",
       "4   C(d_genitourinary_diseases, Treatment(referenc...  -2.599  0.009   \n",
       "5   C(d_infections, Treatment(reference='Absent'))...   3.182  0.001   \n",
       "6   C(d_injuries_and_external_causes, Treatment(re...   8.487  0.000   \n",
       "7   C(d_mental_and_substance_use_disorders, Treatm...  -3.136  0.002   \n",
       "8   C(d_musculoskeletal_diseases, Treatment(refere...  -1.367  0.172   \n",
       "9   C(d_neoplasms, Treatment(reference='Absent'))[...  18.346  0.000   \n",
       "10  C(d_nervous_system_diseases, Treatment(referen...   4.314  0.000   \n",
       "11  C(d_respiratory_diseases, Treatment(reference=...   3.519  0.000   \n",
       "12       C(ndi_quantile, Treatment(reference=4))[T.1]  12.684  0.000   \n",
       "13       C(ndi_quantile, Treatment(reference=4))[T.2]   5.848  0.000   \n",
       "14       C(ndi_quantile, Treatment(reference=4))[T.3]   2.327  0.020   \n",
       "15                                           year_int -25.531  0.000   \n",
       "16                                 goal_amount_boxcox  87.307  0.000   \n",
       "\n",
       "          beta_se                                      per_formatted  \n",
       "0   150.44 (5.68)  2.1571091210329786e+67 (3.167347289460255e+62,...  \n",
       "1     0.02 (0.02)                                    2.0 (-1.3, 5.4)  \n",
       "2    -0.12 (0.03)                                -11.1 (-15.9, -6.0)  \n",
       "3    -0.02 (0.02)                                   -1.6 (-6.3, 3.5)  \n",
       "4    -0.07 (0.03)                                 -6.5 (-11.0, -1.6)  \n",
       "5     0.06 (0.02)                                    6.3 (2.3, 10.4)  \n",
       "6     0.12 (0.01)                                   12.9 (9.9, 16.2)  \n",
       "7    -0.08 (0.02)                                 -7.7 (-12.1, -3.0)  \n",
       "8    -0.03 (0.02)                                   -3.2 (-7.6, 1.4)  \n",
       "9     0.22 (0.01)                                  24.7 (21.8, 27.8)  \n",
       "10    0.09 (0.02)                                    9.1 (4.9, 13.5)  \n",
       "11    0.09 (0.02)                                    9.1 (4.0, 14.6)  \n",
       "12    0.39 (0.03)                                  48.3 (39.5, 57.6)  \n",
       "13    0.19 (0.03)                                  20.9 (13.4, 28.9)  \n",
       "14    0.08 (0.04)                                    8.5 (1.3, 16.2)  \n",
       "15    -0.07 (0.0)                                  -6.9 (-7.4, -6.4)  \n",
       "16      0.2 (0.0)                                  22.1 (21.5, 22.6)  "
      ]
     },
     "execution_count": 94,
     "metadata": {},
     "output_type": "execute_result"
    }
   ],
   "source": [
    "regression_table"
   ]
  },
  {
   "cell_type": "code",
   "execution_count": 95,
   "metadata": {},
   "outputs": [],
   "source": [
    "# regression_table.to_csv(\"../figure_2_data.txt\", sep=\"\\t\", index=False)"
   ]
  },
  {
   "cell_type": "markdown",
   "metadata": {},
   "source": [
    "### Formatting data for plot"
   ]
  },
  {
   "cell_type": "code",
   "execution_count": 96,
   "metadata": {},
   "outputs": [],
   "source": [
    "# subset disease categories and NDI quartile\n",
    "reg_plot = per.iloc[1:15,]"
   ]
  },
  {
   "cell_type": "code",
   "execution_count": 97,
   "metadata": {},
   "outputs": [
    {
     "data": {
      "text/html": [
       "<div>\n",
       "<style scoped>\n",
       "    .dataframe tbody tr th:only-of-type {\n",
       "        vertical-align: middle;\n",
       "    }\n",
       "\n",
       "    .dataframe tbody tr th {\n",
       "        vertical-align: top;\n",
       "    }\n",
       "\n",
       "    .dataframe thead th {\n",
       "        text-align: right;\n",
       "    }\n",
       "</style>\n",
       "<table border=\"1\" class=\"dataframe\">\n",
       "  <thead>\n",
       "    <tr style=\"text-align: right;\">\n",
       "      <th></th>\n",
       "      <th>var</th>\n",
       "      <th>per</th>\n",
       "      <th>ci_low</th>\n",
       "      <th>ci_high</th>\n",
       "    </tr>\n",
       "  </thead>\n",
       "  <tbody>\n",
       "    <tr>\n",
       "      <th>1</th>\n",
       "      <td>C(d_cardiovascular_diseases, Treatment(referen...</td>\n",
       "      <td>1.989533</td>\n",
       "      <td>-1.291586</td>\n",
       "      <td>5.442965</td>\n",
       "    </tr>\n",
       "    <tr>\n",
       "      <th>2</th>\n",
       "      <td>C(d_endocrine_diseases, Treatment(reference='A...</td>\n",
       "      <td>-11.077057</td>\n",
       "      <td>-15.886239</td>\n",
       "      <td>-6.011711</td>\n",
       "    </tr>\n",
       "    <tr>\n",
       "      <th>3</th>\n",
       "      <td>C(d_gastrointestinal_diseases, Treatment(refer...</td>\n",
       "      <td>-1.557740</td>\n",
       "      <td>-6.293254</td>\n",
       "      <td>3.458461</td>\n",
       "    </tr>\n",
       "    <tr>\n",
       "      <th>4</th>\n",
       "      <td>C(d_genitourinary_diseases, Treatment(referenc...</td>\n",
       "      <td>-6.471127</td>\n",
       "      <td>-11.041481</td>\n",
       "      <td>-1.587268</td>\n",
       "    </tr>\n",
       "    <tr>\n",
       "      <th>5</th>\n",
       "      <td>C(d_infections, Treatment(reference='Absent'))...</td>\n",
       "      <td>6.300521</td>\n",
       "      <td>2.326654</td>\n",
       "      <td>10.406630</td>\n",
       "    </tr>\n",
       "    <tr>\n",
       "      <th>6</th>\n",
       "      <td>C(d_injuries_and_external_causes, Treatment(re...</td>\n",
       "      <td>12.941523</td>\n",
       "      <td>9.855975</td>\n",
       "      <td>16.183424</td>\n",
       "    </tr>\n",
       "    <tr>\n",
       "      <th>7</th>\n",
       "      <td>C(d_mental_and_substance_use_disorders, Treatm...</td>\n",
       "      <td>-7.651433</td>\n",
       "      <td>-12.102603</td>\n",
       "      <td>-2.955447</td>\n",
       "    </tr>\n",
       "    <tr>\n",
       "      <th>8</th>\n",
       "      <td>C(d_musculoskeletal_diseases, Treatment(refere...</td>\n",
       "      <td>-3.207435</td>\n",
       "      <td>-7.596008</td>\n",
       "      <td>1.409846</td>\n",
       "    </tr>\n",
       "    <tr>\n",
       "      <th>9</th>\n",
       "      <td>C(d_neoplasms, Treatment(reference='Absent'))[...</td>\n",
       "      <td>24.744817</td>\n",
       "      <td>21.774404</td>\n",
       "      <td>27.762131</td>\n",
       "    </tr>\n",
       "    <tr>\n",
       "      <th>10</th>\n",
       "      <td>C(d_nervous_system_diseases, Treatment(referen...</td>\n",
       "      <td>9.100577</td>\n",
       "      <td>4.917066</td>\n",
       "      <td>13.541702</td>\n",
       "    </tr>\n",
       "    <tr>\n",
       "      <th>11</th>\n",
       "      <td>C(d_respiratory_diseases, Treatment(reference=...</td>\n",
       "      <td>9.133313</td>\n",
       "      <td>3.977048</td>\n",
       "      <td>14.568189</td>\n",
       "    </tr>\n",
       "    <tr>\n",
       "      <th>12</th>\n",
       "      <td>C(ndi_quantile, Treatment(reference=4))[T.1]</td>\n",
       "      <td>48.290055</td>\n",
       "      <td>39.514730</td>\n",
       "      <td>57.617338</td>\n",
       "    </tr>\n",
       "    <tr>\n",
       "      <th>13</th>\n",
       "      <td>C(ndi_quantile, Treatment(reference=4))[T.2]</td>\n",
       "      <td>20.949147</td>\n",
       "      <td>13.428217</td>\n",
       "      <td>28.917180</td>\n",
       "    </tr>\n",
       "    <tr>\n",
       "      <th>14</th>\n",
       "      <td>C(ndi_quantile, Treatment(reference=4))[T.3]</td>\n",
       "      <td>8.480473</td>\n",
       "      <td>1.308487</td>\n",
       "      <td>16.183424</td>\n",
       "    </tr>\n",
       "  </tbody>\n",
       "</table>\n",
       "</div>"
      ],
      "text/plain": [
       "                                                  var        per     ci_low  \\\n",
       "1   C(d_cardiovascular_diseases, Treatment(referen...   1.989533  -1.291586   \n",
       "2   C(d_endocrine_diseases, Treatment(reference='A... -11.077057 -15.886239   \n",
       "3   C(d_gastrointestinal_diseases, Treatment(refer...  -1.557740  -6.293254   \n",
       "4   C(d_genitourinary_diseases, Treatment(referenc...  -6.471127 -11.041481   \n",
       "5   C(d_infections, Treatment(reference='Absent'))...   6.300521   2.326654   \n",
       "6   C(d_injuries_and_external_causes, Treatment(re...  12.941523   9.855975   \n",
       "7   C(d_mental_and_substance_use_disorders, Treatm...  -7.651433 -12.102603   \n",
       "8   C(d_musculoskeletal_diseases, Treatment(refere...  -3.207435  -7.596008   \n",
       "9   C(d_neoplasms, Treatment(reference='Absent'))[...  24.744817  21.774404   \n",
       "10  C(d_nervous_system_diseases, Treatment(referen...   9.100577   4.917066   \n",
       "11  C(d_respiratory_diseases, Treatment(reference=...   9.133313   3.977048   \n",
       "12       C(ndi_quantile, Treatment(reference=4))[T.1]  48.290055  39.514730   \n",
       "13       C(ndi_quantile, Treatment(reference=4))[T.2]  20.949147  13.428217   \n",
       "14       C(ndi_quantile, Treatment(reference=4))[T.3]   8.480473   1.308487   \n",
       "\n",
       "      ci_high  \n",
       "1    5.442965  \n",
       "2   -6.011711  \n",
       "3    3.458461  \n",
       "4   -1.587268  \n",
       "5   10.406630  \n",
       "6   16.183424  \n",
       "7   -2.955447  \n",
       "8    1.409846  \n",
       "9   27.762131  \n",
       "10  13.541702  \n",
       "11  14.568189  \n",
       "12  57.617338  \n",
       "13  28.917180  \n",
       "14  16.183424  "
      ]
     },
     "execution_count": 97,
     "metadata": {},
     "output_type": "execute_result"
    }
   ],
   "source": [
    "reg_plot"
   ]
  },
  {
   "cell_type": "code",
   "execution_count": 98,
   "metadata": {},
   "outputs": [],
   "source": [
    "# add new row for reference category of NDI quartile, create dummy confidence intervals for data uniformity\n",
    "new_row = pd.DataFrame({'var': ['4 (most deprived)'], 'per': [0], 'ci_low': [-0.0001], 'ci_high': [0.0001]})\n",
    "\n",
    "reg_plot = pd.concat([reg_plot, new_row], axis=0, ignore_index=True)"
   ]
  },
  {
   "cell_type": "code",
   "execution_count": 99,
   "metadata": {},
   "outputs": [],
   "source": [
    "new_var = [\n",
    "    'Cardiovascular diseases',\n",
    "    'Endocrine diseases',\n",
    "    'Gastrointestinal diseases',\n",
    "    'Genitourinary diseases',\n",
    "    'Infections',\n",
    "    'Injuries and external causes',\n",
    "    'Mental health disorders',\n",
    "    'Musculoskeletal diseases',\n",
    "    'Neoplasms',\n",
    "    'Nervous system diseases',\n",
    "    'Respiratory diseases',\n",
    "    '1 (least deprived)',\n",
    "    '2',\n",
    "    '3',\n",
    "    '4 (most deprived)'\n",
    "]"
   ]
  },
  {
   "cell_type": "code",
   "execution_count": 100,
   "metadata": {},
   "outputs": [],
   "source": [
    "reg_plot['var'] = new_var"
   ]
  },
  {
   "cell_type": "code",
   "execution_count": 101,
   "metadata": {},
   "outputs": [
    {
     "data": {
      "text/html": [
       "<div>\n",
       "<style scoped>\n",
       "    .dataframe tbody tr th:only-of-type {\n",
       "        vertical-align: middle;\n",
       "    }\n",
       "\n",
       "    .dataframe tbody tr th {\n",
       "        vertical-align: top;\n",
       "    }\n",
       "\n",
       "    .dataframe thead th {\n",
       "        text-align: right;\n",
       "    }\n",
       "</style>\n",
       "<table border=\"1\" class=\"dataframe\">\n",
       "  <thead>\n",
       "    <tr style=\"text-align: right;\">\n",
       "      <th></th>\n",
       "      <th>var</th>\n",
       "      <th>per</th>\n",
       "      <th>ci_low</th>\n",
       "      <th>ci_high</th>\n",
       "    </tr>\n",
       "  </thead>\n",
       "  <tbody>\n",
       "    <tr>\n",
       "      <th>0</th>\n",
       "      <td>Cardiovascular diseases</td>\n",
       "      <td>1.989533</td>\n",
       "      <td>-1.291586</td>\n",
       "      <td>5.442965</td>\n",
       "    </tr>\n",
       "    <tr>\n",
       "      <th>1</th>\n",
       "      <td>Endocrine diseases</td>\n",
       "      <td>-11.077057</td>\n",
       "      <td>-15.886239</td>\n",
       "      <td>-6.011711</td>\n",
       "    </tr>\n",
       "    <tr>\n",
       "      <th>2</th>\n",
       "      <td>Gastrointestinal diseases</td>\n",
       "      <td>-1.557740</td>\n",
       "      <td>-6.293254</td>\n",
       "      <td>3.458461</td>\n",
       "    </tr>\n",
       "    <tr>\n",
       "      <th>3</th>\n",
       "      <td>Genitourinary diseases</td>\n",
       "      <td>-6.471127</td>\n",
       "      <td>-11.041481</td>\n",
       "      <td>-1.587268</td>\n",
       "    </tr>\n",
       "    <tr>\n",
       "      <th>4</th>\n",
       "      <td>Infections</td>\n",
       "      <td>6.300521</td>\n",
       "      <td>2.326654</td>\n",
       "      <td>10.406630</td>\n",
       "    </tr>\n",
       "    <tr>\n",
       "      <th>5</th>\n",
       "      <td>Injuries and external causes</td>\n",
       "      <td>12.941523</td>\n",
       "      <td>9.855975</td>\n",
       "      <td>16.183424</td>\n",
       "    </tr>\n",
       "    <tr>\n",
       "      <th>6</th>\n",
       "      <td>Mental health disorders</td>\n",
       "      <td>-7.651433</td>\n",
       "      <td>-12.102603</td>\n",
       "      <td>-2.955447</td>\n",
       "    </tr>\n",
       "    <tr>\n",
       "      <th>7</th>\n",
       "      <td>Musculoskeletal diseases</td>\n",
       "      <td>-3.207435</td>\n",
       "      <td>-7.596008</td>\n",
       "      <td>1.409846</td>\n",
       "    </tr>\n",
       "    <tr>\n",
       "      <th>8</th>\n",
       "      <td>Neoplasms</td>\n",
       "      <td>24.744817</td>\n",
       "      <td>21.774404</td>\n",
       "      <td>27.762131</td>\n",
       "    </tr>\n",
       "    <tr>\n",
       "      <th>9</th>\n",
       "      <td>Nervous system diseases</td>\n",
       "      <td>9.100577</td>\n",
       "      <td>4.917066</td>\n",
       "      <td>13.541702</td>\n",
       "    </tr>\n",
       "    <tr>\n",
       "      <th>10</th>\n",
       "      <td>Respiratory diseases</td>\n",
       "      <td>9.133313</td>\n",
       "      <td>3.977048</td>\n",
       "      <td>14.568189</td>\n",
       "    </tr>\n",
       "    <tr>\n",
       "      <th>11</th>\n",
       "      <td>1 (least deprived)</td>\n",
       "      <td>48.290055</td>\n",
       "      <td>39.514730</td>\n",
       "      <td>57.617338</td>\n",
       "    </tr>\n",
       "    <tr>\n",
       "      <th>12</th>\n",
       "      <td>2</td>\n",
       "      <td>20.949147</td>\n",
       "      <td>13.428217</td>\n",
       "      <td>28.917180</td>\n",
       "    </tr>\n",
       "    <tr>\n",
       "      <th>13</th>\n",
       "      <td>3</td>\n",
       "      <td>8.480473</td>\n",
       "      <td>1.308487</td>\n",
       "      <td>16.183424</td>\n",
       "    </tr>\n",
       "    <tr>\n",
       "      <th>14</th>\n",
       "      <td>4 (most deprived)</td>\n",
       "      <td>0.000000</td>\n",
       "      <td>-0.000100</td>\n",
       "      <td>0.000100</td>\n",
       "    </tr>\n",
       "  </tbody>\n",
       "</table>\n",
       "</div>"
      ],
      "text/plain": [
       "                             var        per     ci_low    ci_high\n",
       "0        Cardiovascular diseases   1.989533  -1.291586   5.442965\n",
       "1             Endocrine diseases -11.077057 -15.886239  -6.011711\n",
       "2      Gastrointestinal diseases  -1.557740  -6.293254   3.458461\n",
       "3         Genitourinary diseases  -6.471127 -11.041481  -1.587268\n",
       "4                     Infections   6.300521   2.326654  10.406630\n",
       "5   Injuries and external causes  12.941523   9.855975  16.183424\n",
       "6        Mental health disorders  -7.651433 -12.102603  -2.955447\n",
       "7       Musculoskeletal diseases  -3.207435  -7.596008   1.409846\n",
       "8                      Neoplasms  24.744817  21.774404  27.762131\n",
       "9        Nervous system diseases   9.100577   4.917066  13.541702\n",
       "10          Respiratory diseases   9.133313   3.977048  14.568189\n",
       "11            1 (least deprived)  48.290055  39.514730  57.617338\n",
       "12                             2  20.949147  13.428217  28.917180\n",
       "13                             3   8.480473   1.308487  16.183424\n",
       "14             4 (most deprived)   0.000000  -0.000100   0.000100"
      ]
     },
     "execution_count": 101,
     "metadata": {},
     "output_type": "execute_result"
    }
   ],
   "source": [
    "reg_plot"
   ]
  },
  {
   "cell_type": "markdown",
   "metadata": {},
   "source": [
    "#### Disease categories plot"
   ]
  },
  {
   "cell_type": "code",
   "execution_count": 102,
   "metadata": {},
   "outputs": [
    {
     "data": {
      "text/html": [
       "<div>\n",
       "<style scoped>\n",
       "    .dataframe tbody tr th:only-of-type {\n",
       "        vertical-align: middle;\n",
       "    }\n",
       "\n",
       "    .dataframe tbody tr th {\n",
       "        vertical-align: top;\n",
       "    }\n",
       "\n",
       "    .dataframe thead th {\n",
       "        text-align: right;\n",
       "    }\n",
       "</style>\n",
       "<table border=\"1\" class=\"dataframe\">\n",
       "  <thead>\n",
       "    <tr style=\"text-align: right;\">\n",
       "      <th></th>\n",
       "      <th>var</th>\n",
       "      <th>per</th>\n",
       "      <th>ci_low</th>\n",
       "      <th>ci_high</th>\n",
       "    </tr>\n",
       "  </thead>\n",
       "  <tbody>\n",
       "    <tr>\n",
       "      <th>8</th>\n",
       "      <td>Neoplasms</td>\n",
       "      <td>24.744817</td>\n",
       "      <td>21.774404</td>\n",
       "      <td>27.762131</td>\n",
       "    </tr>\n",
       "    <tr>\n",
       "      <th>5</th>\n",
       "      <td>Injuries and external causes</td>\n",
       "      <td>12.941523</td>\n",
       "      <td>9.855975</td>\n",
       "      <td>16.183424</td>\n",
       "    </tr>\n",
       "    <tr>\n",
       "      <th>10</th>\n",
       "      <td>Respiratory diseases</td>\n",
       "      <td>9.133313</td>\n",
       "      <td>3.977048</td>\n",
       "      <td>14.568189</td>\n",
       "    </tr>\n",
       "    <tr>\n",
       "      <th>9</th>\n",
       "      <td>Nervous system diseases</td>\n",
       "      <td>9.100577</td>\n",
       "      <td>4.917066</td>\n",
       "      <td>13.541702</td>\n",
       "    </tr>\n",
       "    <tr>\n",
       "      <th>4</th>\n",
       "      <td>Infections</td>\n",
       "      <td>6.300521</td>\n",
       "      <td>2.326654</td>\n",
       "      <td>10.406630</td>\n",
       "    </tr>\n",
       "    <tr>\n",
       "      <th>0</th>\n",
       "      <td>Cardiovascular diseases</td>\n",
       "      <td>1.989533</td>\n",
       "      <td>-1.291586</td>\n",
       "      <td>5.442965</td>\n",
       "    </tr>\n",
       "    <tr>\n",
       "      <th>2</th>\n",
       "      <td>Gastrointestinal diseases</td>\n",
       "      <td>-1.557740</td>\n",
       "      <td>-6.293254</td>\n",
       "      <td>3.458461</td>\n",
       "    </tr>\n",
       "    <tr>\n",
       "      <th>7</th>\n",
       "      <td>Musculoskeletal diseases</td>\n",
       "      <td>-3.207435</td>\n",
       "      <td>-7.596008</td>\n",
       "      <td>1.409846</td>\n",
       "    </tr>\n",
       "    <tr>\n",
       "      <th>3</th>\n",
       "      <td>Genitourinary diseases</td>\n",
       "      <td>-6.471127</td>\n",
       "      <td>-11.041481</td>\n",
       "      <td>-1.587268</td>\n",
       "    </tr>\n",
       "    <tr>\n",
       "      <th>6</th>\n",
       "      <td>Mental health disorders</td>\n",
       "      <td>-7.651433</td>\n",
       "      <td>-12.102603</td>\n",
       "      <td>-2.955447</td>\n",
       "    </tr>\n",
       "    <tr>\n",
       "      <th>1</th>\n",
       "      <td>Endocrine diseases</td>\n",
       "      <td>-11.077057</td>\n",
       "      <td>-15.886239</td>\n",
       "      <td>-6.011711</td>\n",
       "    </tr>\n",
       "  </tbody>\n",
       "</table>\n",
       "</div>"
      ],
      "text/plain": [
       "                             var        per     ci_low    ci_high\n",
       "8                      Neoplasms  24.744817  21.774404  27.762131\n",
       "5   Injuries and external causes  12.941523   9.855975  16.183424\n",
       "10          Respiratory diseases   9.133313   3.977048  14.568189\n",
       "9        Nervous system diseases   9.100577   4.917066  13.541702\n",
       "4                     Infections   6.300521   2.326654  10.406630\n",
       "0        Cardiovascular diseases   1.989533  -1.291586   5.442965\n",
       "2      Gastrointestinal diseases  -1.557740  -6.293254   3.458461\n",
       "7       Musculoskeletal diseases  -3.207435  -7.596008   1.409846\n",
       "3         Genitourinary diseases  -6.471127 -11.041481  -1.587268\n",
       "6        Mental health disorders  -7.651433 -12.102603  -2.955447\n",
       "1             Endocrine diseases -11.077057 -15.886239  -6.011711"
      ]
     },
     "execution_count": 102,
     "metadata": {},
     "output_type": "execute_result"
    }
   ],
   "source": [
    "disease_plot = reg_plot.iloc[:11,].sort_values('per', ascending=False)\n",
    "disease_plot"
   ]
  },
  {
   "cell_type": "code",
   "execution_count": 103,
   "metadata": {},
   "outputs": [
    {
     "data": {
      "image/png": "[encoded data removed]",
      "text/plain": [
       "<Figure size 800x600 with 1 Axes>"
      ]
     },
     "metadata": {},
     "output_type": "display_data"
    }
   ],
   "source": [
    "# figure setup\n",
    "# sns.set(style=\"ticks\", font_scale=1.4)\n",
    "sns.reset_defaults()\n",
    "plt.figure(figsize=(8, 6))\n",
    "\n",
    "# plot\n",
    "ax = sns.scatterplot(y='var',x='per', data=disease_plot, s=100, \n",
    "                     zorder=10, color='black', \n",
    "                     edgecolor='black')\n",
    "\n",
    "plt.errorbar(y=disease_plot['var'],\n",
    "             x=disease_plot['per'], \n",
    "             xerr=[disease_plot['per']-disease_plot['ci_low'],disease_plot['ci_high']-disease_plot['per']], \n",
    "             fmt='none', c= 'black', capsize=6, linewidth=1)\n",
    "\n",
    "# format\n",
    "ax.set_xlabel('Percent change in amount raised \\n when disease category is present [reference: absent]')\n",
    "ax.set_title('')\n",
    "ax.set_axisbelow(True)\n",
    "ax.set_ylabel('')\n",
    "ax.axvline(x=0, linestyle='--', color='black', linewidth=1, zorder=0)\n",
    "ax.tick_params(left=False)\n",
    "ax.set(xlim=(-20,60)) # limits based on upper end of CI for NDI quartile\n",
    "ax.xaxis.set_major_locator(ticker.MultipleLocator(10))\n",
    "\n",
    "trans = ax.get_yaxis_transform()\n",
    "for x in range(-5,115,10):\n",
    "    i = x/10\n",
    "    ax.plot([-.45,-.015],[i,i], color=\"darkgray\", transform=trans, clip_on=False, linewidth=1)  \n",
    "\n",
    "sns.despine(trim=True, left=True)\n",
    "\n",
    "plt.show()"
   ]
  },
  {
   "cell_type": "markdown",
   "metadata": {},
   "source": [
    "#### NDI plot"
   ]
  },
  {
   "cell_type": "code",
   "execution_count": 104,
   "metadata": {},
   "outputs": [
    {
     "data": {
      "text/html": [
       "<div>\n",
       "<style scoped>\n",
       "    .dataframe tbody tr th:only-of-type {\n",
       "        vertical-align: middle;\n",
       "    }\n",
       "\n",
       "    .dataframe tbody tr th {\n",
       "        vertical-align: top;\n",
       "    }\n",
       "\n",
       "    .dataframe thead th {\n",
       "        text-align: right;\n",
       "    }\n",
       "</style>\n",
       "<table border=\"1\" class=\"dataframe\">\n",
       "  <thead>\n",
       "    <tr style=\"text-align: right;\">\n",
       "      <th></th>\n",
       "      <th>var</th>\n",
       "      <th>per</th>\n",
       "      <th>ci_low</th>\n",
       "      <th>ci_high</th>\n",
       "    </tr>\n",
       "  </thead>\n",
       "  <tbody>\n",
       "    <tr>\n",
       "      <th>11</th>\n",
       "      <td>1 (least deprived)</td>\n",
       "      <td>48.290055</td>\n",
       "      <td>39.514730</td>\n",
       "      <td>57.617338</td>\n",
       "    </tr>\n",
       "    <tr>\n",
       "      <th>12</th>\n",
       "      <td>2</td>\n",
       "      <td>20.949147</td>\n",
       "      <td>13.428217</td>\n",
       "      <td>28.917180</td>\n",
       "    </tr>\n",
       "    <tr>\n",
       "      <th>13</th>\n",
       "      <td>3</td>\n",
       "      <td>8.480473</td>\n",
       "      <td>1.308487</td>\n",
       "      <td>16.183424</td>\n",
       "    </tr>\n",
       "    <tr>\n",
       "      <th>14</th>\n",
       "      <td>4 (most deprived)</td>\n",
       "      <td>0.000000</td>\n",
       "      <td>-0.000100</td>\n",
       "      <td>0.000100</td>\n",
       "    </tr>\n",
       "  </tbody>\n",
       "</table>\n",
       "</div>"
      ],
      "text/plain": [
       "                   var        per     ci_low    ci_high\n",
       "11  1 (least deprived)  48.290055  39.514730  57.617338\n",
       "12                   2  20.949147  13.428217  28.917180\n",
       "13                   3   8.480473   1.308487  16.183424\n",
       "14   4 (most deprived)   0.000000  -0.000100   0.000100"
      ]
     },
     "execution_count": 104,
     "metadata": {},
     "output_type": "execute_result"
    }
   ],
   "source": [
    "ndi_plot = reg_plot.iloc[11:15,]\n",
    "ndi_plot"
   ]
  },
  {
   "cell_type": "code",
   "execution_count": 105,
   "metadata": {},
   "outputs": [
    {
     "data": {
      "image/png": "[encoded data removed]",
      "text/plain": [
       "<Figure size 800x218 with 1 Axes>"
      ]
     },
     "metadata": {},
     "output_type": "display_data"
    }
   ],
   "source": [
    "# figure setup\n",
    "# sns.set(style=\"ticks\", font_scale=1.4)\n",
    "plt.figure(figsize=(8, 2.18))\n",
    "\n",
    "# plot\n",
    "plt.errorbar(y=ndi_plot['var'],\n",
    "             x=ndi_plot['per'], \n",
    "             xerr=[ndi_plot['per']-ndi_plot['ci_low'],ndi_plot['ci_high']-ndi_plot['per']], \n",
    "             fmt='none', c= 'black', capsize=6, linewidth=1)\n",
    "\n",
    "# format\n",
    "ax = sns.scatterplot(y='var',x='per', data=ndi_plot, s=100, \n",
    "                     zorder=10, color='black', \n",
    "                     edgecolor='black')\n",
    "\n",
    "ax.set_xlabel('Percent change in amount raised \\n')\n",
    "ax.set_title('')\n",
    "ax.set_axisbelow(True)\n",
    "ax.set_ylabel('')\n",
    "ax.axvline(x=0, linestyle='--', color='black', linewidth=1, zorder=0)\n",
    "ax.tick_params(left=False)\n",
    "ax.set(xlim=(-20,60))\n",
    "ax.xaxis.set_major_locator(ticker.MultipleLocator(10))\n",
    "\n",
    "# trans = ax.get_yaxis_transform()\n",
    "# for x in range(65,115,10):\n",
    "#     i = x/10\n",
    "#     ax.plot([-.45,-.015],[i,i], color=\"darkgray\", transform=trans, clip_on=False, linewidth=1)\n",
    "\n",
    "#ax.plot([-.45,-.015],[6.5,6.5], color=\"darkgray\", transform=trans, clip_on=False, linewidth=1)\n",
    "\n",
    "sns.despine(trim=True, left=True)\n",
    "\n",
    "plt.show()"
   ]
  },
  {
   "cell_type": "markdown",
   "metadata": {},
   "source": [
    "#### Combined plot"
   ]
  },
  {
   "cell_type": "code",
   "execution_count": 106,
   "metadata": {},
   "outputs": [
    {
     "data": {
      "image/png": "[encoded data removed]",
      "text/plain": [
       "<Figure size 800x700 with 2 Axes>"
      ]
     },
     "metadata": {},
     "output_type": "display_data"
    }
   ],
   "source": [
    "\n",
    "sns.reset_defaults()\n",
    "# figure setup\n",
    "fig, axes = plt.subplots(nrows=2, ncols=1, gridspec_kw={'height_ratios':[11,4]}, figsize=(8,7))\n",
    "#sns.set(style=\"ticks\", font_scale=1.1)\n",
    "\n",
    "\n",
    "# disease plot\n",
    "sns.scatterplot(y='var',x='per', data=disease_plot, s=100, \n",
    "                     zorder=10, color='black', \n",
    "                     edgecolor='black', ax=axes[0])\n",
    "\n",
    "axes[0].errorbar(y=disease_plot['var'],\n",
    "             x=disease_plot['per'], \n",
    "             xerr=[disease_plot['per']-disease_plot['ci_low'],disease_plot['ci_high']-disease_plot['per']], \n",
    "             fmt='none', c= 'black', capsize=6, linewidth=1)\n",
    "\n",
    "axes[0].set_xlabel('Percent change in amount raised \\n when disease category is present [reference: absent], %')\n",
    "axes[0].set_title('')\n",
    "axes[0].set_axisbelow(True)\n",
    "axes[0].set_ylabel('')\n",
    "axes[0].axvline(x=0, linestyle='--', color='black', linewidth=1, zorder=0)\n",
    "axes[0].tick_params(left=False)\n",
    "axes[0].set(xlim=(-20,60))\n",
    "axes[0].xaxis.set_major_locator(ticker.MultipleLocator(10))\n",
    "\n",
    "trans = axes[0].get_yaxis_transform()\n",
    "for x in range(-5,115,10):\n",
    "    i = x/10\n",
    "    axes[0].plot([-.47,-.015],[i,i], color=\"darkgray\", transform=trans, clip_on=False, linewidth=1)  \n",
    "\n",
    "# NDI plot\n",
    "sns.scatterplot(y='var',x='per', data=ndi_plot, s=100, \n",
    "                     zorder=10, color='black', \n",
    "                     edgecolor='black', ax=axes[1])\n",
    "\n",
    "axes[1].errorbar(y=ndi_plot['var'],\n",
    "             x=ndi_plot['per'], \n",
    "             xerr=[ndi_plot['per']-ndi_plot['ci_low'],ndi_plot['ci_high']-ndi_plot['per']], \n",
    "             fmt='none', c= 'black', capsize=6, linewidth=1)\n",
    "\n",
    "axes[1].set_xlabel('Percent change in amount raised \\n [reference: 4 (most deprived)], %')\n",
    "axes[1].set_title('')\n",
    "axes[1].set_axisbelow(True)\n",
    "axes[1].set_ylabel('')\n",
    "axes[1].axvline(x=0, linestyle='--', color='black', linewidth=1, zorder=0)\n",
    "axes[1].tick_params(left=False)\n",
    "axes[1].set(xlim=(-20,60))\n",
    "axes[1].xaxis.set_major_locator(ticker.MultipleLocator(10))\n",
    "\n",
    "axes[1].plot([-.47,-.015],[15.4,15.4], color=\"darkgray\", transform=trans, clip_on=False, linewidth=1) \n",
    "axes[1].plot([-.47,-.015],[16.4,16.4], color=\"darkgray\", transform=trans, clip_on=False, linewidth=1) \n",
    "axes[1].plot([-.47,-.015],[17.4,17.4], color=\"darkgray\", transform=trans, clip_on=False, linewidth=1) \n",
    "axes[1].plot([-.47,-.015],[18.4,18.4], color=\"darkgray\", transform=trans, clip_on=False, linewidth=1) \n",
    "axes[1].plot([-.47,-.015],[19.4,19.4], color=\"darkgray\", transform=trans, clip_on=False, linewidth=1) \n",
    "\n",
    "sns.despine(trim=True, left=True)\n",
    "\n",
    "#axes[0].margins(0.05, 0.15)\n",
    "axes[1].margins(0.05, 0.25)\n",
    "\n",
    "fig.tight_layout(pad=2)\n",
    "fig.subplots_adjust(hspace=0.5)\n",
    "\n",
    "# plt.savefig(\"../plots/figure_2.pdf\", bbox_inches='tight')\n",
    "\n",
    "plt.show()"
   ]
  },
  {
   "cell_type": "markdown",
   "metadata": {},
   "source": [
    "# Regression analysis of donation count and amount\n",
    "\n",
    "### Sensitivity analysis\n",
    "\n",
    "- Sensitivity analysis and final implementation both done in R (filename = \"donation_sensitivity_analysis.R\")"
   ]
  },
  {
   "cell_type": "markdown",
   "metadata": {},
   "source": [
    "# Supp Fig: Relative frequency of disease category per year"
   ]
  },
  {
   "cell_type": "code",
   "execution_count": 112,
   "metadata": {},
   "outputs": [],
   "source": [
    "any_disease_cols_year = master.columns[master.columns.str.startswith('d_')].tolist() + ['year']\n",
    "any_disease = master[any_disease_cols_year].replace({'Present':1,'Absent':0})"
   ]
  },
  {
   "cell_type": "code",
   "execution_count": 113,
   "metadata": {},
   "outputs": [],
   "source": [
    "any_disease_year_long = pd.melt(any_disease, id_vars=['year'])\n",
    "any_disease_year_long = any_disease_year_long[any_disease_year_long['value'] == 1]"
   ]
  },
  {
   "cell_type": "code",
   "execution_count": 114,
   "metadata": {},
   "outputs": [],
   "source": [
    "any_disease_year_long['variable'].replace(disease_cat_map, inplace=True)"
   ]
  },
  {
   "cell_type": "code",
   "execution_count": 115,
   "metadata": {},
   "outputs": [],
   "source": [
    "any_disease_time = pd.crosstab(any_disease_year_long['variable'],any_disease_year_long['year'])\n",
    "any_disease_time = any_disease_time.apply(lambda r: r/r.sum(), axis=0).round(3) * 100\n",
    "any_disease_time = any_disease_time.reset_index()\n",
    "any_disease_time = pd.melt(any_disease_time, id_vars=['variable'], \n",
    "                           value_vars=[\"2010\",\"2011\",\"2012\",'2013','2014','2015','2016','2017','2018','2019','2020']) \n",
    "any_disease_time.columns = ['any_disease_cat','year','value']"
   ]
  },
  {
   "cell_type": "code",
   "execution_count": 116,
   "metadata": {},
   "outputs": [
    {
     "data": {
      "text/html": [
       "<div>\n",
       "<style scoped>\n",
       "    .dataframe tbody tr th:only-of-type {\n",
       "        vertical-align: middle;\n",
       "    }\n",
       "\n",
       "    .dataframe tbody tr th {\n",
       "        vertical-align: top;\n",
       "    }\n",
       "\n",
       "    .dataframe thead th {\n",
       "        text-align: right;\n",
       "    }\n",
       "</style>\n",
       "<table border=\"1\" class=\"dataframe\">\n",
       "  <thead>\n",
       "    <tr style=\"text-align: right;\">\n",
       "      <th></th>\n",
       "      <th>any_disease_cat</th>\n",
       "      <th>year</th>\n",
       "      <th>value</th>\n",
       "    </tr>\n",
       "  </thead>\n",
       "  <tbody>\n",
       "    <tr>\n",
       "      <th>0</th>\n",
       "      <td>Cardiovascular diseases</td>\n",
       "      <td>2010</td>\n",
       "      <td>0.0</td>\n",
       "    </tr>\n",
       "    <tr>\n",
       "      <th>1</th>\n",
       "      <td>Endocrine diseases</td>\n",
       "      <td>2010</td>\n",
       "      <td>12.5</td>\n",
       "    </tr>\n",
       "    <tr>\n",
       "      <th>2</th>\n",
       "      <td>Gastrointestinal diseases</td>\n",
       "      <td>2010</td>\n",
       "      <td>0.0</td>\n",
       "    </tr>\n",
       "    <tr>\n",
       "      <th>3</th>\n",
       "      <td>Genitourinary diseases</td>\n",
       "      <td>2010</td>\n",
       "      <td>0.0</td>\n",
       "    </tr>\n",
       "    <tr>\n",
       "      <th>4</th>\n",
       "      <td>Infections</td>\n",
       "      <td>2010</td>\n",
       "      <td>0.0</td>\n",
       "    </tr>\n",
       "    <tr>\n",
       "      <th>...</th>\n",
       "      <td>...</td>\n",
       "      <td>...</td>\n",
       "      <td>...</td>\n",
       "    </tr>\n",
       "    <tr>\n",
       "      <th>116</th>\n",
       "      <td>Mental health disorders</td>\n",
       "      <td>2020</td>\n",
       "      <td>5.6</td>\n",
       "    </tr>\n",
       "    <tr>\n",
       "      <th>117</th>\n",
       "      <td>Musculoskeletal diseases</td>\n",
       "      <td>2020</td>\n",
       "      <td>4.8</td>\n",
       "    </tr>\n",
       "    <tr>\n",
       "      <th>118</th>\n",
       "      <td>Neoplasms</td>\n",
       "      <td>2020</td>\n",
       "      <td>30.7</td>\n",
       "    </tr>\n",
       "    <tr>\n",
       "      <th>119</th>\n",
       "      <td>Nervous system diseases</td>\n",
       "      <td>2020</td>\n",
       "      <td>6.0</td>\n",
       "    </tr>\n",
       "    <tr>\n",
       "      <th>120</th>\n",
       "      <td>Respiratory diseases</td>\n",
       "      <td>2020</td>\n",
       "      <td>5.6</td>\n",
       "    </tr>\n",
       "  </tbody>\n",
       "</table>\n",
       "<p>121 rows × 3 columns</p>\n",
       "</div>"
      ],
      "text/plain": [
       "               any_disease_cat  year  value\n",
       "0      Cardiovascular diseases  2010    0.0\n",
       "1           Endocrine diseases  2010   12.5\n",
       "2    Gastrointestinal diseases  2010    0.0\n",
       "3       Genitourinary diseases  2010    0.0\n",
       "4                   Infections  2010    0.0\n",
       "..                         ...   ...    ...\n",
       "116    Mental health disorders  2020    5.6\n",
       "117   Musculoskeletal diseases  2020    4.8\n",
       "118                  Neoplasms  2020   30.7\n",
       "119    Nervous system diseases  2020    6.0\n",
       "120       Respiratory diseases  2020    5.6\n",
       "\n",
       "[121 rows x 3 columns]"
      ]
     },
     "execution_count": 116,
     "metadata": {},
     "output_type": "execute_result"
    }
   ],
   "source": [
    "any_disease_time"
   ]
  },
  {
   "cell_type": "code",
   "execution_count": 124,
   "metadata": {},
   "outputs": [
    {
     "data": {
      "text/plain": [
       "<Figure size 640x480 with 0 Axes>"
      ]
     },
     "metadata": {},
     "output_type": "display_data"
    },
    {
     "data": {
      "image/png": "[encoded data removed]",
      "text/plain": [
       "<Figure size 800x400 with 1 Axes>"
      ]
     },
     "metadata": {},
     "output_type": "display_data"
    }
   ],
   "source": [
    "sns.set(style=\"ticks\")\n",
    "#plt.figure(figsize=(10, 6))\n",
    "plt.figure(figsize=(8, 4))\n",
    "\n",
    "\n",
    "ax = sns.pointplot(x='year', y='value', hue='any_disease_cat', data=any_disease_time, join=True, scale=0.75,\n",
    "                  palette=sns.color_palette(\"tab10\"))\n",
    "ax.set_ylabel('Percent of campaigns, %')\n",
    "ax.set_xlabel('Year')\n",
    "ax.yaxis.grid(True)\n",
    "#ax.set_title('Any disease category')\n",
    "ax.legend(bbox_to_anchor=(1.05, 1), loc=2, title='Disease category')\n",
    "\n",
    "sns.despine()\n",
    "plt.show()\n",
    "\n",
    "# plt.savefig(\"../plots/disease_cat_by_year.pdf\", bbox_inches='tight')\n",
    "\n"
   ]
  },
  {
   "cell_type": "markdown",
   "metadata": {},
   "source": [
    "# Supp Fig: Relative frequency of NDI by year"
   ]
  },
  {
   "cell_type": "code",
   "execution_count": 126,
   "metadata": {},
   "outputs": [],
   "source": [
    "ndi_time = pd.crosstab(master['ndi_quantile'],master['year']).apply(lambda r: r/r.sum(), axis=0).round(3) * 100\n",
    "ndi_time = ndi_time.reset_index()\n",
    "\n",
    "ndi_time = pd.melt(ndi_time, id_vars=['ndi_quantile'], value_vars=[\"2010\",\"2011\",\"2012\",'2013','2014','2015','2016','2017','2018','2019','2020']) \n",
    "\n",
    "ndi_time['ndi_quantile'].replace({1:'1 (least deprived)',4:'4 (most deprived)'}, inplace=True)\n"
   ]
  },
  {
   "cell_type": "code",
   "execution_count": 127,
   "metadata": {},
   "outputs": [
    {
     "data": {
      "text/plain": [
       "<Figure size 800x400 with 0 Axes>"
      ]
     },
     "metadata": {},
     "output_type": "display_data"
    },
    {
     "data": {
      "image/png": "[encoded data removed]",
      "text/plain": [
       "<Figure size 800x400 with 1 Axes>"
      ]
     },
     "metadata": {},
     "output_type": "display_data"
    }
   ],
   "source": [
    "sns.set(style=\"ticks\")\n",
    "plt.figure(figsize=(8, 4))\n",
    "\n",
    "\n",
    "ax = sns.pointplot(x='year', y='value', hue='ndi_quantile', data=ndi_time, join=True, scale=0.75,\n",
    "                  palette=sns.color_palette(\"tab10\"))\n",
    "ax.set_ylabel('Percent of campaigns (%)')\n",
    "ax.set_xlabel('Year')\n",
    "ax.yaxis.grid(True)\n",
    "#ax.set_title('Any disease category')\n",
    "ax.legend(bbox_to_anchor=(1.05, 1), loc=2, title='ADI quantile')\n",
    "\n",
    "sns.despine()\n",
    "\n",
    "plt.show()\n",
    "# plt.savefig(\"../plots/ndi_by_year.pdf\", bbox_inches='tight')\n",
    "\n"
   ]
  },
  {
   "cell_type": "markdown",
   "metadata": {
    "tags": []
   },
   "source": [
    "# Supp Fig: Donation analysis"
   ]
  },
  {
   "cell_type": "markdown",
   "metadata": {},
   "source": [
    "### Subset donation data to only those campaigns that are in master daata"
   ]
  },
  {
   "cell_type": "markdown",
   "metadata": {},
   "source": [
    "Master data with financial outliers removed"
   ]
  },
  {
   "cell_type": "code",
   "execution_count": 128,
   "metadata": {},
   "outputs": [],
   "source": [
    "# start_n = master.shape[0]\n",
    "\n",
    "# current_amt_cutoff = master['current_amount'].quantile([.999]).tolist()[0]\n",
    "# goal_amt_cutoff = master['goal_amount'].quantile([.999]).tolist()[0]\n",
    "# donation_count_cutoff = master['donation_count'].quantile([.999]).tolist()[0]\n",
    "# donation_amt_cutoff = master['donation_mean'].quantile([.999]).tolist()[0]\n",
    "\n",
    "# master_fin_ex = master[master['current_amount'] < current_amt_cutoff]\n",
    "# master_fin_ex = master_fin_ex[master_fin_ex['goal_amount'] < goal_amt_cutoff]\n",
    "# master_fin_ex = master_fin_ex[master_fin_ex['donation_count'] < donation_count_cutoff]\n",
    "# master_fin_ex = master_fin_ex[master_fin_ex['donation_mean'] < donation_amt_cutoff]\n",
    "\n",
    "# financial_removed = start_n - master_fin_ex.shape[0]\n",
    "\n",
    "# print(financial_removed)\n",
    "# print(master_fin_ex.shape[0])"
   ]
  },
  {
   "cell_type": "code",
   "execution_count": 129,
   "metadata": {},
   "outputs": [
    {
     "name": "stdout",
     "output_type": "stream",
     "text": [
      "90954\n",
      "89645\n"
     ]
    }
   ],
   "source": [
    "print(donations['url'].nunique())\n",
    "print(master['url'].nunique())"
   ]
  },
  {
   "cell_type": "code",
   "execution_count": 130,
   "metadata": {},
   "outputs": [],
   "source": [
    "donations = donations[donations['url'].isin(master['url'].tolist())]"
   ]
  },
  {
   "cell_type": "code",
   "execution_count": 131,
   "metadata": {},
   "outputs": [
    {
     "name": "stdout",
     "output_type": "stream",
     "text": [
      "87759\n",
      "89645\n"
     ]
    }
   ],
   "source": [
    "print(donations['url'].nunique())\n",
    "print(master['url'].nunique())"
   ]
  },
  {
   "cell_type": "markdown",
   "metadata": {},
   "source": [
    "### Calculate date difference between campaign start and donation"
   ]
  },
  {
   "cell_type": "code",
   "execution_count": 132,
   "metadata": {},
   "outputs": [],
   "source": [
    "def GetYMD(string):\n",
    "    return str(string).split('T')[0]"
   ]
  },
  {
   "cell_type": "code",
   "execution_count": 133,
   "metadata": {},
   "outputs": [],
   "source": [
    "#merge created at date and financial data with donations\n",
    "donations = donations.merge(master[['url','created_at','current_amount','goal_amount','year']], on='url', how='left')"
   ]
  },
  {
   "cell_type": "code",
   "execution_count": 134,
   "metadata": {},
   "outputs": [],
   "source": [
    "#extract date as yyyy-mm-dd format\n",
    "donations.loc[:,'don_date_ymd'] = donations['don_date'].apply(GetYMD)\n",
    "donations.loc[:,'created_at_ymd'] = donations['created_at'].apply(GetYMD)"
   ]
  },
  {
   "cell_type": "code",
   "execution_count": 135,
   "metadata": {},
   "outputs": [
    {
     "name": "stderr",
     "output_type": "stream",
     "text": [
      "/var/folders/l8/8sbf_n294bz_vfhsdjvw6_s80000gn/T/ipykernel_47417/3525376282.py:2: DeprecationWarning: In a future version, `df.iloc[:, i] = newvals` will attempt to set the values inplace instead of always setting a new array. To retain the old behavior, use either `df[df.columns[i]] = newvals` or, if columns are non-unique, `df.isetitem(i, newvals)`\n",
      "  donations.loc[:,'don_date_ymd'] = pd.to_datetime(donations['don_date_ymd'])\n",
      "/var/folders/l8/8sbf_n294bz_vfhsdjvw6_s80000gn/T/ipykernel_47417/3525376282.py:3: DeprecationWarning: In a future version, `df.iloc[:, i] = newvals` will attempt to set the values inplace instead of always setting a new array. To retain the old behavior, use either `df[df.columns[i]] = newvals` or, if columns are non-unique, `df.isetitem(i, newvals)`\n",
      "  donations.loc[:,'created_at_ymd'] = pd.to_datetime(donations['created_at_ymd'])\n"
     ]
    }
   ],
   "source": [
    "#convert dates to datetime format\n",
    "donations.loc[:,'don_date_ymd'] = pd.to_datetime(donations['don_date_ymd'])\n",
    "donations.loc[:,'created_at_ymd'] = pd.to_datetime(donations['created_at_ymd'])"
   ]
  },
  {
   "cell_type": "code",
   "execution_count": 136,
   "metadata": {},
   "outputs": [],
   "source": [
    "#get time delta\n",
    "donations.loc[:,'time_delta'] = (donations['don_date_ymd'] - donations['created_at_ymd'])"
   ]
  },
  {
   "cell_type": "code",
   "execution_count": 137,
   "metadata": {},
   "outputs": [],
   "source": [
    "#time delta in days\n",
    "donations['time_delta_days'] = donations['time_delta']/np.timedelta64(1, 'D')\n",
    "\n",
    "#time delta in months\n",
    "donations['time_delta_months'] = donations['time_delta']/np.timedelta64(1, 'M')\n",
    "\n",
    "#time delta in months rounded + 1 (e.g. 20 days = within 1 month)\n",
    "donations['time_delta_months_whole'] = (donations['time_delta']//np.timedelta64(1, 'M')) + 1"
   ]
  },
  {
   "cell_type": "markdown",
   "metadata": {},
   "source": [
    "### Sum donation amounts by month relative to start date"
   ]
  },
  {
   "cell_type": "code",
   "execution_count": 138,
   "metadata": {},
   "outputs": [],
   "source": [
    "amt_raised_by_month = donations[['url','don_amt','time_delta_months_whole','year']] \\\n",
    "    .groupby(['url','time_delta_months_whole','year']).sum()\n",
    "    "
   ]
  },
  {
   "cell_type": "code",
   "execution_count": 139,
   "metadata": {},
   "outputs": [],
   "source": [
    "#reset index so multiindex are each individual columns with values for every row\n",
    "amt_raised_by_month = amt_raised_by_month.reset_index()"
   ]
  },
  {
   "cell_type": "code",
   "execution_count": 140,
   "metadata": {},
   "outputs": [
    {
     "data": {
      "text/html": [
       "<div>\n",
       "<style scoped>\n",
       "    .dataframe tbody tr th:only-of-type {\n",
       "        vertical-align: middle;\n",
       "    }\n",
       "\n",
       "    .dataframe tbody tr th {\n",
       "        vertical-align: top;\n",
       "    }\n",
       "\n",
       "    .dataframe thead th {\n",
       "        text-align: right;\n",
       "    }\n",
       "</style>\n",
       "<table border=\"1\" class=\"dataframe\">\n",
       "  <thead>\n",
       "    <tr style=\"text-align: right;\">\n",
       "      <th></th>\n",
       "      <th>url</th>\n",
       "      <th>time_delta_months_whole</th>\n",
       "      <th>year</th>\n",
       "      <th>don_amt</th>\n",
       "    </tr>\n",
       "  </thead>\n",
       "  <tbody>\n",
       "    <tr>\n",
       "      <th>0</th>\n",
       "      <td>https://www.gofundme.com/f/-AMYSTRONG-</td>\n",
       "      <td>1</td>\n",
       "      <td>2018</td>\n",
       "      <td>3205.0</td>\n",
       "    </tr>\n",
       "    <tr>\n",
       "      <th>1</th>\n",
       "      <td>https://www.gofundme.com/f/-AMYSTRONG-</td>\n",
       "      <td>2</td>\n",
       "      <td>2018</td>\n",
       "      <td>50.0</td>\n",
       "    </tr>\n",
       "    <tr>\n",
       "      <th>2</th>\n",
       "      <td>https://www.gofundme.com/f/-AMYSTRONG-</td>\n",
       "      <td>3</td>\n",
       "      <td>2018</td>\n",
       "      <td>410.0</td>\n",
       "    </tr>\n",
       "    <tr>\n",
       "      <th>3</th>\n",
       "      <td>https://www.gofundme.com/f/-AMYSTRONG-</td>\n",
       "      <td>4</td>\n",
       "      <td>2018</td>\n",
       "      <td>195.0</td>\n",
       "    </tr>\n",
       "    <tr>\n",
       "      <th>4</th>\n",
       "      <td>https://www.gofundme.com/f/-AMYSTRONG-</td>\n",
       "      <td>5</td>\n",
       "      <td>2018</td>\n",
       "      <td>50.0</td>\n",
       "    </tr>\n",
       "    <tr>\n",
       "      <th>5</th>\n",
       "      <td>https://www.gofundme.com/f/-AMYSTRONG-</td>\n",
       "      <td>6</td>\n",
       "      <td>2018</td>\n",
       "      <td>170.0</td>\n",
       "    </tr>\n",
       "    <tr>\n",
       "      <th>6</th>\n",
       "      <td>https://www.gofundme.com/f/-AMYSTRONG-</td>\n",
       "      <td>7</td>\n",
       "      <td>2018</td>\n",
       "      <td>540.0</td>\n",
       "    </tr>\n",
       "    <tr>\n",
       "      <th>7</th>\n",
       "      <td>https://www.gofundme.com/f/-MasonStrong-</td>\n",
       "      <td>1</td>\n",
       "      <td>2020</td>\n",
       "      <td>330.0</td>\n",
       "    </tr>\n",
       "    <tr>\n",
       "      <th>8</th>\n",
       "      <td>https://www.gofundme.com/f/-MasonStrong-</td>\n",
       "      <td>2</td>\n",
       "      <td>2020</td>\n",
       "      <td>20.0</td>\n",
       "    </tr>\n",
       "    <tr>\n",
       "      <th>9</th>\n",
       "      <td>https://www.gofundme.com/f/-Shelby-Slaughter</td>\n",
       "      <td>2</td>\n",
       "      <td>2018</td>\n",
       "      <td>3945.0</td>\n",
       "    </tr>\n",
       "  </tbody>\n",
       "</table>\n",
       "</div>"
      ],
      "text/plain": [
       "                                            url  time_delta_months_whole  \\\n",
       "0        https://www.gofundme.com/f/-AMYSTRONG-                        1   \n",
       "1        https://www.gofundme.com/f/-AMYSTRONG-                        2   \n",
       "2        https://www.gofundme.com/f/-AMYSTRONG-                        3   \n",
       "3        https://www.gofundme.com/f/-AMYSTRONG-                        4   \n",
       "4        https://www.gofundme.com/f/-AMYSTRONG-                        5   \n",
       "5        https://www.gofundme.com/f/-AMYSTRONG-                        6   \n",
       "6        https://www.gofundme.com/f/-AMYSTRONG-                        7   \n",
       "7      https://www.gofundme.com/f/-MasonStrong-                        1   \n",
       "8      https://www.gofundme.com/f/-MasonStrong-                        2   \n",
       "9  https://www.gofundme.com/f/-Shelby-Slaughter                        2   \n",
       "\n",
       "   year  don_amt  \n",
       "0  2018   3205.0  \n",
       "1  2018     50.0  \n",
       "2  2018    410.0  \n",
       "3  2018    195.0  \n",
       "4  2018     50.0  \n",
       "5  2018    170.0  \n",
       "6  2018    540.0  \n",
       "7  2020    330.0  \n",
       "8  2020     20.0  \n",
       "9  2018   3945.0  "
      ]
     },
     "execution_count": 140,
     "metadata": {},
     "output_type": "execute_result"
    }
   ],
   "source": [
    "#check that index is in the same order as time_delta_months_whole (i.e. both increasing together)\n",
    "amt_raised_by_month.head(10)"
   ]
  },
  {
   "cell_type": "markdown",
   "metadata": {},
   "source": [
    "### Select campaigns that were started a year before data collection"
   ]
  },
  {
   "cell_type": "code",
   "execution_count": 141,
   "metadata": {},
   "outputs": [],
   "source": [
    "#data collection was in August 2020\n",
    "#so exclude campaigns that were started in September 2019 and after\n",
    "\n",
    "donation_year = donations[['url','created_at_ymd']].drop_duplicates()\n",
    "\n",
    "donation_year_before_sep = donation_year[donation_year['created_at_ymd'] < '2019-09']\n",
    "donation_year_after_sep = donation_year[donation_year['created_at_ymd'] >= '2019-09']\n",
    "\n",
    "amt_raised_by_month_before_sep = amt_raised_by_month[amt_raised_by_month['url'] \\\n",
    "                                                     .isin(donation_year_before_sep['url'])]\n",
    "\n"
   ]
  },
  {
   "cell_type": "code",
   "execution_count": 142,
   "metadata": {},
   "outputs": [
    {
     "name": "stdout",
     "output_type": "stream",
     "text": [
      "67720\n",
      "66927\n"
     ]
    }
   ],
   "source": [
    "#only include data until 12 months\n",
    "print(amt_raised_by_month_before_sep['url'].nunique())\n",
    "amt_raised_by_month_before_sep = amt_raised_by_month_before_sep.loc[\n",
    "                                    amt_raised_by_month_before_sep['time_delta_months_whole'] <= 12, ]\n",
    "print(amt_raised_by_month_before_sep['url'].nunique())\n"
   ]
  },
  {
   "cell_type": "code",
   "execution_count": 143,
   "metadata": {},
   "outputs": [],
   "source": [
    "#replace donation from month 0 to month 1\n",
    "amt_raised_by_month_before_sep['time_delta_months_whole'].replace({0:1}, inplace=True)\n"
   ]
  },
  {
   "cell_type": "code",
   "execution_count": 144,
   "metadata": {},
   "outputs": [
    {
     "data": {
      "text/plain": [
       "1     64785\n",
       "2     43017\n",
       "3     27992\n",
       "4     19002\n",
       "5     14335\n",
       "6     11245\n",
       "7      9284\n",
       "8      7508\n",
       "9      6455\n",
       "10     5761\n",
       "11     4957\n",
       "12     4565\n",
       "Name: time_delta_months_whole, dtype: int64"
      ]
     },
     "execution_count": 144,
     "metadata": {},
     "output_type": "execute_result"
    }
   ],
   "source": [
    "amt_raised_by_month_before_sep['time_delta_months_whole'].value_counts()\n"
   ]
  },
  {
   "cell_type": "code",
   "execution_count": 145,
   "metadata": {},
   "outputs": [],
   "source": [
    "#make a dataframe to merge to complete donation records to 12 months \n",
    "\n",
    "urls = pd.Series(amt_raised_by_month_before_sep['url'].unique())\n",
    "lists = [[n for n in range(1,13)] for x in range(len(urls))]\n",
    "template = pd.concat([urls, pd.Series(lists)], axis=1)\n",
    "template.columns = ['url','time_delta_months_whole']\n",
    "template = template.explode('time_delta_months_whole')"
   ]
  },
  {
   "cell_type": "code",
   "execution_count": 146,
   "metadata": {},
   "outputs": [],
   "source": [
    "#add filler donation amount\n",
    "template['don_amt'] = [0 for x in range(template.shape[0])]"
   ]
  },
  {
   "cell_type": "code",
   "execution_count": 147,
   "metadata": {},
   "outputs": [],
   "source": [
    "#add year to template so we can rbind\n",
    "template = template.merge(amt_raised_by_month_before_sep[['url','year']], on='url')\n",
    "template = template.drop_duplicates()"
   ]
  },
  {
   "cell_type": "code",
   "execution_count": 148,
   "metadata": {},
   "outputs": [],
   "source": [
    "don_merge = pd.concat([amt_raised_by_month_before_sep, template], axis=0)"
   ]
  },
  {
   "cell_type": "code",
   "execution_count": 149,
   "metadata": {},
   "outputs": [],
   "source": [
    "don_merge_gb = don_merge.groupby(['url','time_delta_months_whole','year']).agg(sum)"
   ]
  },
  {
   "cell_type": "code",
   "execution_count": 150,
   "metadata": {},
   "outputs": [],
   "source": [
    "don_merge_gb = don_merge_gb.reset_index()"
   ]
  },
  {
   "cell_type": "markdown",
   "metadata": {},
   "source": [
    "### Calculate cumulative amount raised by month"
   ]
  },
  {
   "cell_type": "code",
   "execution_count": 151,
   "metadata": {},
   "outputs": [],
   "source": [
    "don_merge_gb['don_amt_cum'] = don_merge_gb.groupby(['url'])['don_amt'].cumsum(axis=0)"
   ]
  },
  {
   "cell_type": "code",
   "execution_count": 152,
   "metadata": {},
   "outputs": [],
   "source": [
    "#don_merge_gb = don_merge_gb.sort_values(['url'])"
   ]
  },
  {
   "cell_type": "code",
   "execution_count": 153,
   "metadata": {},
   "outputs": [
    {
     "data": {
      "text/plain": [
       "1     66927\n",
       "2     66927\n",
       "3     66927\n",
       "4     66927\n",
       "5     66927\n",
       "6     66927\n",
       "7     66927\n",
       "8     66927\n",
       "9     66927\n",
       "10    66927\n",
       "11    66927\n",
       "12    66927\n",
       "Name: time_delta_months_whole, dtype: int64"
      ]
     },
     "execution_count": 153,
     "metadata": {},
     "output_type": "execute_result"
    }
   ],
   "source": [
    "don_merge_gb['time_delta_months_whole'].value_counts()"
   ]
  },
  {
   "cell_type": "code",
   "execution_count": 154,
   "metadata": {},
   "outputs": [
    {
     "data": {
      "text/plain": [
       "66927"
      ]
     },
     "execution_count": 154,
     "metadata": {},
     "output_type": "execute_result"
    }
   ],
   "source": [
    "don_merge_gb['url'].nunique()"
   ]
  },
  {
   "cell_type": "code",
   "execution_count": 155,
   "metadata": {},
   "outputs": [
    {
     "data": {
      "text/plain": [
       "66927"
      ]
     },
     "execution_count": 155,
     "metadata": {},
     "output_type": "execute_result"
    }
   ],
   "source": [
    "amt_raised_by_month_before_sep['url'].nunique()"
   ]
  },
  {
   "cell_type": "code",
   "execution_count": 156,
   "metadata": {},
   "outputs": [
    {
     "data": {
      "text/html": [
       "<div>\n",
       "<style scoped>\n",
       "    .dataframe tbody tr th:only-of-type {\n",
       "        vertical-align: middle;\n",
       "    }\n",
       "\n",
       "    .dataframe tbody tr th {\n",
       "        vertical-align: top;\n",
       "    }\n",
       "\n",
       "    .dataframe thead th {\n",
       "        text-align: right;\n",
       "    }\n",
       "</style>\n",
       "<table border=\"1\" class=\"dataframe\">\n",
       "  <thead>\n",
       "    <tr style=\"text-align: right;\">\n",
       "      <th></th>\n",
       "      <th>url</th>\n",
       "      <th>time_delta_months_whole</th>\n",
       "      <th>year</th>\n",
       "      <th>don_amt</th>\n",
       "      <th>don_amt_cum</th>\n",
       "    </tr>\n",
       "  </thead>\n",
       "  <tbody>\n",
       "    <tr>\n",
       "      <th>0</th>\n",
       "      <td>https://www.gofundme.com/f/-AMYSTRONG-</td>\n",
       "      <td>1</td>\n",
       "      <td>2018</td>\n",
       "      <td>3205.0</td>\n",
       "      <td>3205.0</td>\n",
       "    </tr>\n",
       "    <tr>\n",
       "      <th>1</th>\n",
       "      <td>https://www.gofundme.com/f/-AMYSTRONG-</td>\n",
       "      <td>2</td>\n",
       "      <td>2018</td>\n",
       "      <td>50.0</td>\n",
       "      <td>3255.0</td>\n",
       "    </tr>\n",
       "    <tr>\n",
       "      <th>2</th>\n",
       "      <td>https://www.gofundme.com/f/-AMYSTRONG-</td>\n",
       "      <td>3</td>\n",
       "      <td>2018</td>\n",
       "      <td>410.0</td>\n",
       "      <td>3665.0</td>\n",
       "    </tr>\n",
       "    <tr>\n",
       "      <th>3</th>\n",
       "      <td>https://www.gofundme.com/f/-AMYSTRONG-</td>\n",
       "      <td>4</td>\n",
       "      <td>2018</td>\n",
       "      <td>195.0</td>\n",
       "      <td>3860.0</td>\n",
       "    </tr>\n",
       "    <tr>\n",
       "      <th>4</th>\n",
       "      <td>https://www.gofundme.com/f/-AMYSTRONG-</td>\n",
       "      <td>5</td>\n",
       "      <td>2018</td>\n",
       "      <td>50.0</td>\n",
       "      <td>3910.0</td>\n",
       "    </tr>\n",
       "  </tbody>\n",
       "</table>\n",
       "</div>"
      ],
      "text/plain": [
       "                                      url  time_delta_months_whole  year  \\\n",
       "0  https://www.gofundme.com/f/-AMYSTRONG-                        1  2018   \n",
       "1  https://www.gofundme.com/f/-AMYSTRONG-                        2  2018   \n",
       "2  https://www.gofundme.com/f/-AMYSTRONG-                        3  2018   \n",
       "3  https://www.gofundme.com/f/-AMYSTRONG-                        4  2018   \n",
       "4  https://www.gofundme.com/f/-AMYSTRONG-                        5  2018   \n",
       "\n",
       "   don_amt  don_amt_cum  \n",
       "0   3205.0       3205.0  \n",
       "1     50.0       3255.0  \n",
       "2    410.0       3665.0  \n",
       "3    195.0       3860.0  \n",
       "4     50.0       3910.0  "
      ]
     },
     "execution_count": 156,
     "metadata": {},
     "output_type": "execute_result"
    }
   ],
   "source": [
    "don_merge_gb.head()"
   ]
  },
  {
   "cell_type": "markdown",
   "metadata": {},
   "source": [
    "### Calculate amount raised at 12 months"
   ]
  },
  {
   "cell_type": "code",
   "execution_count": 157,
   "metadata": {},
   "outputs": [],
   "source": [
    "amt_12mo = don_merge_gb[don_merge_gb['time_delta_months_whole'] == 12][['url','don_amt_cum']]\n",
    "amt_12mo.columns = ['url','cum_amt_12mo']"
   ]
  },
  {
   "cell_type": "code",
   "execution_count": 158,
   "metadata": {},
   "outputs": [],
   "source": [
    "#merge\n",
    "don_merge_gb = don_merge_gb.merge(amt_12mo, on='url')"
   ]
  },
  {
   "cell_type": "markdown",
   "metadata": {},
   "source": [
    "### Calculate percent of 12 month cumulative at each month "
   ]
  },
  {
   "cell_type": "code",
   "execution_count": 159,
   "metadata": {},
   "outputs": [],
   "source": [
    "don_merge_gb['per_cum'] = (don_merge_gb['don_amt_cum']/don_merge_gb['cum_amt_12mo']) * 100"
   ]
  },
  {
   "cell_type": "code",
   "execution_count": 160,
   "metadata": {},
   "outputs": [
    {
     "data": {
      "text/html": [
       "<div>\n",
       "<style scoped>\n",
       "    .dataframe tbody tr th:only-of-type {\n",
       "        vertical-align: middle;\n",
       "    }\n",
       "\n",
       "    .dataframe tbody tr th {\n",
       "        vertical-align: top;\n",
       "    }\n",
       "\n",
       "    .dataframe thead th {\n",
       "        text-align: right;\n",
       "    }\n",
       "</style>\n",
       "<table border=\"1\" class=\"dataframe\">\n",
       "  <thead>\n",
       "    <tr style=\"text-align: right;\">\n",
       "      <th></th>\n",
       "      <th>url</th>\n",
       "      <th>time_delta_months_whole</th>\n",
       "      <th>year</th>\n",
       "      <th>don_amt</th>\n",
       "      <th>don_amt_cum</th>\n",
       "      <th>cum_amt_12mo</th>\n",
       "      <th>per_cum</th>\n",
       "    </tr>\n",
       "  </thead>\n",
       "  <tbody>\n",
       "    <tr>\n",
       "      <th>0</th>\n",
       "      <td>https://www.gofundme.com/f/-AMYSTRONG-</td>\n",
       "      <td>1</td>\n",
       "      <td>2018</td>\n",
       "      <td>3205.0</td>\n",
       "      <td>3205.0</td>\n",
       "      <td>4620.0</td>\n",
       "      <td>69.372294</td>\n",
       "    </tr>\n",
       "    <tr>\n",
       "      <th>1</th>\n",
       "      <td>https://www.gofundme.com/f/-AMYSTRONG-</td>\n",
       "      <td>2</td>\n",
       "      <td>2018</td>\n",
       "      <td>50.0</td>\n",
       "      <td>3255.0</td>\n",
       "      <td>4620.0</td>\n",
       "      <td>70.454545</td>\n",
       "    </tr>\n",
       "    <tr>\n",
       "      <th>2</th>\n",
       "      <td>https://www.gofundme.com/f/-AMYSTRONG-</td>\n",
       "      <td>3</td>\n",
       "      <td>2018</td>\n",
       "      <td>410.0</td>\n",
       "      <td>3665.0</td>\n",
       "      <td>4620.0</td>\n",
       "      <td>79.329004</td>\n",
       "    </tr>\n",
       "    <tr>\n",
       "      <th>3</th>\n",
       "      <td>https://www.gofundme.com/f/-AMYSTRONG-</td>\n",
       "      <td>4</td>\n",
       "      <td>2018</td>\n",
       "      <td>195.0</td>\n",
       "      <td>3860.0</td>\n",
       "      <td>4620.0</td>\n",
       "      <td>83.549784</td>\n",
       "    </tr>\n",
       "    <tr>\n",
       "      <th>4</th>\n",
       "      <td>https://www.gofundme.com/f/-AMYSTRONG-</td>\n",
       "      <td>5</td>\n",
       "      <td>2018</td>\n",
       "      <td>50.0</td>\n",
       "      <td>3910.0</td>\n",
       "      <td>4620.0</td>\n",
       "      <td>84.632035</td>\n",
       "    </tr>\n",
       "  </tbody>\n",
       "</table>\n",
       "</div>"
      ],
      "text/plain": [
       "                                      url  time_delta_months_whole  year  \\\n",
       "0  https://www.gofundme.com/f/-AMYSTRONG-                        1  2018   \n",
       "1  https://www.gofundme.com/f/-AMYSTRONG-                        2  2018   \n",
       "2  https://www.gofundme.com/f/-AMYSTRONG-                        3  2018   \n",
       "3  https://www.gofundme.com/f/-AMYSTRONG-                        4  2018   \n",
       "4  https://www.gofundme.com/f/-AMYSTRONG-                        5  2018   \n",
       "\n",
       "   don_amt  don_amt_cum  cum_amt_12mo    per_cum  \n",
       "0   3205.0       3205.0        4620.0  69.372294  \n",
       "1     50.0       3255.0        4620.0  70.454545  \n",
       "2    410.0       3665.0        4620.0  79.329004  \n",
       "3    195.0       3860.0        4620.0  83.549784  \n",
       "4     50.0       3910.0        4620.0  84.632035  "
      ]
     },
     "execution_count": 160,
     "metadata": {},
     "output_type": "execute_result"
    }
   ],
   "source": [
    "don_merge_gb.head()"
   ]
  },
  {
   "cell_type": "markdown",
   "metadata": {},
   "source": [
    "### Plot"
   ]
  },
  {
   "cell_type": "code",
   "execution_count": 161,
   "metadata": {},
   "outputs": [
    {
     "data": {
      "image/png": "[encoded data removed]",
      "text/plain": [
       "<Figure size 600x400 with 1 Axes>"
      ]
     },
     "metadata": {},
     "output_type": "display_data"
    }
   ],
   "source": [
    "sns.set(style=\"ticks\")\n",
    "plt.figure(figsize=(6, 4))\n",
    "\n",
    "ax = sns.barplot(data=don_merge_gb, \n",
    "              x='time_delta_months_whole', \n",
    "              y='per_cum',\n",
    "            capsize=0.2, errwidth=1.5,\n",
    "            errcolor=\".2\", edgecolor=\".2\",\n",
    "            color='lightblue', saturation=0.8,\n",
    "                 errorbar=None\n",
    "          )\n",
    "#errorbar='sd'\n",
    "\n",
    "ax.set_ylabel('Mean percent of amount raised \\n at 12 months, %')\n",
    "ax.set_xlabel('Months since campaign creation')\n",
    "ax.yaxis.grid(True)\n",
    "\n",
    "ax.bar_label(ax.containers[0], fontsize=12, fmt='%.1f')\n",
    "\n",
    "sns.despine()\n",
    "\n",
    "plt.show()\n",
    "\n",
    "# plt.savefig(\"../plots/donations.pdf\", bbox_inches='tight')"
   ]
  },
  {
   "cell_type": "code",
   "execution_count": 162,
   "metadata": {},
   "outputs": [
    {
     "data": {
      "text/html": [
       "<div>\n",
       "<style scoped>\n",
       "    .dataframe tbody tr th:only-of-type {\n",
       "        vertical-align: middle;\n",
       "    }\n",
       "\n",
       "    .dataframe tbody tr th {\n",
       "        vertical-align: top;\n",
       "    }\n",
       "\n",
       "    .dataframe thead th {\n",
       "        text-align: right;\n",
       "    }\n",
       "</style>\n",
       "<table border=\"1\" class=\"dataframe\">\n",
       "  <thead>\n",
       "    <tr style=\"text-align: right;\">\n",
       "      <th></th>\n",
       "      <th>mean</th>\n",
       "      <th>std</th>\n",
       "    </tr>\n",
       "    <tr>\n",
       "      <th>time_delta_months_whole</th>\n",
       "      <th></th>\n",
       "      <th></th>\n",
       "    </tr>\n",
       "  </thead>\n",
       "  <tbody>\n",
       "    <tr>\n",
       "      <th>1</th>\n",
       "      <td>79.637517</td>\n",
       "      <td>27.005133</td>\n",
       "    </tr>\n",
       "    <tr>\n",
       "      <th>2</th>\n",
       "      <td>87.713581</td>\n",
       "      <td>22.382399</td>\n",
       "    </tr>\n",
       "    <tr>\n",
       "      <th>3</th>\n",
       "      <td>91.443139</td>\n",
       "      <td>19.212313</td>\n",
       "    </tr>\n",
       "    <tr>\n",
       "      <th>4</th>\n",
       "      <td>93.530731</td>\n",
       "      <td>16.963283</td>\n",
       "    </tr>\n",
       "    <tr>\n",
       "      <th>5</th>\n",
       "      <td>95.025092</td>\n",
       "      <td>14.965028</td>\n",
       "    </tr>\n",
       "    <tr>\n",
       "      <th>6</th>\n",
       "      <td>96.140931</td>\n",
       "      <td>13.222232</td>\n",
       "    </tr>\n",
       "    <tr>\n",
       "      <th>7</th>\n",
       "      <td>97.043168</td>\n",
       "      <td>11.607085</td>\n",
       "    </tr>\n",
       "    <tr>\n",
       "      <th>8</th>\n",
       "      <td>97.790030</td>\n",
       "      <td>9.942755</td>\n",
       "    </tr>\n",
       "    <tr>\n",
       "      <th>9</th>\n",
       "      <td>98.418886</td>\n",
       "      <td>8.359191</td>\n",
       "    </tr>\n",
       "    <tr>\n",
       "      <th>10</th>\n",
       "      <td>99.001851</td>\n",
       "      <td>6.591964</td>\n",
       "    </tr>\n",
       "    <tr>\n",
       "      <th>11</th>\n",
       "      <td>99.518571</td>\n",
       "      <td>4.369141</td>\n",
       "    </tr>\n",
       "    <tr>\n",
       "      <th>12</th>\n",
       "      <td>100.000000</td>\n",
       "      <td>0.000000</td>\n",
       "    </tr>\n",
       "  </tbody>\n",
       "</table>\n",
       "</div>"
      ],
      "text/plain": [
       "                               mean        std\n",
       "time_delta_months_whole                       \n",
       "1                         79.637517  27.005133\n",
       "2                         87.713581  22.382399\n",
       "3                         91.443139  19.212313\n",
       "4                         93.530731  16.963283\n",
       "5                         95.025092  14.965028\n",
       "6                         96.140931  13.222232\n",
       "7                         97.043168  11.607085\n",
       "8                         97.790030   9.942755\n",
       "9                         98.418886   8.359191\n",
       "10                        99.001851   6.591964\n",
       "11                        99.518571   4.369141\n",
       "12                       100.000000   0.000000"
      ]
     },
     "execution_count": 162,
     "metadata": {},
     "output_type": "execute_result"
    }
   ],
   "source": [
    "don_merge_gb.groupby('time_delta_months_whole')['per_cum'].agg([np.mean, np.std])"
   ]
  }
 ],
 "metadata": {
  "kernelspec": {
   "display_name": "Python 3 (ipykernel)",
   "language": "python",
   "name": "python3"
  },
  "language_info": {
   "codemirror_mode": {
    "name": "ipython",
    "version": 3
   },
   "file_extension": ".py",
   "mimetype": "text/x-python",
   "name": "python",
   "nbconvert_exporter": "python",
   "pygments_lexer": "ipython3",
   "version": "3.10.9"
  },
  "toc-autonumbering": false,
  "toc-showtags": false
 },
 "nbformat": 4,
 "nbformat_minor": 4
}
